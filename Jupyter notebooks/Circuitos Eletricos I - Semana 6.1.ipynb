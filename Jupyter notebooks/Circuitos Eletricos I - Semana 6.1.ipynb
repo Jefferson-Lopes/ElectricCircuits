{
 "cells": [
  {
   "cell_type": "code",
   "execution_count": null,
   "metadata": {},
   "outputs": [],
   "source": [
    "from IPython.core.display import HTML\n",
    "from IPython.display import Image\n",
    "from IPython.display import display, Math\n",
    "from IPython.display import display as disp\n",
    "\n",
    "HTML(\"\"\"\n",
    "<style>\n",
    ".output_png {\n",
    "    display: table-cell;\n",
    "    text-align: center;\n",
    "    vertical-align: middle;\n",
    "}\n",
    "</style>\n",
    "\"\"\")"
   ]
  },
  {
   "cell_type": "markdown",
   "metadata": {},
   "source": [
    "# *Circuitos Elétricos I - Semana 6*"
   ]
  },
  {
   "cell_type": "markdown",
   "metadata": {},
   "source": [
    "### Problema 1\n",
    "  \n",
    "Para o circuito abaixo, tem-se que $v(t)=-1800te^{-20t}$ para $t\\geq0$ e $i_1(0)=4\\;A$ e $i_2(0)=-16\\;A$\n",
    "\n",
    "a) Determine $i_1(t)$ e $i_2(t)$ para $t\\geq0$.\\\n",
    "b) Determine a energia fornecida à fonte de tensão no intervalo $0\\leq t \\leq\\infty$.\\\n",
    "c) Determine a energia inicial armazenada nos indutores.\\\n",
    "d) Determine a energia final armazenada nos indutores."
   ]
  },
  {
   "cell_type": "code",
   "execution_count": null,
   "metadata": {},
   "outputs": [],
   "source": [
    "Image(\"./figures/J8C1.png\", width=500)"
   ]
  },
  {
   "cell_type": "code",
   "execution_count": null,
   "metadata": {},
   "outputs": [],
   "source": [
    "import matplotlib.pyplot as plt\n",
    "import numpy as np\n",
    "\n",
    "tmax = 1\n",
    "t = np.linspace(0, tmax, num = 1000)\n",
    "v = -1800*t*np.exp(-20*t)\n",
    "\n",
    "plt.plot(t, v)\n",
    "plt.xlim(0, tmax)\n",
    "plt.grid()\n",
    "plt.xlabel('t [s]')\n",
    "plt.ylabel('v(t) [V]')\n",
    "plt.show()"
   ]
  },
  {
   "cell_type": "code",
   "execution_count": null,
   "metadata": {},
   "outputs": [],
   "source": [
    "# valores das indutâncias\n",
    "L1 = 10\n",
    "L2 = 30\n",
    "\n",
    "# valores iniciais das correntes\n",
    "i1_0 = 4\n",
    "i2_0 = -16"
   ]
  },
  {
   "cell_type": "code",
   "execution_count": null,
   "metadata": {},
   "outputs": [],
   "source": [
    "from sympy import *\n",
    "\n",
    "# define as variáveis \n",
    "t, τ = symbols('t, τ')\n",
    "\n",
    "# define v(τ)\n",
    "v = -1800*τ*exp(-20*τ)\n",
    "\n",
    "# correntes nos indutores em função da tensão aplicada aos terminais\n",
    "i1 = -(1/L1)*integrate(v, (τ, 0, t)) + i1_0\n",
    "i2 = -(1/L2)*integrate(v, (τ, 0, t)) + i2_0\n",
    "\n",
    "print('Correntes nos indutores:')\n",
    "print('i1(t) = ', i1 , ' A')\n",
    "print('i2(t) = ', i2 , ' A')"
   ]
  },
  {
   "cell_type": "code",
   "execution_count": null,
   "metadata": {},
   "outputs": [],
   "source": [
    "# LKC\n",
    "i = i1 + i2\n",
    "\n",
    "# define v(t)\n",
    "v = -1800*t*exp(-20*t) \n",
    "\n",
    "# potência fornecida à fonte\n",
    "p = v*i\n",
    "\n",
    "# energia entrege à fonte\n",
    "E = integrate(p, (t, 0, oo))\n",
    "print('Energia entrege à fonte:')\n",
    "print('E = %.2f J' %E)"
   ]
  },
  {
   "cell_type": "code",
   "execution_count": null,
   "metadata": {},
   "outputs": [],
   "source": [
    "i1.simplify()"
   ]
  },
  {
   "cell_type": "code",
   "execution_count": null,
   "metadata": {},
   "outputs": [],
   "source": [
    "# calculando os valores de energia em t=0\n",
    "\n",
    "E1_0 = (1/2)*L1*(i1.evalf(subs={t:0}))**2\n",
    "E2_0 = (1/2)*L2*(i2.evalf(subs={t:0}))**2\n",
    "\n",
    "print('Energia inicial armazenada nos indutores:')\n",
    "print('E1(0) = %.2f J' %E1_0)\n",
    "print('E2(0) = %.2f J' %E2_0)"
   ]
  },
  {
   "cell_type": "code",
   "execution_count": null,
   "metadata": {},
   "outputs": [],
   "source": [
    "# calculando os valores de energia em t =oo\n",
    "\n",
    "E1_inf = (1/2)*L1*(i1.evalf(subs={t:100}))**2\n",
    "E2_inf = (1/2)*L2*(i2.evalf(subs={t:100}))**2\n",
    "\n",
    "print('Energia final armazenada nos indutores:')\n",
    "print('E1(oo) = %.2f J' %E1_inf)\n",
    "print('E2(oo) = %.2f J' %E2_inf)"
   ]
  },
  {
   "cell_type": "code",
   "execution_count": null,
   "metadata": {
    "lines_to_next_cell": 0
   },
   "outputs": [],
   "source": [
    "# calculando a variação de energia nos indutores\n",
    "\n",
    "ΔE = (E1_inf-E1_0) + (E2_inf-E2_0)\n",
    "\n",
    "print('Variação da energia armazenada nos indutores:')\n",
    "print('ΔE = %.2f J' %ΔE)"
   ]
  },
  {
   "cell_type": "markdown",
   "metadata": {},
   "source": [
    "### Problema 2\n",
    "\n",
    "Cálculo de indutâncias equivalentes com acoplamento magnético"
   ]
  },
  {
   "cell_type": "code",
   "execution_count": null,
   "metadata": {},
   "outputs": [],
   "source": [
    "Image(\"./figures/J8C2.png\", width=700)"
   ]
  },
  {
   "cell_type": "markdown",
   "metadata": {},
   "source": [
    "$$\n",
    "\\begin{aligned}\n",
    "&v_L = L_{1} \\frac{d i_{1}}{d t}+M \\frac{d i_{2}}{d t}\\\\\n",
    "&v_L = L_{2} \\frac{d i_{2}}{d t}+M \\frac{d i_{1}}{d t}\n",
    "\\end{aligned}\n",
    "$$"
   ]
  },
  {
   "cell_type": "code",
   "execution_count": null,
   "metadata": {
    "lines_to_next_cell": 2
   },
   "outputs": [],
   "source": [
    "L1, L2, M, vL, t = symbols('L_1, L_2, M, v_L, t', real=True)"
   ]
  },
  {
   "cell_type": "code",
   "execution_count": null,
   "metadata": {},
   "outputs": [],
   "source": [
    "i1 = Function('i_1')(t)\n",
    "i2 = Function('i_2')(t)\n",
    "\n",
    "A  = Matrix([[L1, M],[M, L2]])\n",
    "V  = Matrix([[vL],[vL]])\n",
    "\n",
    "I  = Matrix([[i1],[i2]])\n",
    "dI = diff(I, t)\n",
    "\n",
    "disp(Math('A = '+latex(A)))\n",
    "disp(Math('V = '+latex(V)))\n",
    "disp(Math('dI = '+latex(dI)))"
   ]
  },
  {
   "cell_type": "code",
   "execution_count": null,
   "metadata": {},
   "outputs": [],
   "source": [
    "Eq(V, A*dI)"
   ]
  },
  {
   "cell_type": "code",
   "execution_count": null,
   "metadata": {},
   "outputs": [],
   "source": [
    "# matriz inversa de A\n",
    "\n",
    "disp(Math(r'A^{-1} = '+latex(A**-1)))"
   ]
  },
  {
   "cell_type": "code",
   "execution_count": null,
   "metadata": {},
   "outputs": [],
   "source": [
    "# calcula o vetor de derivadas das correntes\n",
    "\n",
    "dI = (A**-1)*V\n",
    "dI.simplify()\n",
    "\n",
    "disp(Math(r'\\frac{dI}{dt} = '+latex(dI)))"
   ]
  },
  {
   "cell_type": "code",
   "execution_count": null,
   "metadata": {},
   "outputs": [],
   "source": [
    "# di0/dt = di1/dt + di2/dt \n",
    "\n",
    "dI0 = dI[0] + dI[1]\n",
    "\n",
    "disp(Math(r'\\frac{di_0}{dt} = \\frac{di_1}{dt} + \\frac{di_2}{dt} =  '+latex(dI0.simplify())))"
   ]
  },
  {
   "cell_type": "code",
   "execution_count": null,
   "metadata": {},
   "outputs": [],
   "source": [
    "# indutância equivalente: vL = Leq*di0/dt -> Leq = vL/di0/dt\n",
    "Leq = vL/dI0\n",
    "\n",
    "disp(Math('L_{eq} = '+latex(Leq.simplify())))"
   ]
  }
 ],
 "metadata": {
  "jupytext": {
   "encoding": "# -*- coding: utf-8 -*-",
   "formats": "ipynb,py:light"
  },
  "kernelspec": {
   "display_name": "Python 3",
   "language": "python",
   "name": "python3"
  },
  "language_info": {
   "codemirror_mode": {
    "name": "ipython",
    "version": 3
   },
   "file_extension": ".py",
   "mimetype": "text/x-python",
   "name": "python",
   "nbconvert_exporter": "python",
   "pygments_lexer": "ipython3",
   "version": "3.7.4"
  },
  "toc": {
   "base_numbering": 1,
   "nav_menu": {},
   "number_sections": true,
   "sideBar": true,
   "skip_h1_title": true,
   "title_cell": "Table of Contents",
   "title_sidebar": "Contents",
   "toc_cell": true,
   "toc_position": {
    "height": "calc(100% - 180px)",
    "left": "10px",
    "top": "150px",
    "width": "200.475px"
   },
   "toc_section_display": true,
   "toc_window_display": true
  },
  "varInspector": {
   "cols": {
    "lenName": 16,
    "lenType": 16,
    "lenVar": 40
   },
   "kernels_config": {
    "python": {
     "delete_cmd_postfix": "",
     "delete_cmd_prefix": "del ",
     "library": "var_list.py",
     "varRefreshCmd": "print(var_dic_list())"
    },
    "r": {
     "delete_cmd_postfix": ") ",
     "delete_cmd_prefix": "rm(",
     "library": "var_list.r",
     "varRefreshCmd": "cat(var_dic_list()) "
    }
   },
   "types_to_exclude": [
    "module",
    "function",
    "builtin_function_or_method",
    "instance",
    "_Feature"
   ],
   "window_display": false
  }
 },
 "nbformat": 4,
 "nbformat_minor": 2
}
