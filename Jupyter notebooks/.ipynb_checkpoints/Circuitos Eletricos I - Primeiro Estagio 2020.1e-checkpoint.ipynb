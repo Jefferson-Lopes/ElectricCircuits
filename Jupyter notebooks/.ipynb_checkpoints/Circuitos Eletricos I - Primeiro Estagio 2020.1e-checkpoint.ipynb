{
 "cells": [
  {
   "cell_type": "markdown",
   "metadata": {},
   "source": [
    "# *Circuitos Elétricos I - Primeiro Estágio 2020.1e*\n",
    "\n",
    "## Gabarito da avaliação"
   ]
  },
  {
   "cell_type": "code",
   "execution_count": 71,
   "metadata": {},
   "outputs": [],
   "source": [
    "m = [9,1,6] # últimos dígitos da matrícula"
   ]
  },
  {
   "cell_type": "code",
   "execution_count": 72,
   "metadata": {},
   "outputs": [],
   "source": [
    "import numpy as np\n",
    "import sympy as sp"
   ]
  },
  {
   "cell_type": "markdown",
   "metadata": {},
   "source": [
    "### Problema 1"
   ]
  },
  {
   "cell_type": "markdown",
   "metadata": {},
   "source": [
    "a. $R_{eq}=?$"
   ]
  },
  {
   "cell_type": "code",
   "execution_count": 73,
   "metadata": {},
   "outputs": [],
   "source": [
    "# define valores das resistências\n",
    "R1 = (m[0]+1)*1e3\n",
    "R2 = (m[1]+1)*1e3 \n",
    "R3 = (m[2]+1)*1e3"
   ]
  },
  {
   "cell_type": "code",
   "execution_count": 74,
   "metadata": {},
   "outputs": [
    {
     "name": "stdout",
     "output_type": "stream",
     "text": [
      "Req = 1.69 kΩ\n"
     ]
    }
   ],
   "source": [
    "Req = ((R1+R3)*2*R3)/(R1+3*R3)\n",
    "Req = Req + 3*R2\n",
    "Req = (Req*R2)/(Req+R2)\n",
    "\n",
    "print('Req = %.2f kΩ' %(Req/1000))"
   ]
  },
  {
   "cell_type": "markdown",
   "metadata": {},
   "source": [
    "b. Leitura do voltímetro ideal"
   ]
  },
  {
   "cell_type": "code",
   "execution_count": 75,
   "metadata": {},
   "outputs": [
    {
     "name": "stdout",
     "output_type": "stream",
     "text": [
      "Vmed = 45.45 V\n"
     ]
    }
   ],
   "source": [
    "# divisor de tensão\n",
    "Vs  = 100\n",
    "\n",
    "Req = ((R1+R3)*2*R3)/(R1+3*R3)\n",
    "\n",
    "Vmed1 = Vs*Req/(Req+3*R2)\n",
    "\n",
    "print('Vmed = %.2f V' %(Vmed1))"
   ]
  },
  {
   "cell_type": "markdown",
   "metadata": {},
   "source": [
    "c. Leitura do voltímetro de resistência interna $R_i = 20R_3$"
   ]
  },
  {
   "cell_type": "code",
   "execution_count": 76,
   "metadata": {},
   "outputs": [
    {
     "name": "stdout",
     "output_type": "stream",
     "text": [
      "Vmed = 44.25 V\n",
      "Erro absoluto = 1.21 V\n",
      "Erro percentual = 2.65 %\n"
     ]
    }
   ],
   "source": [
    "# divisor de tensão\n",
    "Vs  = 100\n",
    "\n",
    "Req = ((R1+R3)*2*R3)/(R1+3*R3)\n",
    "\n",
    "Req = (Req*20*R3)/(Req+20*R3)\n",
    "\n",
    "Vmed2 = Vs*Req/(Req+3*R2)\n",
    "\n",
    "Erro = (Vmed1-Vmed2)/Vmed1\n",
    "\n",
    "print('Vmed = %.2f V' %(Vmed2))\n",
    "print('Erro absoluto = %.2f V' %(Vmed1-Vmed2))\n",
    "print('Erro percentual = %.2f %%' %(Erro*100))"
   ]
  },
  {
   "cell_type": "markdown",
   "metadata": {},
   "source": [
    "### Problema 2"
   ]
  },
  {
   "cell_type": "code",
   "execution_count": 77,
   "metadata": {},
   "outputs": [
    {
     "name": "stdout",
     "output_type": "stream",
     "text": [
      "R1 =  2 Ω  R2 =  5 Ω\n"
     ]
    }
   ],
   "source": [
    "# define valores das resistências\n",
    "R1 = m[1]+1 \n",
    "R2 = m[2]+1\n",
    "print('R1 = ', R1, 'Ω', ' R2 = ', R2, 'Ω',)"
   ]
  },
  {
   "cell_type": "markdown",
   "metadata": {},
   "source": [
    "a. Correntes de malha"
   ]
  },
  {
   "cell_type": "code",
   "execution_count": 78,
   "metadata": {},
   "outputs": [
    {
     "name": "stdout",
     "output_type": "stream",
     "text": [
      "Equações: \n",
      "\n",
      " Eq(i1 + 2*ix, 0) \n",
      " Eq(i2 + ix, 0) \n",
      " Eq(i3 - 0.5, 0) \n",
      " Eq(-5*i1 + 15*i2 - 4*i3 - 10, 0) \n",
      "\n",
      "Correntes de malha:\n",
      "\n",
      " i1 = 4.80 A,\n",
      " i2 = 2.40 A,\n",
      " i3 = 0.50 A,\n",
      " ix = -2.40 A.\n"
     ]
    }
   ],
   "source": [
    "# define as variáveis \n",
    "i1, i2, i3, ix = sp.symbols('i1, i2, i3, ix')\n",
    "\n",
    "# define os sistema de equações\n",
    "eq1 = sp.Eq(i1+2*ix,0)             \n",
    "eq2 = sp.Eq(i2+ix,0)  \n",
    "eq3 = sp.Eq(i3-0.5,0)\n",
    "eq4 = sp.Eq(-R2*(i1-i2)-10+2*R1*(i2-i3)+3*R1*i2,0)\n",
    "\n",
    "# resolve o sistema\n",
    "soluc = sp.solve((eq1, eq2, eq3, eq4), dict=True)\n",
    "print('Equações: \\n\\n', eq1,'\\n', eq2,'\\n', eq3,'\\n', eq4,'\\n')\n",
    "\n",
    "i1 = np.array([sol[i1] for sol in soluc])\n",
    "i2 = np.array([sol[i2] for sol in soluc]) \n",
    "i3 = np.array([sol[i3] for sol in soluc]) \n",
    "ix = np.array([sol[ix] for sol in soluc]) \n",
    "\n",
    "print('Correntes de malha:\\n\\n i1 = %.2f A,\\n i2 = %.2f A,\\n i3 = %.2f A,\\n ix = %.2f A.' %(i1, i2, i3, ix))"
   ]
  },
  {
   "cell_type": "markdown",
   "metadata": {},
   "source": [
    "b. $v_a=?$,  $v_b=?$"
   ]
  },
  {
   "cell_type": "code",
   "execution_count": 79,
   "metadata": {},
   "outputs": [
    {
     "name": "stdout",
     "output_type": "stream",
     "text": [
      "va = 12.00 V\n",
      "vb = 7.60 V\n"
     ]
    }
   ],
   "source": [
    "va = R2*(i1-i2)\n",
    "vb = 2*R1*(i2-i3)\n",
    "\n",
    "print('va = %.2f V' %(va))\n",
    "print('vb = %.2f V' %(vb))"
   ]
  },
  {
   "cell_type": "markdown",
   "metadata": {},
   "source": [
    "c. Potências"
   ]
  },
  {
   "cell_type": "code",
   "execution_count": 80,
   "metadata": {},
   "outputs": [
    {
     "name": "stdout",
     "output_type": "stream",
     "text": [
      "Potências:\n",
      "\n",
      " p_CI = -103.68 W,\n",
      " p_V = -24.00 W,\n",
      " p_I = -4.95 W,\n",
      " p_R = 132.63 W.\n",
      "\n",
      "Soma das potências: 0.00 W.\n"
     ]
    }
   ],
   "source": [
    "# tensões desconhecidas\n",
    "v_cI = R1*i1 + va\n",
    "v_I  = vb - 7*R2*i3\n",
    "\n",
    "# potências\n",
    "p_cI = 2*ix*v_cI\n",
    "p_V  = -10*i2\n",
    "p_I  = v_I*i3\n",
    "p_R  = R1*i1**2 + R2*(i1-i2)**2 + 3*R1*i2**2 + 2*R1*(i2-i3)**2 + 7*R2*i3**2\n",
    "\n",
    "print('Potências:\\n\\n p_CI = %.2f W,\\n p_V = %.2f W,\\n p_I = %.2f W,\\n p_R = %.2f W.\\n' %(p_cI, p_V, p_I, p_R))\n",
    "print('Soma das potências: %.2f W.'%(p_cI+p_V+p_I+p_R))"
   ]
  },
  {
   "cell_type": "markdown",
   "metadata": {},
   "source": [
    "### Problema 3"
   ]
  },
  {
   "cell_type": "markdown",
   "metadata": {},
   "source": [
    "a. $v_{th}=?$ utilizando o princípio da superposição"
   ]
  },
  {
   "cell_type": "code",
   "execution_count": 81,
   "metadata": {},
   "outputs": [],
   "source": [
    "# define valores das resistências\n",
    "R1 = m[0]+1 \n",
    "R2 = m[1]+1 \n",
    "R3 = m[2]+1"
   ]
  },
  {
   "cell_type": "code",
   "execution_count": 82,
   "metadata": {},
   "outputs": [
    {
     "name": "stdout",
     "output_type": "stream",
     "text": [
      "vth 1 = -0.43 V\n",
      "vth 2 = -0.20 V\n",
      "vth 3 = -3.40 V\n",
      "vth(superposição) = -4.03 V\n"
     ]
    }
   ],
   "source": [
    "# define variáveis auxiliares x, y, z\n",
    "x = 12  \n",
    "y = 2   \n",
    "z = 10  \n",
    "\n",
    "vth = 0\n",
    "for ind in range(0,3):\n",
    "    # define as variáveis \n",
    "    v1, v2, v3 = sp.symbols('v1, v2, v3')\n",
    "    if ind == 0: # fonte de corrente 1A\n",
    "        x = 12\n",
    "        y = 0\n",
    "        z = 0\n",
    "    elif ind == 1:# fonte de tensão 2V\n",
    "        x = 0\n",
    "        y = 2\n",
    "        z = 0\n",
    "    elif ind == 2:# fonte de tensão 10V\n",
    "        x = 0\n",
    "        y = 0\n",
    "        z = 10\n",
    "        \n",
    "    # define os sistema de equações \n",
    "    eq1 = sp.Eq(-v1/(R1+12) -v1/2 - (v2-v3)/3 - (v2-v3)/(R3+2), -x/(R1+12)+y/(R3+2))             \n",
    "    eq2 = sp.Eq(v2-v1, z)  \n",
    "    eq3 = sp.Eq(-v3/R2 + (v2-v3)/3 + (v2-v3)/(R3+2), -y/(R3+2))\n",
    "\n",
    "    # resolve o sistema\n",
    "    soluc = sp.solve((eq1, eq2, eq3), dict=True)\n",
    "\n",
    "    v1 = np.array([sol[v1] for sol in soluc])\n",
    "    v2 = np.array([sol[v2] for sol in soluc]) \n",
    "    v3 = np.array([sol[v3] for sol in soluc]) \n",
    "\n",
    "    vth = vth + (-v3)\n",
    "        \n",
    "    print('vth %d = %.2f V' %(ind+1, -v3))   \n",
    "    \n",
    "print('vth(superposição) = %.2f V' %(vth))"
   ]
  },
  {
   "cell_type": "markdown",
   "metadata": {},
   "source": [
    "b. $R_{th}=?$"
   ]
  },
  {
   "cell_type": "code",
   "execution_count": 83,
   "metadata": {},
   "outputs": [
    {
     "name": "stdout",
     "output_type": "stream",
     "text": [
      "Via resistência equivalente:\n",
      "Rth = 1.32 Ω\n",
      "\n",
      "Via corrente de curto circuito:\n",
      "Rth = 1.32 Ω\n"
     ]
    }
   ],
   "source": [
    "# Rth via resistência equivalente\n",
    "Req1 = ((R1+12)*2)/(R1+14)\n",
    "Req2 = ((R3+2)*3)/(R3+5)\n",
    "\n",
    "Req = ((Req1+Req2)*R2)/(Req1+Req2+R2)\n",
    "print('Via resistência equivalente:')\n",
    "print('Rth = %.2f Ω\\n' %(Req))\n",
    "\n",
    "# Rth via Icc\n",
    "\n",
    "# define variáveis auxiliares x, y, z\n",
    "x = 12  # fonte de corrente 1A (transformada para fonte de tensão)\n",
    "y = 2   # fonte de tensão 2V\n",
    "z = 10  # fonte de tensão 10V\n",
    "\n",
    "# define as variáveis \n",
    "v1, v2 = sp.symbols('v1, v2')\n",
    "\n",
    "# define os sistema de equações \n",
    "eq1 = sp.Eq(-v1/(R1+12) -v1/2 - v2/3 - v2/(R3+2), -x/(R1+12)+y/(R3+2))             \n",
    "eq2 = sp.Eq(v2-v1, z)  \n",
    "\n",
    "# resolve o sistema\n",
    "soluc = sp.solve((eq1, eq2), dict=True)\n",
    "\n",
    "v1 = np.array([sol[v1] for sol in soluc])\n",
    "v2 = np.array([sol[v2] for sol in soluc]) \n",
    "\n",
    "icc = -v2/3 - (v2+2)/(R3+2)\n",
    "\n",
    "# calcula vth/icc\n",
    "Rth = vth/icc\n",
    "\n",
    "print('Via corrente de curto circuito:')\n",
    "print('Rth = %.2f Ω' %(Rth))"
   ]
  },
  {
   "cell_type": "markdown",
   "metadata": {},
   "source": [
    "c. $R_L=?$ tal que $\\eta = 0.9$, onde $\\eta = \\frac{v_{th}i}{R_Li^2}$."
   ]
  },
  {
   "cell_type": "code",
   "execution_count": 84,
   "metadata": {},
   "outputs": [
    {
     "name": "stdout",
     "output_type": "stream",
     "text": [
      "RL = 11.89 Ω\n"
     ]
    }
   ],
   "source": [
    "print('RL = %.2f Ω' %(9*Rth))"
   ]
  }
 ],
 "metadata": {
  "kernelspec": {
   "display_name": "Python 3",
   "language": "python",
   "name": "python3"
  },
  "language_info": {
   "codemirror_mode": {
    "name": "ipython",
    "version": 3
   },
   "file_extension": ".py",
   "mimetype": "text/x-python",
   "name": "python",
   "nbconvert_exporter": "python",
   "pygments_lexer": "ipython3",
   "version": "3.7.4"
  },
  "toc": {
   "base_numbering": 1,
   "nav_menu": {},
   "number_sections": true,
   "sideBar": true,
   "skip_h1_title": true,
   "title_cell": "Table of Contents",
   "title_sidebar": "Contents",
   "toc_cell": true,
   "toc_position": {
    "height": "calc(100% - 180px)",
    "left": "10px",
    "top": "150px",
    "width": "200.475px"
   },
   "toc_section_display": true,
   "toc_window_display": true
  }
 },
 "nbformat": 4,
 "nbformat_minor": 2
}
