{
 "cells": [
  {
   "cell_type": "code",
   "execution_count": null,
   "metadata": {},
   "outputs": [],
   "source": [
    "from IPython.core.display import HTML\n",
    "HTML(\"\"\"\n",
    "<style>\n",
    ".output_png {\n",
    "    display: table-cell;\n",
    "    text-align: center;\n",
    "    vertical-align: middle;\n",
    "}\n",
    "</style>\n",
    "\"\"\")"
   ]
  },
  {
   "cell_type": "markdown",
   "metadata": {},
   "source": [
    "# *Circuitos Elétricos I*"
   ]
  },
  {
   "cell_type": "markdown",
   "metadata": {},
   "source": [
    "## Semana 2 - Exercícios\n",
    "\n",
    "### Exercício 1: circuito com fonte controlada de corrente\n",
    "\n",
    "No circuito abaixo, dado que $\\frac{V_0}{V_s}=9$, determine o valor de $A$."
   ]
  },
  {
   "cell_type": "code",
   "execution_count": null,
   "metadata": {
    "scrolled": false
   },
   "outputs": [],
   "source": [
    "from IPython.display import Image\n",
    "Image(\"J2C1.png\", width=600)"
   ]
  },
  {
   "cell_type": "markdown",
   "metadata": {},
   "source": [
    "### Exercício 2: circuito com fonte controlada de tensão\n",
    "\n",
    "Determine o valor de todas as correntes no circuito abaixo."
   ]
  },
  {
   "cell_type": "code",
   "execution_count": null,
   "metadata": {},
   "outputs": [],
   "source": [
    "from IPython.display import Image\n",
    "Image(\"J2C2.png\", width=500)"
   ]
  },
  {
   "cell_type": "markdown",
   "metadata": {},
   "source": [
    "### Solução das equações"
   ]
  },
  {
   "cell_type": "code",
   "execution_count": null,
   "metadata": {},
   "outputs": [],
   "source": [
    "import sympy as sp\n",
    "import numpy as np"
   ]
  },
  {
   "cell_type": "code",
   "execution_count": null,
   "metadata": {},
   "outputs": [],
   "source": [
    "# define as N variáveis desconhecidas\n",
    "i1, i2, i3, i4 = sp.symbols('i1, i2, i3, i4')\n",
    "\n",
    "# define os sistema de N equações\n",
    "eq1 = sp.Eq(i1 - i2 + i3,    0)             \n",
    "eq2 = sp.Eq(i1 + i3 -i4,     3)  \n",
    "eq3 = sp.Eq(30*i2 + 10*i3, -11)\n",
    "eq4 = sp.Eq(20*i1 + 30*i2,  -5)\n",
    "\n",
    "# resolve o sistema\n",
    "soluc = sp.solve((eq1, eq2, eq3, eq4), dict=True)\n",
    "\n",
    "i1 = np.array([sol[i1] for sol in soluc])\n",
    "i2 = np.array([sol[i2] for sol in soluc]) \n",
    "i3 = np.array([sol[i3] for sol in soluc]) \n",
    "i4 = np.array([sol[i4] for sol in soluc]) \n",
    "ix = 3\n",
    "\n",
    "print('Solução do sistema:\\n\\n i1 = %.3f A,\\n i2 = %.3f A,\\n i3 = %.3f A,\\n i4 = %.3f A, \\n ix = %.3f A.'\\\n",
    "      %(i1, i2, i3, i4, ix))"
   ]
  },
  {
   "cell_type": "markdown",
   "metadata": {},
   "source": [
    "#### Cálculo das potências"
   ]
  },
  {
   "cell_type": "code",
   "execution_count": null,
   "metadata": {},
   "outputs": [],
   "source": [
    "# expressões para as potências associadas a cada corrente\n",
    "p1 = 20*i1**2\n",
    "p2 = 30*i2**2 -10*i2\n",
    "p3 = 10*i3**2 + 6*i3\n",
    "p4 = 15*i4\n",
    "px = 5*ix**2\n",
    "\n",
    "print('Potências:\\n\\n p1 = %.2f W,\\n p2 = %.2f W,\\n p3 = %.2f W,\\n p4 = %.2f W\\n px = %.2f W'\\\n",
    "      %(p1, p2, p3, p4, px))"
   ]
  },
  {
   "cell_type": "code",
   "execution_count": null,
   "metadata": {},
   "outputs": [],
   "source": [
    "# calcula somatório das potências\n",
    "print('Somatório das potências : %.2f W\\n' %(p1+p2+p3+p4+px))"
   ]
  },
  {
   "cell_type": "code",
   "execution_count": null,
   "metadata": {},
   "outputs": [],
   "source": []
  }
 ],
 "metadata": {
  "kernelspec": {
   "display_name": "Python 3",
   "language": "python",
   "name": "python3"
  },
  "language_info": {
   "codemirror_mode": {
    "name": "ipython",
    "version": 3
   },
   "file_extension": ".py",
   "mimetype": "text/x-python",
   "name": "python",
   "nbconvert_exporter": "python",
   "pygments_lexer": "ipython3",
   "version": "3.7.4"
  },
  "toc": {
   "base_numbering": 1,
   "nav_menu": {},
   "number_sections": true,
   "sideBar": true,
   "skip_h1_title": true,
   "title_cell": "Table of Contents",
   "title_sidebar": "Contents",
   "toc_cell": true,
   "toc_position": {},
   "toc_section_display": true,
   "toc_window_display": true
  }
 },
 "nbformat": 4,
 "nbformat_minor": 2
}
