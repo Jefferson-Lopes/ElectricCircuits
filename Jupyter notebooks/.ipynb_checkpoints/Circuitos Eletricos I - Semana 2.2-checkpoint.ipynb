{
 "cells": [
  {
   "cell_type": "code",
   "execution_count": null,
   "metadata": {},
   "outputs": [],
   "source": [
    "from IPython.core.display import HTML\n",
    "from IPython.display import Image\n",
    "HTML(\"\"\"\n",
    "<style>\n",
    ".output_png {\n",
    "    display: table-cell;\n",
    "    text-align: center;\n",
    "    vertical-align: middle;\n",
    "}\n",
    "</style>\n",
    "\"\"\")"
   ]
  },
  {
   "cell_type": "markdown",
   "metadata": {},
   "source": [
    "# *Circuitos Elétricos I*"
   ]
  },
  {
   "cell_type": "markdown",
   "metadata": {},
   "source": [
    "## Semana 2 - Circuitos divisores\n",
    "\n",
    "### Carregamento de um circuito de alimentação\n",
    "\n",
    "Quando uma fonte de tensão fornece energia a um dado elemento de circuito, diz-se que a fonte encontra-se *carregada*, ou que o elemento conectado à fonte é uma *carga* que está sendo alimentada pela fonte. De maneira geral, o carregamento de um circuito é o processo de introdução de elementos que extrairão corrente do circuito. Quanto maior for a  magnitude da corrente drenada, maior será o efeito de carregamento."
   ]
  },
  {
   "cell_type": "code",
   "execution_count": null,
   "metadata": {},
   "outputs": [],
   "source": [
    "Image(\"J3C0.png\", width=300)"
   ]
  },
  {
   "cell_type": "markdown",
   "metadata": {},
   "source": [
    "Da relação do divisor de tensão, temos que:\n",
    "\n",
    "$$ \\begin{align} v_x &= \\frac{R_x}{R_{eq}}v_s = \\frac{R_x}{R_x+R_y}v_s\\\\\n",
    "                 v_y &= \\frac{R_y}{R_{eq}}v_s = \\frac{R_y}{R_x+R_y}v_s\n",
    "    \\end{align}$$\n",
    "    \n",
    "Ao conectar uma carga $R_L$ ao resistor $R_y$, temos que a tensão $v_y$ será dada por:\n",
    "\n",
    "$$\\begin{align} v_y &= \\frac{(R_y||R_L)}{R_{eq}}v_s = \\frac{(R_y||R_L)}{R_x+(R_y||R_L)}v_s\\\\ \\\\\n",
    "                v_y &= \\frac{\\frac{R_yR_L}{R_y+R_L}}{R_x+\\frac{R_yR_L}{R_y+R_L}}v_s = \\frac{R_yR_L}{R_x(R_y+R_L)+R_yR_L}v_s = \\frac{R_y}{R_x(\\frac{R_y}{R_L}+1)+R_y}v_s\n",
    "\\end{align}$$\n",
    "\n",
    "\n",
    "Note que, se $R_L >> R_y$, a tensão $v_y$ com a carga conectada aproxima-se da tensão obtida com os terminais em aberto."
   ]
  },
  {
   "cell_type": "code",
   "execution_count": null,
   "metadata": {},
   "outputs": [],
   "source": [
    "from pylab import *\n",
    "\n",
    "# parâmetros do circuito\n",
    "Vs = 15\n",
    "Rx = 10\n",
    "Ry = 20\n",
    "\n",
    "# cálculo das tensões com o divisor de tensão carregado\n",
    "# com uma carga RL\n",
    "RL = arange(0,50000,10)\n",
    "Vy = zeros(RL.shape)\n",
    "Vx = zeros(RL.shape)\n",
    "iL = zeros(RL.shape)\n",
    "\n",
    "for ind in range(0, len(RL)):\n",
    "    if RL[ind] == 0:\n",
    "        Vy[ind] = 0\n",
    "        iL[ind] = Vs/Rx\n",
    "    else:\n",
    "        Vy[ind] = (Ry/(Rx*(Ry/RL[ind]+1)+Ry))*Vs\n",
    "        iL[ind] = Vy[ind]/RL[ind]\n",
    "        \n",
    "    Vx[ind] = Vs-Vy[ind]\n",
    "\n",
    "figure(figsize=(12,5))\n",
    "plot(RL, Vy,'-o', label='$v_y(R_L)$');\n",
    "plot(RL, Vx,'-*' , label='$v_x(R_L)$');\n",
    "hlines((Ry/(Rx+Ry))*Vs, RL.min(0),RL.max(0), label = '$v_y$');\n",
    "hlines((Rx/(Rx+Ry))*Vs, RL.min(0),RL.max(0), label = '$v_x$');\n",
    "\n",
    "legend()\n",
    "xlabel('$R_L$ [Ω]')\n",
    "ylabel('[V]')\n",
    "grid()\n",
    "\n",
    "figure(figsize=(12,4))\n",
    "plot(RL, iL,'-o', label='$i_L(R_L)$');\n",
    "\n",
    "legend()\n",
    "xlabel('$R_L$ [Ω]')\n",
    "ylabel('$i_L$ [A]')\n",
    "grid()\n",
    "\n",
    "Image(\"J3C0.png\", width=300)"
   ]
  },
  {
   "cell_type": "markdown",
   "metadata": {},
   "source": [
    "## Exercícios\n",
    "\n",
    "### Exercício 1: \n",
    "\n",
    "a. No circuito abaixo, $V_s=$120 V, determine o valor das tensões nos terminais $a$, $b$ e $c$ indicados.\n",
    "\n",
    "b. Determine o valor das tensões nos terminais indicados considerando que cada um deles alimenta uma carga de 20 $\\Omega$."
   ]
  },
  {
   "cell_type": "code",
   "execution_count": null,
   "metadata": {
    "scrolled": false
   },
   "outputs": [],
   "source": [
    "Image(\"J3C1.png\", width=400)"
   ]
  },
  {
   "cell_type": "markdown",
   "metadata": {},
   "source": [
    "### Exercício 2: \n",
    "\n",
    "Determine o valor de $R_1$, $R_2$ e $R_3$ no circuito divisor de tensão ilustrado na figura seguinte. O circuito pode ser projetado utilizando resistores de 2 W?"
   ]
  },
  {
   "cell_type": "code",
   "execution_count": null,
   "metadata": {},
   "outputs": [],
   "source": [
    "from IPython.display import Image\n",
    "Image(\"J3C2.png\", width=600)"
   ]
  },
  {
   "cell_type": "code",
   "execution_count": null,
   "metadata": {},
   "outputs": [],
   "source": [
    "Image(\"J4C1.png\", width=600)"
   ]
  },
  {
   "cell_type": "code",
   "execution_count": null,
   "metadata": {},
   "outputs": [],
   "source": [
    "def YDelta(R1,R2,R3):\n",
    "    \n",
    "    x = R1*R2+R2*R3+R3*R1\n",
    "    Ra = x/R1\n",
    "    Rb = x/R2\n",
    "    Rc = x/R3\n",
    "    \n",
    "    return Ra, Rb, Rc\n",
    "\n",
    "def DeltaY(Ra,Rb,Rc):\n",
    "    \n",
    "    x = Ra+Rb+Rc\n",
    "    R1 = (Rb*Rc)/x\n",
    "    R2 = (Ra*Rc)/x\n",
    "    R3 = (Rb*Ra)/x\n",
    "    \n",
    "    return R1, R2, R3"
   ]
  },
  {
   "cell_type": "code",
   "execution_count": null,
   "metadata": {},
   "outputs": [],
   "source": [
    "YDelta(3,3,3)"
   ]
  },
  {
   "cell_type": "code",
   "execution_count": null,
   "metadata": {},
   "outputs": [],
   "source": [
    "DeltaY(9,9,9)"
   ]
  },
  {
   "cell_type": "code",
   "execution_count": null,
   "metadata": {},
   "outputs": [],
   "source": []
  }
 ],
 "metadata": {
  "kernelspec": {
   "display_name": "Python 3",
   "language": "python",
   "name": "python3"
  },
  "language_info": {
   "codemirror_mode": {
    "name": "ipython",
    "version": 3
   },
   "file_extension": ".py",
   "mimetype": "text/x-python",
   "name": "python",
   "nbconvert_exporter": "python",
   "pygments_lexer": "ipython3",
   "version": "3.7.4"
  },
  "toc": {
   "base_numbering": 1,
   "nav_menu": {},
   "number_sections": true,
   "sideBar": true,
   "skip_h1_title": true,
   "title_cell": "Table of Contents",
   "title_sidebar": "Contents",
   "toc_cell": true,
   "toc_position": {},
   "toc_section_display": true,
   "toc_window_display": true
  }
 },
 "nbformat": 4,
 "nbformat_minor": 2
}
