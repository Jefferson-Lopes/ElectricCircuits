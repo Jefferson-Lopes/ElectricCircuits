{
 "cells": [
  {
   "cell_type": "code",
   "execution_count": 1,
   "metadata": {},
   "outputs": [
    {
     "data": {
      "text/html": [
       "\n",
       "<style>\n",
       ".output_png {\n",
       "    display: table-cell;\n",
       "    text-align: center;\n",
       "    vertical-align: middle;\n",
       "}\n",
       "</style>\n"
      ],
      "text/plain": [
       "<IPython.core.display.HTML object>"
      ]
     },
     "execution_count": 1,
     "metadata": {},
     "output_type": "execute_result"
    }
   ],
   "source": [
    "from IPython.core.display import HTML\n",
    "HTML(\"\"\"\n",
    "<style>\n",
    ".output_png {\n",
    "    display: table-cell;\n",
    "    text-align: center;\n",
    "    vertical-align: middle;\n",
    "}\n",
    "</style>\n",
    "\"\"\")"
   ]
  },
  {
   "cell_type": "markdown",
   "metadata": {},
   "source": [
    "# *Circuitos Elétricos I - Semana 12.1*"
   ]
  },
  {
   "cell_type": "code",
   "execution_count": 2,
   "metadata": {},
   "outputs": [],
   "source": [
    "import matplotlib.pyplot as plt\n",
    "import numpy as np\n",
    "import sympy as sp\n",
    "from utils import round_expr, symdisp, symplot\n",
    "\n",
    "from sympy.polys.partfrac import apart\n",
    "\n",
    "# temp workaround\n",
    "import warnings\n",
    "from matplotlib import MatplotlibDeprecationWarning\n",
    "warnings.filterwarnings('ignore', category=MatplotlibDeprecationWarning)\n",
    "\n",
    "plt.rcParams['figure.figsize'] = 6, 4\n",
    "plt.rcParams['legend.fontsize'] = 13\n",
    "plt.rcParams['lines.linewidth'] = 2\n",
    "plt.rcParams['axes.grid'] = False"
   ]
  },
  {
   "cell_type": "code",
   "execution_count": 3,
   "metadata": {},
   "outputs": [],
   "source": [
    "# transformada de Laplace\n",
    "def L(f,t,s):\n",
    "    return sp.laplace_transform(f, t, s, noconds=True)\n",
    "\n",
    "# transformada inversa de Laplace\n",
    "def invL(F,s,t):\n",
    "    return sp.re(sp.inverse_laplace_transform(F, s, t, noconds=True))\n",
    "\n",
    "# funções para auxílio na expansão em frações parciais\n",
    "def adjustCoeff(expr):    \n",
    "    coeff = expr.as_numer_denom()\n",
    "    c0 = sp.poly(coeff[1].cancel()).coeffs()[0]\n",
    "    \n",
    "    return (coeff[0].cancel()/c0)/(coeff[1].cancel()/c0)\n",
    "\n",
    "def partFrac(expr, Ndigits):\n",
    "    expr = expr.cancel()\n",
    "    expr = apart(adjustCoeff(expr), s, full=True).doit()\n",
    "    \n",
    "    return sp.N(expr, Ndigits)\n",
    "\n",
    "sp.init_printing()"
   ]
  },
  {
   "cell_type": "markdown",
   "metadata": {},
   "source": [
    "#### Definindo algumas variáveis simbólicas de interesse"
   ]
  },
  {
   "cell_type": "code",
   "execution_count": 4,
   "metadata": {},
   "outputs": [],
   "source": [
    "s     = sp.symbols('s')\n",
    "a     = sp.symbols('a', real=True, positive=True)\n",
    "omega, t = sp.symbols('omega, t', real=True)\n",
    "infty = sp.oo"
   ]
  },
  {
   "cell_type": "markdown",
   "metadata": {},
   "source": [
    "### Problema 1\n",
    "\n",
    "O circuito da figura a seguir está em regime estacionário no momento em que chave é aberta. Sabe-se que $v(t)=\\mathrm{12\\;V}$\n",
    "\n",
    "<img src=\"./figures/J15C1.png\" width=\"600\">\n",
    "\n",
    "a. Determine $I_0(s)$ e $I_1(s)$.\\\n",
    "b. Verifique a consistência das respostas do item a. com os teoremas do valor inicial e do valor final.\\\n",
    "c. Determine a função de transferência $H_0(s)$ entre $V(s)$ e $I_0(s)$.\\\n",
    "d. Determine a função de transferência $H_1(s)$ entre $V(s)$ e $I_1(s)$.\\\n",
    "e. Determine a função de transferência $H_c(s)$ entre $V(s)$ e $V_c(s)$.\\\n",
    "f. Determine a $v_c(t)$ para o caso em que a tensão aplicada $v(t)$ em $\\mathrm{V}$ corresponde ao gráfico a seguir:\n",
    "\n",
    "<img src=\"./figures/J15Fig1.png\" width=\"400\">"
   ]
  },
  {
   "cell_type": "markdown",
   "metadata": {},
   "source": [
    "a. Determinando $I_0(s)$ e $I_1(s)$:"
   ]
  },
  {
   "cell_type": "code",
   "execution_count": 5,
   "metadata": {},
   "outputs": [
    {
     "name": "stdout",
     "output_type": "stream",
     "text": [
      "Correntes no domínio de Laplace: \n",
      "\n"
     ]
    },
    {
     "data": {
      "text/latex": [
       "$\\displaystyle I_0(s) =- \\frac{150.0}{s^{3} + 35.0 s^{2} + 375.0 s + 3125.0}\\;As$"
      ],
      "text/plain": [
       "<IPython.core.display.Math object>"
      ]
     },
     "metadata": {},
     "output_type": "display_data"
    },
    {
     "data": {
      "text/latex": [
       "$\\displaystyle I_1(s) =\\frac{6.0 s^{2} + 210.0 s + 750.0}{5.0 s^{3} + 175.0 s^{2} + 1875.0 s + 15625.0}\\;As$"
      ],
      "text/plain": [
       "<IPython.core.display.Math object>"
      ]
     },
     "metadata": {},
     "output_type": "display_data"
    }
   ],
   "source": [
    "I0, I1, s = sp.symbols('I0, I1, s')\n",
    "\n",
    "# define os sistema de equações\n",
    "eq1 = sp.Eq((-2*s**2)*I0 + (2*s**2 + 10*s + 250)*I1, 2.4*s + 12)             \n",
    "eq2 = sp.Eq((4*s+50)*I0 -2*s*I1, -2.4)  \n",
    "\n",
    "# resolve o sistema\n",
    "soluc = sp.solve([eq1, eq2],[I0, I1], dict=True)\n",
    "soluc\n",
    "\n",
    "I0 = [sol[I0] for sol in soluc]\n",
    "I1 = [sol[I1] for sol in soluc]\n",
    "\n",
    "I0 = I0[0]\n",
    "I1 = I1[0]\n",
    "\n",
    "print('Correntes no domínio de Laplace: \\n')\n",
    "symdisp('I_0(s) =', I0, 'As')\n",
    "symdisp('I_1(s) =', I1, 'As')"
   ]
  },
  {
   "cell_type": "markdown",
   "metadata": {},
   "source": [
    "b. Checando a consistência das soluções\n",
    "\n",
    "**Teorema do valor inicial (tvi)**\n",
    "\n",
    "$$\n",
    "f(0^+) = \\lim_{t \\to 0^+}f(t) = \\lim_{s \\to \\infty}sF(s)\n",
    "$$\n"
   ]
  },
  {
   "cell_type": "code",
   "execution_count": 15,
   "metadata": {},
   "outputs": [
    {
     "data": {
      "text/latex": [
       "$\\displaystyle i_0(0^+) = 0\\; A$"
      ],
      "text/plain": [
       "<IPython.core.display.Math object>"
      ]
     },
     "metadata": {},
     "output_type": "display_data"
    },
    {
     "data": {
      "text/latex": [
       "$\\displaystyle i_1(0^+) = 1.2\\; A$"
      ],
      "text/plain": [
       "<IPython.core.display.Math object>"
      ]
     },
     "metadata": {},
     "output_type": "display_data"
    }
   ],
   "source": [
    "i0_0_tvi = sp.limit(s*I0, s, infty)\n",
    "i1_0_tvi = sp.limit(s*I1, s, infty)\n",
    "\n",
    "\n",
    "symdisp('i_0(0^+) = ', i0_0_tvi, ' A' )\n",
    "symdisp('i_1(0^+) = ', i1_0_tvi, ' A' )"
   ]
  },
  {
   "cell_type": "markdown",
   "metadata": {},
   "source": [
    "**Teorema do valor final (tvf)**\n",
    "\n",
    "$$\n",
    "f(\\infty) = \\lim_{t \\to \\infty}f(t) = \\lim_{s \\to 0}sF(s)\n",
    "$$\n",
    "\n"
   ]
  },
  {
   "cell_type": "code",
   "execution_count": 16,
   "metadata": {},
   "outputs": [
    {
     "data": {
      "text/latex": [
       "$\\displaystyle i_0(\\infty) = 0\\; A$"
      ],
      "text/plain": [
       "<IPython.core.display.Math object>"
      ]
     },
     "metadata": {},
     "output_type": "display_data"
    },
    {
     "data": {
      "text/latex": [
       "$\\displaystyle i_1(\\infty) = 0\\; A$"
      ],
      "text/plain": [
       "<IPython.core.display.Math object>"
      ]
     },
     "metadata": {},
     "output_type": "display_data"
    }
   ],
   "source": [
    "i0_inf_tvf = sp.limit(s*I0, s, 0)\n",
    "i1_inf_tvf = sp.limit(s*I1, s, 0)\n",
    "\n",
    "\n",
    "symdisp('i_0(\\infty) = ', i0_inf_tvf, ' A' )\n",
    "symdisp('i_1(\\infty) = ', i1_inf_tvf, ' A' )"
   ]
  },
  {
   "cell_type": "code",
   "execution_count": 17,
   "metadata": {},
   "outputs": [
    {
     "data": {
      "text/latex": [
       "$\\displaystyle V_c(s) =\\frac{300.0 s^{2} + 10500.0 s + 37500.0}{s \\left(1.0 s^{3} + 35.0 s^{2} + 375.0 s + 3125.0\\right)}\\;Vs$"
      ],
      "text/plain": [
       "<IPython.core.display.Math object>"
      ]
     },
     "metadata": {},
     "output_type": "display_data"
    }
   ],
   "source": [
    "C = 4e-3  # F\n",
    "\n",
    "# Calculando Vc\n",
    "Vc = (1/(s*C)*I1)\n",
    "\n",
    "Vc = Vc.simplify()\n",
    "\n",
    "symdisp('V_c(s) =', adjustCoeff(Vc).simplify(), 'Vs')"
   ]
  },
  {
   "cell_type": "code",
   "execution_count": 11,
   "metadata": {},
   "outputs": [
    {
     "data": {
      "text/plain": [
       "array([-25. +0.j,  -5.+10.j,  -5.-10.j,   0. +0.j])"
      ]
     },
     "execution_count": 11,
     "metadata": {},
     "output_type": "execute_result"
    }
   ],
   "source": [
    "np.roots([1, 35, 375, 3125, 0])"
   ]
  },
  {
   "cell_type": "code",
   "execution_count": 18,
   "metadata": {},
   "outputs": [
    {
     "data": {
      "text/latex": [
       "$\\displaystyle v_c(t) = 12.0 \\theta\\left(t\\right) + 3.0 e^{- 25.0 t} \\theta\\left(t\\right) + 30.0 e^{- 5.0 t} \\sin{\\left(10.0 t \\right)} \\theta\\left(t\\right) - 15.0 e^{- 5.0 t} \\cos{\\left(10.0 t \\right)} \\theta\\left(t\\right)\\; V$"
      ],
      "text/plain": [
       "<IPython.core.display.Math object>"
      ]
     },
     "metadata": {},
     "output_type": "display_data"
    }
   ],
   "source": [
    "vc = invL(partFrac(Vc, 4), s, t)\n",
    "\n",
    "symdisp('v_c(t) = ', vc, ' V')"
   ]
  },
  {
   "cell_type": "code",
   "execution_count": 21,
   "metadata": {},
   "outputs": [
    {
     "data": {
      "image/png": "[encoded data removed]",
      "text/plain": [
       "<Figure size 432x288 with 1 Axes>"
      ]
     },
     "metadata": {
      "needs_background": "light"
     },
     "output_type": "display_data"
    }
   ],
   "source": [
    "# plota funções no domínio do tempo\n",
    "intervalo = np.arange(-1, 4, 0.01)\n",
    "symplot(t, vc, intervalo, 'vc(t)')"
   ]
  },
  {
   "cell_type": "markdown",
   "metadata": {},
   "source": [
    "c-e) Determinando $H_0(s)$, $H_0(s)$ e $H_c(s)$."
   ]
  },
  {
   "cell_type": "code",
   "execution_count": 22,
   "metadata": {},
   "outputs": [
    {
     "data": {
      "text/latex": [
       "$\\displaystyle H_0(s) =- \\frac{12.5 s}{s^{3} + 35.0 s^{2} + 375.0 s + 3125.0}\\; $"
      ],
      "text/plain": [
       "<IPython.core.display.Math object>"
      ]
     },
     "metadata": {},
     "output_type": "display_data"
    }
   ],
   "source": [
    "V = 12/s\n",
    "\n",
    "H0 = I0/V\n",
    "\n",
    "symdisp('H_0(s) =', H0,)"
   ]
  },
  {
   "cell_type": "code",
   "execution_count": 24,
   "metadata": {},
   "outputs": [
    {
     "data": {
      "text/latex": [
       "$\\displaystyle H_1(s) =\\frac{0.1 s^{3} + 3.5 s^{2} + 12.5 s}{1.0 s^{3} + 35.0 s^{2} + 375.0 s + 3125.0}\\; $"
      ],
      "text/plain": [
       "<IPython.core.display.Math object>"
      ]
     },
     "metadata": {},
     "output_type": "display_data"
    }
   ],
   "source": [
    "H1 = I1/V\n",
    "H1 = adjustCoeff(H1)\n",
    "\n",
    "symdisp('H_1(s) =', H1,)"
   ]
  },
  {
   "cell_type": "code",
   "execution_count": 25,
   "metadata": {},
   "outputs": [
    {
     "data": {
      "text/latex": [
       "$\\displaystyle H_c(s) =\\frac{25.0 s^{2} + 875.0 s + 3125.0}{1.0 s^{3} + 35.0 s^{2} + 375.0 s + 3125.0}\\; $"
      ],
      "text/plain": [
       "<IPython.core.display.Math object>"
      ]
     },
     "metadata": {},
     "output_type": "display_data"
    }
   ],
   "source": [
    "Hc = Vc/V\n",
    "Hc = adjustCoeff(Hc)\n",
    "\n",
    "symdisp('H_c(s) =', Hc,)"
   ]
  },
  {
   "cell_type": "markdown",
   "metadata": {},
   "source": [
    "f. $v_c(t)=?$"
   ]
  },
  {
   "cell_type": "code",
   "execution_count": 98,
   "metadata": {},
   "outputs": [
    {
     "data": {
      "text/latex": [
       "$\\displaystyle v(t) =2 \\theta\\left(t\\right) + \\theta\\left(t - 2\\right) - 3 \\theta\\left(t - 1\\right)\\; V$"
      ],
      "text/plain": [
       "<IPython.core.display.Math object>"
      ]
     },
     "metadata": {},
     "output_type": "display_data"
    },
    {
     "data": {
      "image/png": "[encoded data removed]",
      "text/plain": [
       "<Figure size 432x288 with 1 Axes>"
      ]
     },
     "metadata": {
      "needs_background": "light"
     },
     "output_type": "display_data"
    }
   ],
   "source": [
    "v = 2*(sp.Heaviside(t)-sp.Heaviside(t-1)) - 1*(sp.Heaviside(t-1)-sp.Heaviside(t-2))\n",
    "\n",
    "symdisp('v(t) =', v, ' V')\n",
    "\n",
    "# plota funções no domínio do tempo\n",
    "intervalo = np.arange(-1, 3, 0.01)\n",
    "symplot(t, v1, intervalo, 'v(t)')"
   ]
  },
  {
   "cell_type": "code",
   "execution_count": 99,
   "metadata": {},
   "outputs": [
    {
     "data": {
      "text/latex": [
       "$\\displaystyle V(s) =\\frac{2}{s} - \\frac{3 e^{- s}}{s} + \\frac{e^{- 2 s}}{s}\\; Vs$"
      ],
      "text/plain": [
       "<IPython.core.display.Math object>"
      ]
     },
     "metadata": {},
     "output_type": "display_data"
    }
   ],
   "source": [
    "V = L(v,t,s)\n",
    "\n",
    "symdisp('V(s) =', V, ' Vs')"
   ]
  },
  {
   "cell_type": "code",
   "execution_count": 100,
   "metadata": {},
   "outputs": [
    {
     "data": {
      "text/latex": [
       "$\\displaystyle I_0(s) =\\frac{\\left(- 25.0 e^{2 s} + 37.5 e^{s} - 12.5\\right) e^{- 2 s}}{s^{3} + 35.0 s^{2} + 375.0 s + 3125.0}\\; As$"
      ],
      "text/plain": [
       "<IPython.core.display.Math object>"
      ]
     },
     "metadata": {},
     "output_type": "display_data"
    }
   ],
   "source": [
    "I0 = H0*V\n",
    "\n",
    "symdisp('I_0(s) =', I0.simplify(), ' As')"
   ]
  },
  {
   "cell_type": "code",
   "execution_count": 88,
   "metadata": {},
   "outputs": [
    {
     "data": {
      "text/latex": [
       "$\\displaystyle i_a(t) =1.0 \\left(0.002 e^{5.0 t} + 0.004 e^{25.0 t} \\sin{\\left(10.0 t \\right)} - 0.002 e^{25.0 t} \\cos{\\left(10.0 t \\right)}\\right) e^{- 30.0 t} \\theta\\left(t\\right)\\; A$"
      ],
      "text/plain": [
       "<IPython.core.display.Math object>"
      ]
     },
     "metadata": {},
     "output_type": "display_data"
    }
   ],
   "source": [
    "Ia = 1/(s**3 + 35*s**2 + 375*s + 3125)\n",
    "\n",
    "ia = invL(partFrac(Ia, 10), s, t)\n",
    "\n",
    "ia = ia.simplify()\n",
    "\n",
    "symdisp('i_a(t) =', ia , ' A')"
   ]
  },
  {
   "cell_type": "code",
   "execution_count": 90,
   "metadata": {},
   "outputs": [
    {
     "data": {
      "text/latex": [
       "$\\displaystyle i_0(t) =- 25.0 \\left(0.002 e^{5.0 t} + 0.004 e^{25.0 t} \\sin{\\left(10.0 t \\right)} - 0.002 e^{25.0 t} \\cos{\\left(10.0 t \\right)}\\right) e^{- 30.0 t} \\theta\\left(t\\right) - 12.5 \\theta\\left(t - 2\\right) \\left(0.002 e^{5.0 \\left(t - 2\\right)} + 0.004 e^{25.0 \\left(t - 2\\right)} \\sin{\\left(10.0 \\left(t - 2\\right) \\right)} - 0.002 \\cos{\\left(10.0 \\left(t - 2\\right) \\right)} e^{25.0 \\left(t - 2\\right)}\\right) e^{- 30.0 \\left(t - 2\\right)} + 37.5 \\theta\\left(t - 1\\right) \\left(0.002 e^{5.0 \\left(t - 1\\right)} + 0.004 e^{25.0 \\left(t - 1\\right)} \\sin{\\left(10.0 \\left(t - 1\\right) \\right)} - 0.002 \\cos{\\left(10.0 \\left(t - 1\\right) \\right)} e^{25.0 \\left(t - 1\\right)}\\right) e^{- 30.0 \\left(t - 1\\right)}\\; A$"
      ],
      "text/plain": [
       "<IPython.core.display.Math object>"
      ]
     },
     "metadata": {},
     "output_type": "display_data"
    }
   ],
   "source": [
    "i0 = -25*ia + 37.5*ia.subs({t:sp.UnevaluatedExpr(t-1)})-12.5*ia.subs({t:sp.UnevaluatedExpr(t-2)})\n",
    "\n",
    "symdisp('i_0(t) =', i0, ' A')"
   ]
  },
  {
   "cell_type": "code",
   "execution_count": 91,
   "metadata": {},
   "outputs": [
    {
     "data": {
      "image/png": "[encoded data removed]",
      "text/plain": [
       "<Figure size 432x288 with 1 Axes>"
      ]
     },
     "metadata": {
      "needs_background": "light"
     },
     "output_type": "display_data"
    },
    {
     "data": {
      "image/png": "[encoded data removed]",
      "text/plain": [
       "<Figure size 432x288 with 1 Axes>"
      ]
     },
     "metadata": {
      "needs_background": "light"
     },
     "output_type": "display_data"
    }
   ],
   "source": [
    "# plota funções no domínio do tempo\n",
    "intervalo = np.arange(-1, 3, 0.01)\n",
    "symplot(t, i0, intervalo, 'i0(t)')\n",
    "symplot(t, v1, intervalo, 'v1(t)')"
   ]
  },
  {
   "cell_type": "code",
   "execution_count": 92,
   "metadata": {},
   "outputs": [
    {
     "data": {
      "text/latex": [
       "$\\displaystyle V_c(s) =\\frac{\\left(25.0 s^{2} + 875.0 s + 3125.0\\right) \\left(2 e^{2 s} - 3 e^{s} + 1\\right) e^{- 2 s}}{s \\left(1.0 s^{3} + 35.0 s^{2} + 375.0 s + 3125.0\\right)}\\; Vs$"
      ],
      "text/plain": [
       "<IPython.core.display.Math object>"
      ]
     },
     "metadata": {},
     "output_type": "display_data"
    }
   ],
   "source": [
    "Vc = Hc*V1\n",
    "\n",
    "symdisp('V_c(s) =', Vc.simplify(), ' Vs')"
   ]
  },
  {
   "cell_type": "code",
   "execution_count": 95,
   "metadata": {},
   "outputs": [
    {
     "data": {
      "text/latex": [
       "$\\displaystyle v_a(t) =\\left(\\left(2.5 \\sin{\\left(10.0 t \\right)} - 1.25 \\cos{\\left(10.0 t \\right)}\\right) e^{25.0 t} + 0.25 e^{5.0 t} + 1.0 e^{30.0 t}\\right) e^{- 30.0 t} \\theta\\left(t\\right)\\; V$"
      ],
      "text/plain": [
       "<IPython.core.display.Math object>"
      ]
     },
     "metadata": {},
     "output_type": "display_data"
    }
   ],
   "source": [
    "Va = (25*s**2 + 875*s + 3125)/(s**4 + 35*s**3 + 375*s**2 + 3125*s)\n",
    "\n",
    "va = invL(partFrac(Va, 10), s, t)\n",
    "\n",
    "va = va.simplify()\n",
    "\n",
    "symdisp('v_a(t) =', va , ' V')"
   ]
  },
  {
   "cell_type": "code",
   "execution_count": 96,
   "metadata": {},
   "outputs": [
    {
     "data": {
      "text/latex": [
       "$\\displaystyle v_c(t) =2 \\left(\\left(2.5 \\sin{\\left(10.0 t \\right)} - 1.25 \\cos{\\left(10.0 t \\right)}\\right) e^{25.0 t} + 0.25 e^{5.0 t} + 1.0 e^{30.0 t}\\right) e^{- 30.0 t} \\theta\\left(t\\right) + \\theta\\left(t - 2\\right) \\left(\\left(2.5 \\sin{\\left(10.0 \\left(t - 2\\right) \\right)} - 1.25 \\cos{\\left(10.0 \\left(t - 2\\right) \\right)}\\right) e^{25.0 \\left(t - 2\\right)} + 0.25 e^{5.0 \\left(t - 2\\right)} + 1.0 e^{30.0 \\left(t - 2\\right)}\\right) e^{- 30.0 \\left(t - 2\\right)} - 3 \\theta\\left(t - 1\\right) \\left(\\left(2.5 \\sin{\\left(10.0 \\left(t - 1\\right) \\right)} - 1.25 \\cos{\\left(10.0 \\left(t - 1\\right) \\right)}\\right) e^{25.0 \\left(t - 1\\right)} + 0.25 e^{5.0 \\left(t - 1\\right)} + 1.0 e^{30.0 \\left(t - 1\\right)}\\right) e^{- 30.0 \\left(t - 1\\right)}\\; V$"
      ],
      "text/plain": [
       "<IPython.core.display.Math object>"
      ]
     },
     "metadata": {},
     "output_type": "display_data"
    }
   ],
   "source": [
    "vc = 2*va - 3*va.subs({t:sp.UnevaluatedExpr(t-1)}) + va.subs({t:sp.UnevaluatedExpr(t-2)})\n",
    "\n",
    "symdisp('v_c(t) =', vc, ' V')"
   ]
  },
  {
   "cell_type": "code",
   "execution_count": 97,
   "metadata": {},
   "outputs": [
    {
     "data": {
      "image/png": "[encoded data removed]",
      "text/plain": [
       "<Figure size 432x288 with 1 Axes>"
      ]
     },
     "metadata": {
      "needs_background": "light"
     },
     "output_type": "display_data"
    }
   ],
   "source": [
    "# plota funções no domínio do tempo\n",
    "intervalo = np.arange(-1, 3, 0.01)\n",
    "symplot(t, [v1, vc], intervalo, ['v1(t)','vc(t)'])"
   ]
  }
 ],
 "metadata": {
  "jupytext": {
   "encoding": "# -*- coding: utf-8 -*-",
   "formats": "ipynb,py:light"
  },
  "kernelspec": {
   "display_name": "Python 3",
   "language": "python",
   "name": "python3"
  },
  "language_info": {
   "codemirror_mode": {
    "name": "ipython",
    "version": 3
   },
   "file_extension": ".py",
   "mimetype": "text/x-python",
   "name": "python",
   "nbconvert_exporter": "python",
   "pygments_lexer": "ipython3",
   "version": "3.7.4"
  },
  "toc": {
   "base_numbering": 1,
   "nav_menu": {},
   "number_sections": true,
   "sideBar": true,
   "skip_h1_title": true,
   "title_cell": "Table of Contents",
   "title_sidebar": "Contents",
   "toc_cell": true,
   "toc_position": {
    "height": "calc(100% - 180px)",
    "left": "10px",
    "top": "150px",
    "width": "200.475px"
   },
   "toc_section_display": true,
   "toc_window_display": true
  },
  "varInspector": {
   "cols": {
    "lenName": 16,
    "lenType": 16,
    "lenVar": 40
   },
   "kernels_config": {
    "python": {
     "delete_cmd_postfix": "",
     "delete_cmd_prefix": "del ",
     "library": "var_list.py",
     "varRefreshCmd": "print(var_dic_list())"
    },
    "r": {
     "delete_cmd_postfix": ") ",
     "delete_cmd_prefix": "rm(",
     "library": "var_list.r",
     "varRefreshCmd": "cat(var_dic_list()) "
    }
   },
   "types_to_exclude": [
    "module",
    "function",
    "builtin_function_or_method",
    "instance",
    "_Feature"
   ],
   "window_display": false
  }
 },
 "nbformat": 4,
 "nbformat_minor": 2
}
