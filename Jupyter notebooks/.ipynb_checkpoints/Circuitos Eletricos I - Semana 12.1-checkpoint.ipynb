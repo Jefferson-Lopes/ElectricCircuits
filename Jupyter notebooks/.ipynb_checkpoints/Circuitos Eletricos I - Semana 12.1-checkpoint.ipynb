{
 "cells": [
  {
   "cell_type": "code",
   "execution_count": 1,
   "metadata": {
    "ExecuteTime": {
     "end_time": "2021-10-05T12:56:44.557045Z",
     "start_time": "2021-10-05T12:56:44.540055Z"
    }
   },
   "outputs": [
    {
     "data": {
      "text/html": [
       "\n",
       "<style>\n",
       ".output_png {\n",
       "    display: table-cell;\n",
       "    text-align: center;\n",
       "    vertical-align: middle;\n",
       "}\n",
       "</style>\n"
      ],
      "text/plain": [
       "<IPython.core.display.HTML object>"
      ]
     },
     "execution_count": 1,
     "metadata": {},
     "output_type": "execute_result"
    }
   ],
   "source": [
    "from IPython.core.display import HTML\n",
    "HTML(\"\"\"\n",
    "<style>\n",
    ".output_png {\n",
    "    display: table-cell;\n",
    "    text-align: center;\n",
    "    vertical-align: middle;\n",
    "}\n",
    "</style>\n",
    "\"\"\")"
   ]
  },
  {
   "cell_type": "markdown",
   "metadata": {},
   "source": [
    "# *Circuitos Elétricos I - Semana 12.1*"
   ]
  },
  {
   "cell_type": "code",
   "execution_count": 2,
   "metadata": {
    "ExecuteTime": {
     "end_time": "2021-10-05T12:56:46.439007Z",
     "start_time": "2021-10-05T12:56:44.560042Z"
    }
   },
   "outputs": [],
   "source": [
    "import matplotlib.pyplot as plt\n",
    "import numpy as np\n",
    "import sympy as sp\n",
    "from utils import round_expr, symdisp, symplot\n",
    "\n",
    "from sympy.polys.partfrac import apart\n",
    "\n",
    "# temp workaround\n",
    "import warnings\n",
    "from matplotlib import MatplotlibDeprecationWarning\n",
    "warnings.filterwarnings('ignore', category=MatplotlibDeprecationWarning)\n",
    "\n",
    "plt.rcParams['figure.figsize'] = 6, 4\n",
    "plt.rcParams['legend.fontsize'] = 13\n",
    "plt.rcParams['lines.linewidth'] = 2\n",
    "plt.rcParams['axes.grid'] = False"
   ]
  },
  {
   "cell_type": "code",
   "execution_count": 3,
   "metadata": {
    "ExecuteTime": {
     "end_time": "2021-10-05T12:56:46.469987Z",
     "start_time": "2021-10-05T12:56:46.442003Z"
    }
   },
   "outputs": [],
   "source": [
    "# transformada de Laplace\n",
    "def L(f,t,s):\n",
    "    return sp.laplace_transform(f, t, s, noconds=True)\n",
    "\n",
    "# transformada inversa de Laplace\n",
    "def invL(F,s,t):\n",
    "    return sp.re(sp.inverse_laplace_transform(F, s, t, noconds=True))\n",
    "\n",
    "# funções para auxílio na expansão em frações parciais\n",
    "def adjustCoeff(expr):    \n",
    "    coeff = expr.as_numer_denom()\n",
    "    c0 = sp.poly(coeff[1].cancel()).coeffs()[0]\n",
    "    \n",
    "    return (coeff[0].cancel()/c0)/(coeff[1].cancel()/c0)\n",
    "\n",
    "def partFrac(expr, Ndigits):\n",
    "    expr = expr.cancel()\n",
    "    expr = apart(adjustCoeff(expr), s, full=True).doit()\n",
    "    \n",
    "    return sp.N(expr, Ndigits)\n",
    "\n",
    "sp.init_printing()"
   ]
  },
  {
   "cell_type": "markdown",
   "metadata": {},
   "source": [
    "#### Definindo algumas variáveis simbólicas de interesse"
   ]
  },
  {
   "cell_type": "code",
   "execution_count": 4,
   "metadata": {
    "ExecuteTime": {
     "end_time": "2021-10-05T12:56:46.484977Z",
     "start_time": "2021-10-05T12:56:46.472985Z"
    }
   },
   "outputs": [],
   "source": [
    "s     = sp.symbols('s')\n",
    "a     = sp.symbols('a', real=True, positive=True)\n",
    "omega, t = sp.symbols('omega, t', real=True)\n",
    "infty = sp.oo"
   ]
  },
  {
   "cell_type": "markdown",
   "metadata": {},
   "source": [
    "### Problema 1\n",
    "\n",
    "O circuito da figura a seguir está em regime estacionário no momento em que chave é aberta. Sabe-se que $v(t)=\\mathrm{12\\;V}$.\n",
    "\n",
    "<img src=\"./figures/J15C1.png\" width=\"600\">\n",
    "\n",
    "a. Determine $I_0(s)$ e $I_1(s)$.\\\n",
    "b. Verifique a consistência das respostas do item a. com os teoremas do valor inicial e do valor final.\\\n",
    "c. Determine a função de transferência $H_0(s)$ entre $V(s)$ e $I_0(s)$.\\\n",
    "d. Determine a função de transferência $H_1(s)$ entre $V(s)$ e $I_1(s)$.\\\n",
    "e. Determine a função de transferência $H_c(s)$ entre $V(s)$ e $V_c(s)$.\\\n",
    "f. Determine a $v_c(t)$ para o caso em que a tensão aplicada $v(t)$ em $\\mathrm{V}$ corresponde ao gráfico a seguir:\n",
    "\n",
    "<img src=\"./figures/J15Fig1.png\" width=\"400\">"
   ]
  },
  {
   "cell_type": "markdown",
   "metadata": {},
   "source": [
    "a. Determinando $I_0(s)$ e $I_1(s)$:"
   ]
  },
  {
   "cell_type": "code",
   "execution_count": 5,
   "metadata": {
    "ExecuteTime": {
     "end_time": "2021-10-05T12:56:47.065150Z",
     "start_time": "2021-10-05T12:56:46.486976Z"
    }
   },
   "outputs": [
    {
     "name": "stdout",
     "output_type": "stream",
     "text": [
      "Correntes no domínio de Laplace: \n",
      "\n"
     ]
    },
    {
     "data": {
      "text/latex": [
       "$\\displaystyle I_0(s) =- \\frac{150.0}{s^{3} + 35.0 s^{2} + 375.0 s + 3125.0}\\;As$"
      ],
      "text/plain": [
       "<IPython.core.display.Math object>"
      ]
     },
     "metadata": {},
     "output_type": "display_data"
    },
    {
     "data": {
      "text/latex": [
       "$\\displaystyle I_1(s) =\\frac{6.0 s^{2} + 210.0 s + 750.0}{5.0 s^{3} + 175.0 s^{2} + 1875.0 s + 15625.0}\\;As$"
      ],
      "text/plain": [
       "<IPython.core.display.Math object>"
      ]
     },
     "metadata": {},
     "output_type": "display_data"
    }
   ],
   "source": [
    "I0, I1, s = sp.symbols('I0, I1, s')\n",
    "\n",
    "# define os sistema de equações\n",
    "eq1 = sp.Eq((-2*s**2)*I0 + (2*s**2 + 10*s + 250)*I1, 2.4*s + 12)             \n",
    "eq2 = sp.Eq((4*s+50)*I0 -2*s*I1, -2.4)  \n",
    "\n",
    "# resolve o sistema\n",
    "soluc = sp.solve([eq1, eq2],[I0, I1], dict=True)\n",
    "soluc\n",
    "\n",
    "I0 = [sol[I0] for sol in soluc]\n",
    "I1 = [sol[I1] for sol in soluc]\n",
    "\n",
    "I0 = I0[0]\n",
    "I1 = I1[0]\n",
    "\n",
    "print('Correntes no domínio de Laplace: \\n')\n",
    "symdisp('I_0(s) =', I0, 'As')\n",
    "symdisp('I_1(s) =', I1, 'As')"
   ]
  },
  {
   "cell_type": "markdown",
   "metadata": {},
   "source": [
    "b. Checando a consistência das soluções\n",
    "\n",
    "**Teorema do valor inicial (TVI)**\n",
    "\n",
    "$$\n",
    "f(0^+) = \\lim_{t \\to 0^+}f(t) = \\lim_{s \\to \\infty}sF(s)\n",
    "$$\n"
   ]
  },
  {
   "cell_type": "code",
   "execution_count": 6,
   "metadata": {
    "ExecuteTime": {
     "end_time": "2021-10-05T12:56:47.161091Z",
     "start_time": "2021-10-05T12:56:47.067150Z"
    }
   },
   "outputs": [
    {
     "data": {
      "text/latex": [
       "$\\displaystyle i_0(0^+) = 0\\; A$"
      ],
      "text/plain": [
       "<IPython.core.display.Math object>"
      ]
     },
     "metadata": {},
     "output_type": "display_data"
    },
    {
     "data": {
      "text/latex": [
       "$\\displaystyle i_1(0^+) = 1.2\\; A$"
      ],
      "text/plain": [
       "<IPython.core.display.Math object>"
      ]
     },
     "metadata": {},
     "output_type": "display_data"
    }
   ],
   "source": [
    "i0_0_tvi = sp.limit(s*I0, s, infty)\n",
    "i1_0_tvi = sp.limit(s*I1, s, infty)\n",
    "\n",
    "\n",
    "symdisp('i_0(0^+) = ', i0_0_tvi, ' A' )\n",
    "symdisp('i_1(0^+) = ', i1_0_tvi, ' A' )"
   ]
  },
  {
   "cell_type": "markdown",
   "metadata": {},
   "source": [
    "**Teorema do valor final (TVF)**\n",
    "\n",
    "$$\n",
    "f(\\infty) = \\lim_{t \\to \\infty}f(t) = \\lim_{s \\to 0}sF(s)\n",
    "$$\n",
    "\n"
   ]
  },
  {
   "cell_type": "code",
   "execution_count": 7,
   "metadata": {
    "ExecuteTime": {
     "end_time": "2021-10-05T12:56:47.225085Z",
     "start_time": "2021-10-05T12:56:47.163089Z"
    }
   },
   "outputs": [
    {
     "data": {
      "text/latex": [
       "$\\displaystyle i_0(\\infty) = 0\\; A$"
      ],
      "text/plain": [
       "<IPython.core.display.Math object>"
      ]
     },
     "metadata": {},
     "output_type": "display_data"
    },
    {
     "data": {
      "text/latex": [
       "$\\displaystyle i_1(\\infty) = 0\\; A$"
      ],
      "text/plain": [
       "<IPython.core.display.Math object>"
      ]
     },
     "metadata": {},
     "output_type": "display_data"
    }
   ],
   "source": [
    "i0_inf_tvf = sp.limit(s*I0, s, 0)\n",
    "i1_inf_tvf = sp.limit(s*I1, s, 0)\n",
    "\n",
    "\n",
    "symdisp('i_0(\\infty) = ', i0_inf_tvf, ' A' )\n",
    "symdisp('i_1(\\infty) = ', i1_inf_tvf, ' A' )"
   ]
  },
  {
   "cell_type": "code",
   "execution_count": 8,
   "metadata": {
    "ExecuteTime": {
     "end_time": "2021-10-05T12:56:47.522900Z",
     "start_time": "2021-10-05T12:56:47.228080Z"
    }
   },
   "outputs": [
    {
     "data": {
      "text/latex": [
       "$\\displaystyle V_c(s) =\\frac{300.0 s^{2} + 10500.0 s + 37500.0}{s \\left(1.0 s^{3} + 35.0 s^{2} + 375.0 s + 3125.0\\right)}\\;Vs$"
      ],
      "text/plain": [
       "<IPython.core.display.Math object>"
      ]
     },
     "metadata": {},
     "output_type": "display_data"
    }
   ],
   "source": [
    "C = 4e-3  # F\n",
    "\n",
    "# Calculando Vc\n",
    "Vc = (1/(s*C))*I1\n",
    "\n",
    "Vc = Vc.simplify()\n",
    "\n",
    "symdisp('V_c(s) =', adjustCoeff(Vc).simplify(), 'Vs')"
   ]
  },
  {
   "cell_type": "code",
   "execution_count": 9,
   "metadata": {
    "ExecuteTime": {
     "end_time": "2021-10-05T12:56:51.109608Z",
     "start_time": "2021-10-05T12:56:47.525896Z"
    }
   },
   "outputs": [
    {
     "data": {
      "image/png": "[encoded data removed]",
      "text/latex": [
       "$\\displaystyle 12.0$"
      ],
      "text/plain": [
       "12.0000000000000"
      ]
     },
     "execution_count": 9,
     "metadata": {},
     "output_type": "execute_result"
    }
   ],
   "source": [
    " sp.limit(s*Vc, s, 0)"
   ]
  },
  {
   "cell_type": "code",
   "execution_count": 10,
   "metadata": {
    "ExecuteTime": {
     "end_time": "2021-10-05T12:56:51.125597Z",
     "start_time": "2021-10-05T12:56:51.112605Z"
    }
   },
   "outputs": [
    {
     "data": {
      "text/plain": [
       "array([-25. +0.j,  -5.+10.j,  -5.-10.j,   0. +0.j])"
      ]
     },
     "execution_count": 10,
     "metadata": {},
     "output_type": "execute_result"
    }
   ],
   "source": [
    "np.roots([1, 35, 375, 3125, 0])"
   ]
  },
  {
   "cell_type": "code",
   "execution_count": 11,
   "metadata": {
    "ExecuteTime": {
     "end_time": "2021-10-05T12:56:53.542783Z",
     "start_time": "2021-10-05T12:56:51.128594Z"
    }
   },
   "outputs": [
    {
     "data": {
      "image/png": "[encoded data removed]",
      "text/latex": [
       "$\\displaystyle \\frac{-7.5 + 15.0 i}{s + 5.0 + 10.0 i} + \\frac{-7.5 - 15.0 i}{s + 5.0 - 10.0 i} + \\frac{0.12}{0.04 s + 1.0} + \\frac{12.0}{s}$"
      ],
      "text/plain": [
       " -7.5 + 15.0⋅ⅈ      -7.5 - 15.0⋅ⅈ         0.12       12.0\n",
       "──────────────── + ──────────────── + ──────────── + ────\n",
       "s + 5.0 + 10.0⋅ⅈ   s + 5.0 - 10.0⋅ⅈ   0.04⋅s + 1.0    s  "
      ]
     },
     "execution_count": 11,
     "metadata": {},
     "output_type": "execute_result"
    }
   ],
   "source": [
    "partFrac(Vc, 4)"
   ]
  },
  {
   "cell_type": "code",
   "execution_count": 12,
   "metadata": {
    "ExecuteTime": {
     "end_time": "2021-10-05T12:56:55.910320Z",
     "start_time": "2021-10-05T12:56:53.544784Z"
    }
   },
   "outputs": [
    {
     "data": {
      "text/latex": [
       "$\\displaystyle v_c(t) = 12.0 \\theta\\left(t\\right) + 3.0 e^{- 25.0 t} \\theta\\left(t\\right) + 30.0 e^{- 5.0 t} \\sin{\\left(10.0 t \\right)} \\theta\\left(t\\right) - 15.0 e^{- 5.0 t} \\cos{\\left(10.0 t \\right)} \\theta\\left(t\\right)\\; V$"
      ],
      "text/plain": [
       "<IPython.core.display.Math object>"
      ]
     },
     "metadata": {},
     "output_type": "display_data"
    }
   ],
   "source": [
    "vc = invL(partFrac(Vc, 4), s, t)\n",
    "\n",
    "symdisp('v_c(t) = ', vc, ' V')"
   ]
  },
  {
   "cell_type": "code",
   "execution_count": 13,
   "metadata": {
    "ExecuteTime": {
     "end_time": "2021-10-05T12:56:59.179862Z",
     "start_time": "2021-10-05T12:56:55.912317Z"
    }
   },
   "outputs": [
    {
     "data": {
      "image/png": "[encoded data removed]",
      "text/plain": [
       "<Figure size 432x288 with 1 Axes>"
      ]
     },
     "metadata": {
      "needs_background": "light"
     },
     "output_type": "display_data"
    }
   ],
   "source": [
    "# plota funções no domínio do tempo\n",
    "intervalo = np.arange(-1, 4, 0.01)\n",
    "symplot(t, vc, intervalo, 'vc(t)')"
   ]
  },
  {
   "cell_type": "markdown",
   "metadata": {},
   "source": [
    "c-e) Determinando $H_0(s)$, $H_0(s)$ e $H_c(s)$."
   ]
  },
  {
   "cell_type": "code",
   "execution_count": 14,
   "metadata": {
    "ExecuteTime": {
     "end_time": "2021-10-05T12:56:59.211841Z",
     "start_time": "2021-10-05T12:56:59.181862Z"
    }
   },
   "outputs": [
    {
     "data": {
      "text/latex": [
       "$\\displaystyle H_0(s) =- \\frac{12.5 s}{s^{3} + 35.0 s^{2} + 375.0 s + 3125.0}\\; $"
      ],
      "text/plain": [
       "<IPython.core.display.Math object>"
      ]
     },
     "metadata": {},
     "output_type": "display_data"
    }
   ],
   "source": [
    "V = 12/s\n",
    "\n",
    "H0 = I0/V\n",
    "\n",
    "symdisp('H_0(s) =', H0,)"
   ]
  },
  {
   "cell_type": "code",
   "execution_count": 15,
   "metadata": {
    "ExecuteTime": {
     "end_time": "2021-10-05T12:56:59.273804Z",
     "start_time": "2021-10-05T12:56:59.214840Z"
    }
   },
   "outputs": [
    {
     "data": {
      "text/latex": [
       "$\\displaystyle H_1(s) =\\frac{0.1 s^{3} + 3.5 s^{2} + 12.5 s}{1.0 s^{3} + 35.0 s^{2} + 375.0 s + 3125.0}\\; $"
      ],
      "text/plain": [
       "<IPython.core.display.Math object>"
      ]
     },
     "metadata": {},
     "output_type": "display_data"
    }
   ],
   "source": [
    "H1 = I1/V\n",
    "H1 = adjustCoeff(H1)\n",
    "\n",
    "symdisp('H_1(s) =', H1,)"
   ]
  },
  {
   "cell_type": "code",
   "execution_count": 16,
   "metadata": {
    "ExecuteTime": {
     "end_time": "2021-10-05T12:56:59.321773Z",
     "start_time": "2021-10-05T12:56:59.275803Z"
    }
   },
   "outputs": [
    {
     "data": {
      "text/latex": [
       "$\\displaystyle H_c(s) =\\frac{25.0 s^{2} + 875.0 s + 3125.0}{1.0 s^{3} + 35.0 s^{2} + 375.0 s + 3125.0}\\; $"
      ],
      "text/plain": [
       "<IPython.core.display.Math object>"
      ]
     },
     "metadata": {},
     "output_type": "display_data"
    }
   ],
   "source": [
    "Hc = Vc/V\n",
    "Hc = adjustCoeff(Hc)\n",
    "\n",
    "symdisp('H_c(s) =', Hc,)"
   ]
  },
  {
   "cell_type": "markdown",
   "metadata": {},
   "source": [
    "f. $v_c(t)=?$"
   ]
  },
  {
   "cell_type": "code",
   "execution_count": 18,
   "metadata": {
    "ExecuteTime": {
     "end_time": "2021-10-05T14:00:07.360045Z",
     "start_time": "2021-10-05T14:00:01.893218Z"
    }
   },
   "outputs": [
    {
     "data": {
      "text/latex": [
       "$\\displaystyle v(t) =2 \\theta\\left(t\\right) + \\theta\\left(t - 2\\right) - 3 \\theta\\left(t - 1\\right)\\; V$"
      ],
      "text/plain": [
       "<IPython.core.display.Math object>"
      ]
     },
     "metadata": {},
     "output_type": "display_data"
    },
    {
     "data": {
      "image/png": "[encoded data removed]",
      "text/plain": [
       "<Figure size 432x288 with 1 Axes>"
      ]
     },
     "metadata": {
      "needs_background": "light"
     },
     "output_type": "display_data"
    }
   ],
   "source": [
    "v = 2*(sp.Heaviside(t)-sp.Heaviside(t-1)) - 1*(sp.Heaviside(t-1)-sp.Heaviside(t-2))\n",
    "\n",
    "symdisp('v(t) =', v, ' V')\n",
    "\n",
    "# plota funções no domínio do tempo\n",
    "intervalo = np.arange(-1, 3, 0.01)\n",
    "symplot(t, v, intervalo, 'v(t)')"
   ]
  },
  {
   "cell_type": "code",
   "execution_count": 19,
   "metadata": {
    "ExecuteTime": {
     "end_time": "2021-10-05T14:33:16.718436Z",
     "start_time": "2021-10-05T14:33:15.212369Z"
    }
   },
   "outputs": [
    {
     "data": {
      "text/latex": [
       "$\\displaystyle V_c(s) =\\frac{\\left(25.0 s^{2} + 875.0 s + 3125.0\\right) \\left(2 e^{2 s} - 3 e^{s} + 1\\right) e^{- 2 s}}{s \\left(1.0 s^{3} + 35.0 s^{2} + 375.0 s + 3125.0\\right)}\\; Vs$"
      ],
      "text/plain": [
       "<IPython.core.display.Math object>"
      ]
     },
     "metadata": {},
     "output_type": "display_data"
    }
   ],
   "source": [
    "# determina Vc(s) via função de transferência\n",
    "V = L(v, t, s)\n",
    "Vc = Hc*V\n",
    "\n",
    "symdisp('V_c(s) =', Vc.simplify(), ' Vs')"
   ]
  },
  {
   "cell_type": "code",
   "execution_count": 20,
   "metadata": {
    "ExecuteTime": {
     "end_time": "2021-10-05T14:35:02.416911Z",
     "start_time": "2021-10-05T14:34:59.676607Z"
    }
   },
   "outputs": [
    {
     "data": {
      "text/latex": [
       "$\\displaystyle P(s) =\\frac{-0.625 + 1.25 i}{s + 5.0 + 10.0 i} + \\frac{-0.625 - 1.25 i}{s + 5.0 - 10.0 i} + \\frac{0.25}{s + 25.0} + \\frac{1}{s}\\; Vs$"
      ],
      "text/plain": [
       "<IPython.core.display.Math object>"
      ]
     },
     "metadata": {},
     "output_type": "display_data"
    },
    {
     "data": {
      "text/latex": [
       "$\\displaystyle p(t) =1.0 \\theta\\left(t\\right) + 0.25 e^{- 25.0 t} \\theta\\left(t\\right) + 2.5 e^{- 5.0 t} \\sin{\\left(10.0 t \\right)} \\theta\\left(t\\right) - 1.25 e^{- 5.0 t} \\cos{\\left(10.0 t \\right)} \\theta\\left(t\\right)\\; V$"
      ],
      "text/plain": [
       "<IPython.core.display.Math object>"
      ]
     },
     "metadata": {},
     "output_type": "display_data"
    }
   ],
   "source": [
    "# função auxiliar Va(s)\n",
    "P = (25*s**2 + 875*s + 3125)/(s**4 + 35*s**3 + 375*s**2 + 3125*s)\n",
    "P = partFrac(P, 10)\n",
    "\n",
    "# encontra va(t)\n",
    "p = invL(P, s, t)\n",
    "p = p.expand()\n",
    "\n",
    "symdisp('P(s) =', P , ' Vs')\n",
    "symdisp('p(t) =', p, ' V')"
   ]
  },
  {
   "cell_type": "code",
   "execution_count": 21,
   "metadata": {
    "ExecuteTime": {
     "end_time": "2021-10-05T14:37:29.299064Z",
     "start_time": "2021-10-05T14:37:29.220114Z"
    }
   },
   "outputs": [
    {
     "data": {
      "text/latex": [
       "$\\displaystyle v_c(t) =2.0 \\theta\\left(t\\right) + 1.0 \\theta\\left(t - 2\\right) + 0.25 \\theta\\left(t - 2\\right) e^{- 25.0 \\left(t - 2\\right)} + 2.5 \\theta\\left(t - 2\\right) e^{- 5.0 \\left(t - 2\\right)} \\sin{\\left(10.0 \\left(t - 2\\right) \\right)} - 1.25 \\theta\\left(t - 2\\right) \\cos{\\left(10.0 \\left(t - 2\\right) \\right)} e^{- 5.0 \\left(t - 2\\right)} - 3 \\left(1.0 \\theta\\left(t - 1\\right) + 0.25 \\theta\\left(t - 1\\right) e^{- 25.0 \\left(t - 1\\right)} + 2.5 \\theta\\left(t - 1\\right) e^{- 5.0 \\left(t - 1\\right)} \\sin{\\left(10.0 \\left(t - 1\\right) \\right)} - 1.25 \\theta\\left(t - 1\\right) \\cos{\\left(10.0 \\left(t - 1\\right) \\right)} e^{- 5.0 \\left(t - 1\\right)}\\right) + 0.5 e^{- 25.0 t} \\theta\\left(t\\right) + 5.0 e^{- 5.0 t} \\sin{\\left(10.0 t \\right)} \\theta\\left(t\\right) - 2.5 e^{- 5.0 t} \\cos{\\left(10.0 t \\right)} \\theta\\left(t\\right)\\; V$"
      ],
      "text/plain": [
       "<IPython.core.display.Math object>"
      ]
     },
     "metadata": {},
     "output_type": "display_data"
    }
   ],
   "source": [
    "vc = 2*p - 3*p.subs({t:sp.UnevaluatedExpr(t-1)}) + p.subs({t:sp.UnevaluatedExpr(t-2)})\n",
    "\n",
    "symdisp('v_c(t) =', vc, ' V')"
   ]
  },
  {
   "cell_type": "code",
   "execution_count": 22,
   "metadata": {
    "ExecuteTime": {
     "end_time": "2021-10-05T14:41:14.890953Z",
     "start_time": "2021-10-05T14:41:01.790522Z"
    }
   },
   "outputs": [
    {
     "data": {
      "image/png": "[encoded data removed]",
      "text/plain": [
       "<Figure size 432x288 with 1 Axes>"
      ]
     },
     "metadata": {
      "needs_background": "light"
     },
     "output_type": "display_data"
    }
   ],
   "source": [
    "# plota funções no domínio do tempo\n",
    "intervalo = np.arange(-1, 3, 0.01)\n",
    "symplot(t, [v, vc], intervalo, ['v(t)','vc(t)'])"
   ]
  }
 ],
 "metadata": {
  "jupytext": {
   "encoding": "# -*- coding: utf-8 -*-",
   "formats": "ipynb,py:light"
  },
  "kernelspec": {
   "display_name": "Python 3",
   "language": "python",
   "name": "python3"
  },
  "language_info": {
   "codemirror_mode": {
    "name": "ipython",
    "version": 3
   },
   "file_extension": ".py",
   "mimetype": "text/x-python",
   "name": "python",
   "nbconvert_exporter": "python",
   "pygments_lexer": "ipython3",
   "version": "3.7.4"
  },
  "toc": {
   "base_numbering": 1,
   "nav_menu": {},
   "number_sections": true,
   "sideBar": true,
   "skip_h1_title": true,
   "title_cell": "Table of Contents",
   "title_sidebar": "Contents",
   "toc_cell": true,
   "toc_position": {
    "height": "calc(100% - 180px)",
    "left": "10px",
    "top": "150px",
    "width": "200.475px"
   },
   "toc_section_display": true,
   "toc_window_display": true
  },
  "varInspector": {
   "cols": {
    "lenName": 16,
    "lenType": 16,
    "lenVar": 40
   },
   "kernels_config": {
    "python": {
     "delete_cmd_postfix": "",
     "delete_cmd_prefix": "del ",
     "library": "var_list.py",
     "varRefreshCmd": "print(var_dic_list())"
    },
    "r": {
     "delete_cmd_postfix": ") ",
     "delete_cmd_prefix": "rm(",
     "library": "var_list.r",
     "varRefreshCmd": "cat(var_dic_list()) "
    }
   },
   "types_to_exclude": [
    "module",
    "function",
    "builtin_function_or_method",
    "instance",
    "_Feature"
   ],
   "window_display": false
  }
 },
 "nbformat": 4,
 "nbformat_minor": 2
}
