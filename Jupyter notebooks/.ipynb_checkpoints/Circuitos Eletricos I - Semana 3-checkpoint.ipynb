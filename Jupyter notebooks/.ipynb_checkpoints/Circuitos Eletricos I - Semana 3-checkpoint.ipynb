{
 "cells": [
  {
   "cell_type": "markdown",
   "metadata": {
    "toc": true
   },
   "source": [
    "<h1>Table of Contents<span class=\"tocSkip\"></span></h1>\n",
    "<div class=\"toc\"><ul class=\"toc-item\"><li><span><a href=\"#Resolução-de-circuitos-utilizando-análise-nodal:-método-das-tensões-de-nó.\" data-toc-modified-id=\"Resolução-de-circuitos-utilizando-análise-nodal:-método-das-tensões-de-nó.-1\"><span class=\"toc-item-num\">1&nbsp;&nbsp;</span>Resolução de circuitos utilizando análise nodal: método das tensões de nó.</a></span><ul class=\"toc-item\"><li><span><a href=\"#Procedimento-de-solução:\" data-toc-modified-id=\"Procedimento-de-solução:-1.1\"><span class=\"toc-item-num\">1.1&nbsp;&nbsp;</span>Procedimento de solução:</a></span></li><li><span><a href=\"#Problema-1\" data-toc-modified-id=\"Problema-1-1.2\"><span class=\"toc-item-num\">1.2&nbsp;&nbsp;</span>Problema 1</a></span></li><li><span><a href=\"#Solução-das-equações\" data-toc-modified-id=\"Solução-das-equações-1.3\"><span class=\"toc-item-num\">1.3&nbsp;&nbsp;</span>Solução das equações</a></span></li><li><span><a href=\"#Cálculo-das-correntes\" data-toc-modified-id=\"Cálculo-das-correntes-1.4\"><span class=\"toc-item-num\">1.4&nbsp;&nbsp;</span>Cálculo das correntes</a></span></li><li><span><a href=\"#Cálculo-das-potências\" data-toc-modified-id=\"Cálculo-das-potências-1.5\"><span class=\"toc-item-num\">1.5&nbsp;&nbsp;</span>Cálculo das potências</a></span></li></ul></li><li><span><a href=\"#Resolução-de-circuitos-utilizando-análise-de-malhas:-correntes-de-malha.\" data-toc-modified-id=\"Resolução-de-circuitos-utilizando-análise-de-malhas:-correntes-de-malha.-2\"><span class=\"toc-item-num\">2&nbsp;&nbsp;</span>Resolução de circuitos utilizando análise de malhas: correntes de malha.</a></span><ul class=\"toc-item\"><li><span><a href=\"#Procedimento-de-solução:\" data-toc-modified-id=\"Procedimento-de-solução:-2.1\"><span class=\"toc-item-num\">2.1&nbsp;&nbsp;</span>Procedimento de solução:</a></span></li><li><span><a href=\"#Problema-2\" data-toc-modified-id=\"Problema-2-2.2\"><span class=\"toc-item-num\">2.2&nbsp;&nbsp;</span>Problema 2</a></span></li><li><span><a href=\"#Solução-das-equações\" data-toc-modified-id=\"Solução-das-equações-2.3\"><span class=\"toc-item-num\">2.3&nbsp;&nbsp;</span>Solução das equações</a></span></li><li><span><a href=\"#Cálculo-das-correntes\" data-toc-modified-id=\"Cálculo-das-correntes-2.4\"><span class=\"toc-item-num\">2.4&nbsp;&nbsp;</span>Cálculo das correntes</a></span></li><li><span><a href=\"#Cálculo-das-potências\" data-toc-modified-id=\"Cálculo-das-potências-2.5\"><span class=\"toc-item-num\">2.5&nbsp;&nbsp;</span>Cálculo das potências</a></span></li></ul></li></ul></div>"
   ]
  },
  {
   "cell_type": "code",
   "execution_count": null,
   "metadata": {},
   "outputs": [],
   "source": [
    "from IPython.core.display import HTML\n",
    "from IPython.display import Image\n",
    "HTML(\"\"\"\n",
    "<style>\n",
    ".output_png {\n",
    "    display: table-cell;\n",
    "    text-align: center;\n",
    "    vertical-align: middle;\n",
    "}\n",
    "</style>\n",
    "\"\"\")"
   ]
  },
  {
   "cell_type": "markdown",
   "metadata": {},
   "source": [
    "# *Circuitos Elétricos I - Semana 3*"
   ]
  },
  {
   "cell_type": "markdown",
   "metadata": {},
   "source": [
    "## Resolução de circuitos utilizando análise nodal: método das tensões de nó.\n",
    "\n",
    "\n",
    "### Procedimento de solução:\n",
    "\n",
    "**Passo 1**: identifique todos os $n_e$ nós essenciais do circuito, selecione um deles como um nó de referência (terra) e, em seguida, atribua uma tensão de nó para cada um dos $n_e - 1$ nós essenciais restantes.\n",
    "\n",
    "**Passo 2**: em cada um dos $n_e - 1$ nós essenciais, obtenha uma equação aplicando a lei de Kirchhoff das correntes (LKC), ou seja, uma equação indicando que a soma de todas as correntes saindo do nó é igual a soma das correntes deixando o nó.\n",
    "\n",
    "**Passo 3**: escreva as equações obtidas em função das tensões de nó.\n",
    "\n",
    "**Passo 4**: resolva o sistema de $n_e - 1$ equações independentes para determinar as tensões de nó desconhecidas.\n",
    "\n",
    "**Passo 5**: determine os valores das grandezas de interesse a partir das tensões de nó obtidas.\n",
    "\n",
    "\n",
    "### Problema 1\n",
    "\n",
    "Aplicando o método das tensões de nó, determine todas as correntes e potências desenvolvidas por cada elemento no circuito a seguir:"
   ]
  },
  {
   "cell_type": "code",
   "execution_count": null,
   "metadata": {},
   "outputs": [],
   "source": [
    "Image(\"J4C1.png\", width=500)"
   ]
  },
  {
   "cell_type": "markdown",
   "metadata": {},
   "source": [
    "### Solução das equações"
   ]
  },
  {
   "cell_type": "code",
   "execution_count": null,
   "metadata": {},
   "outputs": [],
   "source": [
    "import sympy as sp\n",
    "import numpy as np"
   ]
  },
  {
   "cell_type": "code",
   "execution_count": null,
   "metadata": {},
   "outputs": [],
   "source": [
    "# define as N variáveis desconhecidas\n",
    "va, vb, vc, vd = sp.symbols('va, vb, vc, vd')\n",
    "\n",
    "# define os sistema de N equações\n",
    "eq1 = sp.Eq()             \n",
    "eq2 = sp.Eq()  \n",
    "eq3 = sp.Eq()\n",
    "eq4 = sp.Eq()\n",
    "\n",
    "# resolve o sistema\n",
    "soluc = sp.solve((eq1, eq2, eq3, eq4), dict=True)\n",
    "\n",
    "va = np.array([sol[va] for sol in soluc])\n",
    "vb = np.array([sol[vb] for sol in soluc]) \n",
    "vc = np.array([sol[vc] for sol in soluc]) \n",
    "vd = np.array([sol[vd] for sol in soluc]) \n",
    "\n",
    "print('Solução do sistema:\\n\\n va = %.2f V,\\n vb = %.2f V,\\n vc = %.2f V,\\n vd = %.2f V.' %(va, vb, vc, vd))"
   ]
  },
  {
   "cell_type": "markdown",
   "metadata": {},
   "source": [
    "### Cálculo das correntes"
   ]
  },
  {
   "cell_type": "code",
   "execution_count": null,
   "metadata": {},
   "outputs": [],
   "source": [
    "i2 = \n",
    "ix = \n",
    "i3 = \n",
    "i4 = \n",
    "i6 = \n",
    "i1 = \n",
    "i5 = \n",
    "\n",
    "print('Correntes:\\n\\n i1 = %.2f A,\\n i2 = %.2f A,\\n i3 = %.2f A,\\n i4 = %.2f A,\\n i5 = %.2f A,\\n i6 = %.2f A,\\n ix = %.2f A.'\\\n",
    "      %(i1, i2, i3, i4, i5, i6, ix))"
   ]
  },
  {
   "cell_type": "markdown",
   "metadata": {},
   "source": [
    "### Cálculo das potências"
   ]
  },
  {
   "cell_type": "code",
   "execution_count": null,
   "metadata": {},
   "outputs": [],
   "source": [
    "pR = \n",
    "p10V = \n",
    "p05A = \n",
    "p12V = \n",
    "p2ix = \n",
    "\n",
    "# calcula somatório das potências\n",
    "print('Somatório das potências : %.2f W\\n' %(pR+p10V+p05A+p12V+p2ix))"
   ]
  },
  {
   "cell_type": "markdown",
   "metadata": {},
   "source": [
    "## Resolução de circuitos utilizando análise de malhas: correntes de malha.\n",
    "\n",
    "\n",
    "### Procedimento de solução:\n",
    "\n",
    "**Passo 1**: identifique todas as malhas simples e atribua a cada uma delas uma corrente de malha desconhecida. A escolha sentido de referência para cada corrente de malha é arbitrário. Por conveniência, costuma-se definir utilizar o mesmo sentido para todas as correntes de malha.\n",
    "\n",
    "**Passo 2**: para cada uma das malhas simples do circuito, obtenha uma equação aplicando a lei de Kirchhoff das tensões (LKT).\n",
    "\n",
    "**Passo 3**: resolva o sistema de equações independentes resultantes para determinar as correntes de malha.\n",
    "\n",
    "**Passo 4**: determine os valores das grandezas de interesse a partir das correntes de malha obtidas.\n",
    "\n",
    "### Problema 2\n",
    "\n",
    "Aplicando o método das correntes de malha, determine todas as correntes e potências desenvolvidas por cada elemento no circuito a seguir:"
   ]
  },
  {
   "cell_type": "code",
   "execution_count": null,
   "metadata": {
    "scrolled": false
   },
   "outputs": [],
   "source": [
    "Image(\"J4C2.png\", width=500)"
   ]
  },
  {
   "cell_type": "markdown",
   "metadata": {},
   "source": [
    "### Solução das equações"
   ]
  },
  {
   "cell_type": "code",
   "execution_count": null,
   "metadata": {},
   "outputs": [],
   "source": [
    "# define as N variáveis desconhecidas\n",
    "ia, ib, ic, id = sp.symbols('ia, ib, ic, id')\n",
    "\n",
    "# define os sistema de N equações\n",
    "eq1 = sp.Eq()             \n",
    "eq2 = sp.Eq()  \n",
    "eq3 = sp.Eq()\n",
    "eq4 = sp.Eq()\n",
    "\n",
    "# resolve o sistema\n",
    "soluc = sp.solve((eq1, eq2, eq3, eq4), dict=True)\n",
    "\n",
    "ia = np.array([sol[ia] for sol in soluc])\n",
    "ib = np.array([sol[ib] for sol in soluc]) \n",
    "ic = np.array([sol[ic] for sol in soluc]) \n",
    "id = np.array([sol[id] for sol in soluc]) \n",
    "\n",
    "print('Solução do sistema:\\n\\n ia = %.2f A,\\n ib = %.2f A,\\n ic = %.2f A,\\n id = %.2f A.' %(ia, ib, ic, id))"
   ]
  },
  {
   "cell_type": "markdown",
   "metadata": {},
   "source": [
    "### Cálculo das correntes"
   ]
  },
  {
   "cell_type": "code",
   "execution_count": null,
   "metadata": {},
   "outputs": [],
   "source": [
    "i2 = \n",
    "ix = \n",
    "i3 = \n",
    "i4 = \n",
    "i6 = \n",
    "i1 = \n",
    "i5 = \n",
    "\n",
    "print('Correntes:\\n\\n i1 = %.2f A,\\n i2 = %.2f A,\\n i3 = %.2f A,\\n i4 = %.2f A,\\n i5 = %.2f A,\\n i6 = %.2f A,\\n ix = %.2f A.'\\\n",
    "      %(i1, i2, i3, i4, i5, i6, ix))"
   ]
  },
  {
   "cell_type": "markdown",
   "metadata": {},
   "source": [
    "### Cálculo das potências"
   ]
  },
  {
   "cell_type": "code",
   "execution_count": null,
   "metadata": {},
   "outputs": [],
   "source": [
    "pR = \n",
    "p10V = \n",
    "p05A = \n",
    "p12V = \n",
    "p2ix =\n",
    "\n",
    "# calcula somatório das potências\n",
    "print('Somatório das potências : %.2f W\\n' %(pR+p10V+p05A+p12V+p2ix))"
   ]
  }
 ],
 "metadata": {
  "kernelspec": {
   "display_name": "Python 3",
   "language": "python",
   "name": "python3"
  },
  "language_info": {
   "codemirror_mode": {
    "name": "ipython",
    "version": 3
   },
   "file_extension": ".py",
   "mimetype": "text/x-python",
   "name": "python",
   "nbconvert_exporter": "python",
   "pygments_lexer": "ipython3",
   "version": "3.7.4"
  },
  "toc": {
   "base_numbering": 1,
   "nav_menu": {},
   "number_sections": true,
   "sideBar": true,
   "skip_h1_title": true,
   "title_cell": "Table of Contents",
   "title_sidebar": "Contents",
   "toc_cell": true,
   "toc_position": {
    "height": "calc(100% - 180px)",
    "left": "10px",
    "top": "150px",
    "width": "200.475px"
   },
   "toc_section_display": true,
   "toc_window_display": true
  }
 },
 "nbformat": 4,
 "nbformat_minor": 2
}
