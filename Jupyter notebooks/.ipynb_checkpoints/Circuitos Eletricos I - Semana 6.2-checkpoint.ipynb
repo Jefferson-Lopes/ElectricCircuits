{
 "cells": [
  {
   "cell_type": "code",
   "execution_count": null,
   "metadata": {},
   "outputs": [],
   "source": [
    "from IPython.core.display import HTML\n",
    "from IPython.display import Image\n",
    "HTML(\"\"\"\n",
    "<style>\n",
    ".output_png {\n",
    "    display: table-cell;\n",
    "    text-align: center;\n",
    "    vertical-align: middle;\n",
    "}\n",
    "</style>\n",
    "\"\"\")"
   ]
  },
  {
   "cell_type": "markdown",
   "metadata": {},
   "source": [
    "# *Circuitos Elétricos I - Semana 6*"
   ]
  },
  {
   "cell_type": "markdown",
   "metadata": {},
   "source": [
    "## Elementos armazenadores de energia\n",
    "\n",
    "Comparação entre capacitores convencionais, supercapacitores e baterias de lítio. A tabela abaixo mostra as especificações  necessários para cada dispositivo armazenar ∼1 megajoule (MJ) de energia (300 watts-hora). 1 MJ de energia irá alimentar um laptop com um consumo médio de 50 W por 6 horas. Observe na primeira coluna que uma bateria de íon de lítio pode conter 1000 vezes mais energia do que um capacitor convencional.\n",
    "\n",
    "$$\n",
    "\\begin{array}{|c|c|c|c|c|c|}\n",
    "\\hline \\text { Dispositivo } & \\begin{array}{c}\n",
    "\\text { Energia } \\\\\n",
    "\\text { específica } \\\\\n",
    "\\text { [Wh/kg]} \\\\\n",
    "\\end{array} & \\begin{array}{c}\n",
    "\\text { Energia } \\\\\n",
    "\\text { específica } \\\\\n",
    "\\text { [MJ/kg] }\n",
    "\\end{array} & \\begin{array}{c}\n",
    "\\text { Densidade de} \\\\\n",
    "\\text { Energia } \\\\\n",
    "\\text { [MJ / L] }\n",
    "\\end{array} & \\begin{array}{c}\n",
    "\\text { Volume } \\\\\n",
    "\\text { requerido para } \\\\\n",
    "\\text { armazenar 1 MJ } \\\\\n",
    "\\text { [L] }\n",
    "\\end{array} & \\begin{array}{c}\n",
    "\\text { Peso } \\\\\n",
    "\\text { requerido para } \\\\\n",
    "\\text { armazenar 1 MJ } \\\\\n",
    "\\text { [kg] }\n",
    "\\end{array} \\\\\n",
    "\\hline \\begin{array}{c}\n",
    "\\text { Capacitor convencional} \\\\\n",
    "\\end{array} & 0.01-0.1 & 4 \\times 10^{-5}-4 \\times 10^{-4} & 6 \\times 10^{-5}-6 \\times 10^{-4} & 17000-1700 & 25000-2500 \\\\\n",
    "\\text { Supercapacitor } & 1-10 & 0.004-0.04 & 0.006-0.06 & 166-16 & 250-25 \\\\\n",
    "\\text { Bateria de Íons de Lítio } & 100-250 & 0.36-0.9 & 1-2 & 1-0.5 & 2.8-1.1 \\\\\n",
    "\\hline\n",
    "\\end{array}\n",
    "$$\n",
    "\n",
    "Fonte: Fawwaz Ulaby, Michel M. Maharbiz and Cynthia M. Furse, $\\textit{ Circuit Analysis and Design}$, Michigan Publishing Services, 2018\n",
    "\n",
    "\n",
    "## Resumo dos elementos passivos ideais de dois terminais\n",
    "\n",
    "$$\n",
    "\\begin{array}{|l|c|c|c|}\n",
    "\\hline \\text { Propriedade } & R & L & C \\\\\n",
    "\\hline \\text { Relação } i-v  & i=\\frac{v}{R} & i=\\frac{1}{L} \\int_{t_{0}}^{t} v(\\tau) d \\tau+i\\left(t_{0}\\right) & i=C \\frac{d v}{d t} \\\\\n",
    "\\text { Relação } v-i & v=Ri & v=L \\frac{d i}{d t} & v=\\frac{1}{C} \\int_{t_{0}}^{t} i(\\tau) d \\tau+v\\left(t_{0}\\right) \\\\\n",
    "p \\text { (potência }) & p=Ri^{2} & p=L i \\frac{d i}{d t} & p=C v \\frac{d v}{d t} \\\\\n",
    "w \\text { (energia armazenada) } & 0 & w=\\frac{1}{2} L i^{2} & w=\\frac{1}{2} C v^{2} \\\\\n",
    "\\text { Associação em série } & R_{\\mathrm{eq}}=R_{1}+R_{2} & L_{\\mathrm{eq}}=L_{1}+L_{2} & \\frac{1}{C_{\\mathrm{eq}}}=\\frac{1}{C_{1}}+\\frac{1}{C_{2}} \\\\\n",
    "\\text { Associação em paralelo } & \\frac{1}{R_{\\mathrm{eq}}}=\\frac{1}{R_{1}}+\\frac{1}{R_{2}} & \\frac{1}{L_{\\mathrm{eq}}}=\\frac{1}{R_{1}}+\\frac{1}{R_{2}} & C_{\\mathrm{eq}}=C_{1}+C_{2} \\\\\n",
    "\\text { Comportamento em regime estacionário } & \\text { sem mudanças } & \\text { curto-circuito } & \\text { circuito aberto } \\\\\n",
    "\\text { Pode } v \\text { variar instantaneamente? } & \\text { sim } & \\text { sim } & \\text { não } \\\\\n",
    "\\text { Pode } i \\text { variar instantaneamente? } & \\text { sim } & \\text { não } & \\text { sim }\\\\ \\hline\n",
    "\\end{array}\n",
    "$$"
   ]
  },
  {
   "cell_type": "markdown",
   "metadata": {},
   "source": [
    "### Problema 1\n",
    "  \n",
    "Para o circuito abaixo, determine $v_{C1}$, $v_{C2}$ e $i_{L}$ assumindo que o circuito encontra-se em regime estacionário.\n"
   ]
  },
  {
   "cell_type": "code",
   "execution_count": null,
   "metadata": {},
   "outputs": [],
   "source": [
    "Image(\"J9C1.png\", width=600)"
   ]
  },
  {
   "cell_type": "markdown",
   "metadata": {},
   "source": [
    "### Problema 2\n",
    "  \n",
    "No circuito abaixo, sabe-se que $i_0(t)= 50e^{-8000t}[\\cos(6000t)+2\\mathrm{sen}(6000t)]$ mA, para $t\\geq 0^+$. Determine $v_{C}(0^+)$, $v_{L}(0^+)$ e $v_{R}(0^+)$.\n"
   ]
  },
  {
   "cell_type": "code",
   "execution_count": null,
   "metadata": {},
   "outputs": [],
   "source": [
    "Image(\"J9C2.png\", width=600)"
   ]
  },
  {
   "cell_type": "code",
   "execution_count": null,
   "metadata": {},
   "outputs": [],
   "source": [
    "import matplotlib.pyplot as plt\n",
    "import numpy as np\n",
    "from sympy import *\n",
    "\n",
    "tmax = 1e-3\n",
    "t    = np.linspace(0, tmax, num = 1000)\n",
    "i0   = 50*np.exp(-8000*t)*(np.cos(6000*t)+2*np.sin(6000*t))*1e-3\n",
    "\n",
    "plt.plot(t, i0)\n",
    "plt.xlim(0, tmax)\n",
    "plt.grid()\n",
    "plt.xlabel('t [s]')\n",
    "plt.ylabel('i0(t) [A]')\n",
    "plt.show()"
   ]
  },
  {
   "cell_type": "code",
   "execution_count": null,
   "metadata": {},
   "outputs": [],
   "source": [
    "# valores\n",
    "R = 320\n",
    "L = 20e-3\n",
    "C = 0.5e-6"
   ]
  },
  {
   "cell_type": "code",
   "execution_count": null,
   "metadata": {},
   "outputs": [],
   "source": [
    "# define variáveis \n",
    "t, τ = symbols('t, τ')\n",
    "\n",
    "# define i0(t)\n",
    "i0 = 50*exp(-8000*t)*(cos(6000*t)+2*sin(6000*t))*1e-3\n",
    "i0"
   ]
  },
  {
   "cell_type": "code",
   "execution_count": null,
   "metadata": {},
   "outputs": [],
   "source": [
    "# calcula tensão no indutor\n",
    "vL = L*diff(i0, t)\n",
    "vL = simplify(vL)\n",
    "\n",
    "print('Tensão no indutor:')\n",
    "print('vL(t) = ', vL , ' V')"
   ]
  },
  {
   "cell_type": "code",
   "execution_count": null,
   "metadata": {},
   "outputs": [],
   "source": [
    "print('vL(0+) = %.2f V' %vL.evalf(subs={t:0}))"
   ]
  },
  {
   "cell_type": "code",
   "execution_count": null,
   "metadata": {},
   "outputs": [],
   "source": [
    "# calcula tensão no resistor\n",
    "vR = R*i0\n",
    "#vR = simplify(vR)\n",
    "\n",
    "print('Tensão no resistor:')\n",
    "print('vR(t) = ', vR , ' V')"
   ]
  },
  {
   "cell_type": "code",
   "execution_count": null,
   "metadata": {},
   "outputs": [],
   "source": [
    "print('vR(0+) = %.2f V' %vR.evalf(subs={t:0}))"
   ]
  },
  {
   "cell_type": "code",
   "execution_count": null,
   "metadata": {},
   "outputs": [],
   "source": [
    "# calcula tensão no capacitor (LKT)\n",
    "vC = vR + vL\n",
    "vC = simplify(vC)\n",
    "\n",
    "print('Tensão no capacitor:')\n",
    "print('vC(t) = ', vC , ' V')"
   ]
  },
  {
   "cell_type": "code",
   "execution_count": null,
   "metadata": {},
   "outputs": [],
   "source": [
    "print('vC(0+) = %.2f V' %vC.evalf(subs={t:0}))"
   ]
  },
  {
   "cell_type": "code",
   "execution_count": null,
   "metadata": {},
   "outputs": [],
   "source": [
    "# checagem de vC(t) via integração de i0\n",
    "\n",
    "i0 = 50*exp(-8000*τ)*(cos(6000*τ)+2*sin(6000*τ))*1e-3\n",
    "\n",
    "vC = -(1/C)*integrate(i0, (τ, 0, t)) + 20\n",
    "vC = simplify(vC)\n",
    "\n",
    "print('vC(t) = ', vC , ' V')"
   ]
  },
  {
   "cell_type": "code",
   "execution_count": null,
   "metadata": {},
   "outputs": [],
   "source": [
    "p = plot(vC, vR, vL, (t,0,6e-4), ylim = (-20,20), show=False, legend=True)\n",
    "p[0].line_color = 'red'\n",
    "p[1].line_color = 'blue'\n",
    "p[2].line_color = 'black'\n",
    "p[0].label = 'vC'\n",
    "p[1].label = 'vR'\n",
    "p[2].label = 'vL'\n",
    "p.show()"
   ]
  }
 ],
 "metadata": {
  "kernelspec": {
   "display_name": "Python 3",
   "language": "python",
   "name": "python3"
  },
  "language_info": {
   "codemirror_mode": {
    "name": "ipython",
    "version": 3
   },
   "file_extension": ".py",
   "mimetype": "text/x-python",
   "name": "python",
   "nbconvert_exporter": "python",
   "pygments_lexer": "ipython3",
   "version": "3.7.4"
  },
  "toc": {
   "base_numbering": 1,
   "nav_menu": {},
   "number_sections": true,
   "sideBar": true,
   "skip_h1_title": true,
   "title_cell": "Table of Contents",
   "title_sidebar": "Contents",
   "toc_cell": true,
   "toc_position": {
    "height": "calc(100% - 180px)",
    "left": "10px",
    "top": "150px",
    "width": "200.475px"
   },
   "toc_section_display": true,
   "toc_window_display": true
  }
 },
 "nbformat": 4,
 "nbformat_minor": 2
}
