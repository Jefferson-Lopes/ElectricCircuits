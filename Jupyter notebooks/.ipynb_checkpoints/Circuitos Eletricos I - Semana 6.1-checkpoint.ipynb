{
 "cells": [
  {
   "cell_type": "code",
   "execution_count": 1,
   "metadata": {
    "ExecuteTime": {
     "end_time": "2022-02-08T12:02:36.376817Z",
     "start_time": "2022-02-08T12:02:34.136700Z"
    }
   },
   "outputs": [
    {
     "data": {
      "text/html": [
       "\n",
       "<style>\n",
       ".output_png {\n",
       "    display: table-cell;\n",
       "    text-align: center;\n",
       "    vertical-align: middle;\n",
       "}\n",
       "</style>\n"
      ],
      "text/plain": [
       "<IPython.core.display.HTML object>"
      ]
     },
     "execution_count": 1,
     "metadata": {},
     "output_type": "execute_result"
    }
   ],
   "source": [
    "from IPython.core.display import HTML\n",
    "\n",
    "import sympy as sp\n",
    "from sympy import oo\n",
    "from utils import symplot, symdisp, round_expr\n",
    "import numpy as np\n",
    "\n",
    "HTML(\"\"\"\n",
    "<style>\n",
    ".output_png {\n",
    "    display: table-cell;\n",
    "    text-align: center;\n",
    "    vertical-align: middle;\n",
    "}\n",
    "</style>\n",
    "\"\"\")"
   ]
  },
  {
   "cell_type": "markdown",
   "metadata": {},
   "source": [
    "# *Circuitos Elétricos I - Semana 6*"
   ]
  },
  {
   "cell_type": "markdown",
   "metadata": {},
   "source": [
    "### Problema 1\n",
    "  \n",
    "Para o circuito abaixo, tem-se que $v(t)=-1800te^{-20t}$ para $t\\geq0$ e $i_1(0)=4\\;A$ e $i_2(0)=-16\\;A$\n",
    "\n",
    "a) Determine $i_1(t)$ e $i_2(t)$ para $t\\geq0$.\\\n",
    "b) Determine a energia fornecida à fonte de tensão no intervalo $0\\leq t \\leq\\infty$.\\\n",
    "c) Determine a energia inicial armazenada nos indutores.\\\n",
    "d) Determine a energia final armazenada nos indutores.\n",
    "\n",
    "<img src=\"./figures/J8C1.png\" width=\"500\">"
   ]
  },
  {
   "cell_type": "code",
   "execution_count": 2,
   "metadata": {
    "ExecuteTime": {
     "end_time": "2022-02-08T12:02:36.751193Z",
     "start_time": "2022-02-08T12:02:36.378813Z"
    }
   },
   "outputs": [
    {
     "data": {
      "text/latex": [
       "$\\displaystyle v(t) = - 1800 t e^{- 20 t}\\;V$"
      ],
      "text/plain": [
       "<IPython.core.display.Math object>"
      ]
     },
     "metadata": {},
     "output_type": "display_data"
    }
   ],
   "source": [
    "# define as variáveis \n",
    "t = sp.symbols('t', real=True)\n",
    "\n",
    "# expressão para a tensão v(t)\n",
    "v = -1800*t*sp.exp(-20*t)\n",
    "\n",
    "symdisp('v(t) = ', v, 'V')"
   ]
  },
  {
   "cell_type": "code",
   "execution_count": 3,
   "metadata": {
    "ExecuteTime": {
     "end_time": "2022-02-08T12:02:36.987919Z",
     "start_time": "2022-02-08T12:02:36.753190Z"
    }
   },
   "outputs": [
    {
     "data": {
      "image/png": "[encoded data removed]",
      "text/plain": [
       "<Figure size 432x288 with 1 Axes>"
      ]
     },
     "execution_count": 3,
     "metadata": {},
     "output_type": "execute_result"
    }
   ],
   "source": [
    "tmax = 0.5\n",
    "intervalo = np.linspace(0, tmax, num=1000)\n",
    "symplot(t, v, intervalo, funLabel= 'v(t)')"
   ]
  },
  {
   "cell_type": "code",
   "execution_count": 4,
   "metadata": {
    "ExecuteTime": {
     "end_time": "2022-02-08T12:02:37.003990Z",
     "start_time": "2022-02-08T12:02:36.991919Z"
    }
   },
   "outputs": [],
   "source": [
    "# valores das indutâncias\n",
    "L1 = 10\n",
    "L2 = 30\n",
    "\n",
    "# valores iniciais das correntes nos indutores\n",
    "i1_0 = 4\n",
    "i2_0 = -16"
   ]
  },
  {
   "cell_type": "code",
   "execution_count": 5,
   "metadata": {
    "ExecuteTime": {
     "end_time": "2022-02-08T12:02:37.161896Z",
     "start_time": "2022-02-08T12:02:37.005990Z"
    }
   },
   "outputs": [
    {
     "name": "stdout",
     "output_type": "stream",
     "text": [
      "Correntes nos indutores:\n"
     ]
    },
    {
     "data": {
      "text/latex": [
       "$\\displaystyle i_1(t) = - 0.05 \\left(180 t + 9\\right) e^{- 20 t} + 4.45\\; A$"
      ],
      "text/plain": [
       "<IPython.core.display.Math object>"
      ]
     },
     "metadata": {},
     "output_type": "display_data"
    },
    {
     "data": {
      "text/latex": [
       "$\\displaystyle i_2(t) = - 0.02 \\left(180 t + 9\\right) e^{- 20 t} - 15.85\\; A$"
      ],
      "text/plain": [
       "<IPython.core.display.Math object>"
      ]
     },
     "metadata": {},
     "output_type": "display_data"
    }
   ],
   "source": [
    "# correntes nos indutores em função da tensão aplicada aos terminais\n",
    "i1 = -(1/L1)*sp.integrate(v, (t, 0, t)) + i1_0\n",
    "i2 = -(1/L2)*sp.integrate(v, (t, 0, t)) + i2_0\n",
    "\n",
    "print('Correntes nos indutores:')\n",
    "symdisp('i_1(t) = ', round_expr(i1, 2) , ' A')\n",
    "symdisp('i_2(t) = ', round_expr(i2, 2) , ' A')"
   ]
  },
  {
   "cell_type": "code",
   "execution_count": 6,
   "metadata": {
    "ExecuteTime": {
     "end_time": "2022-02-08T12:02:37.595710Z",
     "start_time": "2022-02-08T12:02:37.164895Z"
    }
   },
   "outputs": [
    {
     "name": "stdout",
     "output_type": "stream",
     "text": [
      "Energia entrege à fonte quando t tende a infinito:\n"
     ]
    },
    {
     "data": {
      "text/latex": [
       "$\\displaystyle E = 52.65\\;J$"
      ],
      "text/plain": [
       "<IPython.core.display.Math object>"
      ]
     },
     "metadata": {},
     "output_type": "display_data"
    }
   ],
   "source": [
    "# LKC\n",
    "i = i1 + i2\n",
    "\n",
    "# potência fornecida à fonte\n",
    "p = v*i\n",
    "\n",
    "# energia entrege à fonte\n",
    "E = sp.integrate(p, (t, 0, oo))\n",
    "\n",
    "print('Energia entrege à fonte quando t tende a infinito:')\n",
    "symdisp('E = ', E, 'J')"
   ]
  },
  {
   "cell_type": "code",
   "execution_count": 7,
   "metadata": {
    "ExecuteTime": {
     "end_time": "2022-02-08T12:02:37.626687Z",
     "start_time": "2022-02-08T12:02:37.597703Z"
    }
   },
   "outputs": [
    {
     "name": "stdout",
     "output_type": "stream",
     "text": [
      "Energia inicial armazenada nos indutores:\n"
     ]
    },
    {
     "data": {
      "text/latex": [
       "$\\displaystyle E_1(0) = 80.0\\;J$"
      ],
      "text/plain": [
       "<IPython.core.display.Math object>"
      ]
     },
     "metadata": {},
     "output_type": "display_data"
    },
    {
     "data": {
      "text/latex": [
       "$\\displaystyle E_2(0) = 3840.0\\;J$"
      ],
      "text/plain": [
       "<IPython.core.display.Math object>"
      ]
     },
     "metadata": {},
     "output_type": "display_data"
    }
   ],
   "source": [
    "# calculando os valores de energia em t=0\n",
    "\n",
    "E1_0 = (1/2)*L1*(i1.evalf(subs={t:0}))**2\n",
    "E2_0 = (1/2)*L2*(i2.evalf(subs={t:0}))**2\n",
    "\n",
    "print('Energia inicial armazenada nos indutores:')\n",
    "symdisp('E_1(0) = ', E1_0, 'J')\n",
    "symdisp('E_2(0) = ', E2_0, 'J')"
   ]
  },
  {
   "cell_type": "code",
   "execution_count": 8,
   "metadata": {
    "ExecuteTime": {
     "end_time": "2022-02-08T12:02:37.657667Z",
     "start_time": "2022-02-08T12:02:37.628686Z"
    }
   },
   "outputs": [
    {
     "name": "stdout",
     "output_type": "stream",
     "text": [
      "Energia final armazenada nos indutores:\n"
     ]
    },
    {
     "data": {
      "text/latex": [
       "$\\displaystyle E_1(\\infty) = 99.01\\;J$"
      ],
      "text/plain": [
       "<IPython.core.display.Math object>"
      ]
     },
     "metadata": {},
     "output_type": "display_data"
    },
    {
     "data": {
      "text/latex": [
       "$\\displaystyle E_2(\\infty) = 3768.34\\;J$"
      ],
      "text/plain": [
       "<IPython.core.display.Math object>"
      ]
     },
     "metadata": {},
     "output_type": "display_data"
    }
   ],
   "source": [
    "# calculando os valores de energia em t =oo\n",
    "\n",
    "E1_inf = (1/2)*L1*(i1.evalf(subs={t:100}))**2\n",
    "E2_inf = (1/2)*L2*(i2.evalf(subs={t:100}))**2\n",
    "\n",
    "print('Energia final armazenada nos indutores:')\n",
    "symdisp('E_1(\\infty) = ', round_expr(E1_inf, 2), 'J')\n",
    "symdisp('E_2(\\infty) = ', round_expr(E2_inf, 2), 'J')"
   ]
  },
  {
   "cell_type": "code",
   "execution_count": 9,
   "metadata": {
    "ExecuteTime": {
     "end_time": "2022-02-08T12:02:37.673657Z",
     "start_time": "2022-02-08T12:02:37.659666Z"
    },
    "lines_to_next_cell": 0
   },
   "outputs": [
    {
     "name": "stdout",
     "output_type": "stream",
     "text": [
      "Variação da energia armazenada nos indutores:\n"
     ]
    },
    {
     "data": {
      "text/latex": [
       "$\\displaystyle ΔE = -52.65\\;J$"
      ],
      "text/plain": [
       "<IPython.core.display.Math object>"
      ]
     },
     "metadata": {},
     "output_type": "display_data"
    }
   ],
   "source": [
    "# calculando a variação de energia nos indutores\n",
    "\n",
    "ΔE = (E1_inf-E1_0) + (E2_inf-E2_0)\n",
    "\n",
    "print('Variação da energia armazenada nos indutores:')\n",
    "symdisp('ΔE = ', round_expr(ΔE,2), 'J')"
   ]
  },
  {
   "cell_type": "markdown",
   "metadata": {},
   "source": [
    "### Problema 2\n",
    "\n",
    "Obtendo expressões para as indutâncias equivalentes em circuitos com acoplamento magnético\n",
    "\n",
    "<img src=\"./figures/J8C2.png\" width=\"700\">"
   ]
  },
  {
   "cell_type": "markdown",
   "metadata": {},
   "source": [
    "$$\n",
    "\\begin{aligned}\n",
    "&v_L = L_{1} \\frac{d i_{1}}{d t}+M \\frac{d i_{2}}{d t}\\\\\n",
    "&v_L = L_{2} \\frac{d i_{2}}{d t}+M \\frac{d i_{1}}{d t}\n",
    "\\end{aligned}\n",
    "$$"
   ]
  },
  {
   "cell_type": "markdown",
   "metadata": {},
   "source": [
    "#### Definindo as equações do circuito na forma matricial"
   ]
  },
  {
   "cell_type": "code",
   "execution_count": 10,
   "metadata": {
    "ExecuteTime": {
     "end_time": "2022-02-08T12:02:37.689646Z",
     "start_time": "2022-02-08T12:02:37.678655Z"
    },
    "hide_input": true,
    "lines_to_next_cell": 2
   },
   "outputs": [],
   "source": [
    "L1, L2, M, vL, t = sp.symbols('L_1, L_2, M, v_L, t', real=True)"
   ]
  },
  {
   "cell_type": "code",
   "execution_count": 11,
   "metadata": {
    "ExecuteTime": {
     "end_time": "2022-02-08T12:02:37.735618Z",
     "start_time": "2022-02-08T12:02:37.691645Z"
    },
    "hide_input": true
   },
   "outputs": [
    {
     "data": {
      "text/latex": [
       "$\\displaystyle A = \\left[\\begin{matrix}L_{1} & M\\\\M & L_{2}\\end{matrix}\\right]\\; $"
      ],
      "text/plain": [
       "<IPython.core.display.Math object>"
      ]
     },
     "metadata": {},
     "output_type": "display_data"
    },
    {
     "data": {
      "text/latex": [
       "$\\displaystyle V = \\left[\\begin{matrix}v_{L}\\\\v_{L}\\end{matrix}\\right]\\; $"
      ],
      "text/plain": [
       "<IPython.core.display.Math object>"
      ]
     },
     "metadata": {},
     "output_type": "display_data"
    },
    {
     "data": {
      "text/latex": [
       "$\\displaystyle \\frac{dI}{dt} = \\left[\\begin{matrix}\\frac{d}{d t} \\operatorname{i_{1}}{\\left(t \\right)}\\\\\\frac{d}{d t} \\operatorname{i_{2}}{\\left(t \\right)}\\end{matrix}\\right]\\; $"
      ],
      "text/plain": [
       "<IPython.core.display.Math object>"
      ]
     },
     "metadata": {},
     "output_type": "display_data"
    }
   ],
   "source": [
    "i1 = sp.Function('i_1')(t)\n",
    "i2 = sp.Function('i_2')(t)\n",
    "\n",
    "A  = sp.Matrix([[L1, M],[M, L2]])\n",
    "V  = sp.Matrix([[vL],[vL]])\n",
    "\n",
    "I  = sp.Matrix([[i1],[i2]])\n",
    "dI = sp.diff(I, t)\n",
    "\n",
    "symdisp('A = ', A)\n",
    "symdisp('V = ', V)\n",
    "symdisp(r'\\frac{dI}{dt} = ', dI)"
   ]
  },
  {
   "cell_type": "markdown",
   "metadata": {},
   "source": [
    "#### Equação da tensão em função das correntes na forma matricial"
   ]
  },
  {
   "cell_type": "code",
   "execution_count": 12,
   "metadata": {
    "ExecuteTime": {
     "end_time": "2022-02-08T12:02:37.767599Z",
     "start_time": "2022-02-08T12:02:37.737617Z"
    },
    "hide_input": false
   },
   "outputs": [
    {
     "data": {
      "text/latex": [
       "$\\displaystyle \\left[\\begin{matrix}v_{L}\\\\v_{L}\\end{matrix}\\right] = \\left[\\begin{matrix}L_{1} \\frac{d}{d t} \\operatorname{i_{1}}{\\left(t \\right)} + M \\frac{d}{d t} \\operatorname{i_{2}}{\\left(t \\right)}\\\\L_{2} \\frac{d}{d t} \\operatorname{i_{2}}{\\left(t \\right)} + M \\frac{d}{d t} \\operatorname{i_{1}}{\\left(t \\right)}\\end{matrix}\\right]$"
      ],
      "text/plain": [
       "Eq(Matrix([\n",
       "[v_L],\n",
       "[v_L]]), Matrix([\n",
       "[L_1*Derivative(i_1(t), t) + M*Derivative(i_2(t), t)],\n",
       "[L_2*Derivative(i_2(t), t) + M*Derivative(i_1(t), t)]]))"
      ]
     },
     "execution_count": 12,
     "metadata": {},
     "output_type": "execute_result"
    }
   ],
   "source": [
    "sp.Eq(V, A*dI)"
   ]
  },
  {
   "cell_type": "markdown",
   "metadata": {},
   "source": [
    "#### Determinado a inversa da matriz de indutâncias $A$"
   ]
  },
  {
   "cell_type": "code",
   "execution_count": 13,
   "metadata": {
    "ExecuteTime": {
     "end_time": "2022-02-08T12:02:37.972831Z",
     "start_time": "2022-02-08T12:02:37.770599Z"
    },
    "hide_input": false
   },
   "outputs": [
    {
     "data": {
      "text/latex": [
       "$\\displaystyle A^{-1} = \\left[\\begin{matrix}\\frac{L_{2}}{L_{1} L_{2} - M^{2}} & - \\frac{M}{L_{1} L_{2} - M^{2}}\\\\- \\frac{M}{L_{1} L_{2} - M^{2}} & \\frac{L_{1}}{L_{1} L_{2} - M^{2}}\\end{matrix}\\right]\\; $"
      ],
      "text/plain": [
       "<IPython.core.display.Math object>"
      ]
     },
     "metadata": {},
     "output_type": "display_data"
    }
   ],
   "source": [
    "# matriz inversa de A\n",
    "symdisp('A^{-1} = ' , A**-1)"
   ]
  },
  {
   "cell_type": "markdown",
   "metadata": {},
   "source": [
    "#### Determinando o vetor de derivadas das correntes"
   ]
  },
  {
   "cell_type": "code",
   "execution_count": 14,
   "metadata": {
    "ExecuteTime": {
     "end_time": "2022-02-08T12:02:38.228671Z",
     "start_time": "2022-02-08T12:02:37.974828Z"
    },
    "hide_input": false
   },
   "outputs": [
    {
     "data": {
      "text/latex": [
       "$\\displaystyle \\frac{dI}{dt} = \\left[\\begin{matrix}\\frac{v_{L} \\left(L_{2} - M\\right)}{L_{1} L_{2} - M^{2}}\\\\\\frac{v_{L} \\left(L_{1} - M\\right)}{L_{1} L_{2} - M^{2}}\\end{matrix}\\right]\\; $"
      ],
      "text/plain": [
       "<IPython.core.display.Math object>"
      ]
     },
     "metadata": {},
     "output_type": "display_data"
    }
   ],
   "source": [
    "# calcula o vetor de derivadas das correntes\n",
    "dI = (A**-1)*V\n",
    "\n",
    "dI.simplify()\n",
    "\n",
    "symdisp(r'\\frac{dI}{dt} = ', dI)"
   ]
  },
  {
   "cell_type": "markdown",
   "metadata": {},
   "source": [
    "#### LKC"
   ]
  },
  {
   "cell_type": "code",
   "execution_count": 15,
   "metadata": {
    "ExecuteTime": {
     "end_time": "2022-02-08T12:02:38.244662Z",
     "start_time": "2022-02-08T12:02:38.230670Z"
    },
    "hide_input": false
   },
   "outputs": [
    {
     "data": {
      "text/latex": [
       "$\\displaystyle \\frac{di_0}{dt} = \\frac{di_1}{dt} + \\frac{di_2}{dt} =  \\frac{v_{L} \\left(L_{1} - M\\right)}{L_{1} L_{2} - M^{2}} + \\frac{v_{L} \\left(L_{2} - M\\right)}{L_{1} L_{2} - M^{2}}\\; $"
      ],
      "text/plain": [
       "<IPython.core.display.Math object>"
      ]
     },
     "metadata": {},
     "output_type": "display_data"
    }
   ],
   "source": [
    "# di0/dt = di1/dt + di2/dt\n",
    "dI0 = dI[0] + dI[1]\n",
    "\n",
    "symdisp(r'\\frac{di_0}{dt} = \\frac{di_1}{dt} + \\frac{di_2}{dt} =  ', dI0)"
   ]
  },
  {
   "cell_type": "markdown",
   "metadata": {},
   "source": [
    "#### Obtendo a expressão para a indutância equivalente"
   ]
  },
  {
   "cell_type": "code",
   "execution_count": 16,
   "metadata": {
    "ExecuteTime": {
     "end_time": "2022-02-08T12:02:38.324613Z",
     "start_time": "2022-02-08T12:02:38.246662Z"
    },
    "hide_input": false
   },
   "outputs": [
    {
     "data": {
      "text/latex": [
       "$\\displaystyle L_{eq} = \\frac{L_{1} L_{2} - M^{2}}{L_{1} + L_{2} - 2 M}\\; $"
      ],
      "text/plain": [
       "<IPython.core.display.Math object>"
      ]
     },
     "metadata": {},
     "output_type": "display_data"
    }
   ],
   "source": [
    "# indutância equivalente: vL = Leq*di0/dt -> Leq = vL/di0/dt\n",
    "Leq = vL/dI0\n",
    "\n",
    "symdisp('L_{eq} = ', Leq.simplify())"
   ]
  }
 ],
 "metadata": {
  "jupytext": {
   "encoding": "# -*- coding: utf-8 -*-",
   "formats": "ipynb,py:light"
  },
  "kernelspec": {
   "display_name": "Python 3 (ipykernel)",
   "language": "python",
   "name": "python3"
  },
  "language_info": {
   "codemirror_mode": {
    "name": "ipython",
    "version": 3
   },
   "file_extension": ".py",
   "mimetype": "text/x-python",
   "name": "python",
   "nbconvert_exporter": "python",
   "pygments_lexer": "ipython3",
   "version": "3.8.8"
  },
  "toc": {
   "base_numbering": 1,
   "nav_menu": {},
   "number_sections": true,
   "sideBar": true,
   "skip_h1_title": true,
   "title_cell": "Table of Contents",
   "title_sidebar": "Contents",
   "toc_cell": true,
   "toc_position": {
    "height": "calc(100% - 180px)",
    "left": "10px",
    "top": "150px",
    "width": "200.475px"
   },
   "toc_section_display": true,
   "toc_window_display": true
  },
  "varInspector": {
   "cols": {
    "lenName": 16,
    "lenType": 16,
    "lenVar": 40
   },
   "kernels_config": {
    "python": {
     "delete_cmd_postfix": "",
     "delete_cmd_prefix": "del ",
     "library": "var_list.py",
     "varRefreshCmd": "print(var_dic_list())"
    },
    "r": {
     "delete_cmd_postfix": ") ",
     "delete_cmd_prefix": "rm(",
     "library": "var_list.r",
     "varRefreshCmd": "cat(var_dic_list()) "
    }
   },
   "types_to_exclude": [
    "module",
    "function",
    "builtin_function_or_method",
    "instance",
    "_Feature"
   ],
   "window_display": false
  }
 },
 "nbformat": 4,
 "nbformat_minor": 2
}
