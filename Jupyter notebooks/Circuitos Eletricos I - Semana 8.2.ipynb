{
 "cells": [
  {
   "cell_type": "code",
   "execution_count": 1,
   "metadata": {},
   "outputs": [
    {
     "data": {
      "text/html": [
       "\n",
       "<style>\n",
       ".output_png {\n",
       "    display: table-cell;\n",
       "    text-align: center;\n",
       "    vertical-align: middle;\n",
       "}\n",
       "</style>\n"
      ],
      "text/plain": [
       "<IPython.core.display.HTML object>"
      ]
     },
     "execution_count": 1,
     "metadata": {},
     "output_type": "execute_result"
    }
   ],
   "source": [
    "from IPython.core.display import HTML\n",
    "from IPython.display import Image\n",
    "HTML(\"\"\"\n",
    "<style>\n",
    ".output_png {\n",
    "    display: table-cell;\n",
    "    text-align: center;\n",
    "    vertical-align: middle;\n",
    "}\n",
    "</style>\n",
    "\"\"\")"
   ]
  },
  {
   "cell_type": "markdown",
   "metadata": {},
   "source": [
    "# *Circuitos Elétricos I - Semana 8*\n",
    "\n",
    "# Circuitos de segunda ordem"
   ]
  },
  {
   "cell_type": "markdown",
   "metadata": {},
   "source": [
    "## Circuito RLC em paralelo\n",
    "\n",
    "<img src=\"./figures/J12C2.png\" width=\"800\">\n",
    "\n",
    "### Aplicação das Leis de Kirchhoff \n",
    "\n",
    "$$\\begin{align}\n",
    "   i_R + i_L + i_C &= i_s\\\\\n",
    "   \\frac{v}{R} + i_L + C\\frac{d v}{d t} &= i_s\\nonumber\\\\\n",
    "    \\frac{1}{R}\\left[L\\frac{d i_L}{d t}\\right] + i_L + C \\frac{d}{d t}\\left[L\\frac{d i_L}{d t}\\right]  &= i_s\\nonumber\\\\\n",
    "    \\frac{d^{2} i_L}{d t^{2}}+\\frac{1}{RC} \\frac{d i_L}{d t}+\\frac{1}{L C} i_L &=\\frac{i_s}{LC}\n",
    "   \\end{align}\n",
    "$$\n",
    "\n",
    "com $\\alpha = \\frac{1}{2RC}$ e $\\omega_0 = \\frac{1}{\\sqrt{LC}}$, temos\n",
    "\n",
    "$$ \n",
    "\\begin{equation}\\label{EDO1} \n",
    "\\frac{d^{2} i_L}{d t^{2}}+2\\alpha \\frac{d i_L}{d t}+\\omega_0^2 i_L=i_{\\mathrm{s}}\\omega_0^2 \n",
    "\\end{equation} \n",
    "$$\n",
    "\n",
    "A equação \\ref{EDO1} é uma EDO de segunda ordem, linear e de coeficientes constantes.\n",
    "\n",
    "Equação característica:\n",
    "\n",
    "$$\\begin{equation} s^2+2\\alpha s + \\omega_0^2=0 \\end{equation} $$\n",
    "\n",
    "Raízes da equação característica:\n",
    "\n",
    "$$\n",
    "\\begin{align}\n",
    "s_1 &=-\\alpha +\\sqrt{\\alpha^2-\\omega_0^2}\\\\\n",
    "s_2 &=-\\alpha -\\sqrt{\\alpha^2-\\omega_0^2}\n",
    "\\end{align}\n",
    "$$"
   ]
  },
  {
   "cell_type": "markdown",
   "metadata": {},
   "source": [
    "### Resposta total \n",
    "\n",
    "A resposta transiente de circuitos RLC em paralelo, seja ela natural ($i_L(\\infty)=0$) ou ao degrau ($i_L(\\infty)=i_s$), pode ser classificada nas três casos seguintes. Em todos os casos, assume-se que o transiente teve início no instante $t_0$ (instante do chaveamento).\n",
    "\n",
    "#### Caso superamortecido ($\\alpha>\\omega_0\\Rightarrow \\text{raízes reais e distintas}$):\n",
    "\n",
    "Solução geral da EDO:\n",
    "\n",
    "$$ \\begin{equation} i_L(t) =A_{1} e^{s_{1} (t-t_0)}+A_{2} e^{s_{2} (t-t_0)}+i_L(\\infty) \\end{equation}$$\n",
    "\n",
    "Condições iniciais para $i_L(t)$:\n",
    "\n",
    "$$\n",
    "\\begin{align}\n",
    "i_L(t_0^+) &=A_1 + A_2 + i_L(\\infty)\\\\\n",
    "\\frac{di_L(t_0^+)}{dt} &=s_1A_1 + s_2A_2 = \\frac{1}{L} v_C(t_0^+)\n",
    "\\end{align}\n",
    "$$\n",
    "\n",
    "Solução do sistema em $A_1$ e $A_2$:\n",
    "\n",
    "$$\n",
    "\\begin{align}\n",
    "A_{1} &=\\frac{\\frac{1}{L} v_C(t_0^+)-s_{2}\\left[i_L(t_0^+)-i_L(\\infty)\\right]}{s_{1}-s_{2}} \\\\\n",
    "A_{2} &=\\frac{-\\frac{1}{L} v_C(t_0^+)+s_{1}\\left[i_L(t_0^+)-i_L(\\infty)\\right]}{s_{1}-s_{2}}\n",
    "\\end{align}\n",
    "$$"
   ]
  },
  {
   "cell_type": "markdown",
   "metadata": {},
   "source": [
    "#### Caso subamortecido ($ \\alpha<\\omega_0\\Rightarrow\\text{raízes complexas e conjugadas} $):\n",
    "\n",
    "Fazendo $\\omega_d = \\sqrt{\\omega_0^2-\\alpha^2}$ temos $s_1 = -\\alpha +j\\omega_d$ e $s_2 = -\\alpha -j\\omega_d$.\n",
    "\n",
    "Solução geral da EDO:\n",
    "\n",
    "$$\\begin{equation} i_L(t) = e^{-\\alpha(t-t_0)}\\left\\lbrace B_{1}\\cos[\\omega_d (t-t_0)] + B_{2}\\sin[\\omega_d (t-t_0)]  \\right\\rbrace + i_L(\\infty) \\end{equation}$$\n",
    "\n",
    "Condições iniciais para $i_L(t)$:\n",
    "\n",
    "$$\n",
    "\\begin{align}\n",
    "i_L(t_0^+) &=B_1 + i_L(\\infty)\\\\\n",
    "\\frac{di_L(t_0^+)}{dt} &= -\\alpha B_1 +\\omega_d B_2 = \\frac{1}{L} v_C(t_0^+)\n",
    "\\end{align}\n",
    "$$\n",
    "\n",
    "Solução do sistema em $B_1$ e $B_2$:\n",
    "\n",
    "$$\n",
    "\\begin{align}\n",
    "B_{1} &=i_L(t_0^+)-i_L(\\infty) \\\\\n",
    "B_{2} &=\\frac{\\frac{1}{L} v_C(t_0^+)+\\alpha\\left[i_L(t_0^+)-i_L(\\infty)\\right]}{\\omega_d}\n",
    "\\end{align}\n",
    "$$"
   ]
  },
  {
   "cell_type": "markdown",
   "metadata": {},
   "source": [
    "#### Caso criticamente amortecido ($\\alpha=\\omega_0\\Rightarrow \\text{raízes reais e idênticas } s_1=s_2=-\\alpha$):\n",
    "\n",
    "Solução geral da EDO:\n",
    "\n",
    "$$ \\begin{equation} i_L(t) =D_{1} e^{-\\alpha(t-t_0)}+D_{2}(t-t_0) e^{-\\alpha(t-t_0)}+i_L(\\infty) \\end{equation}$$\n",
    "\n",
    "Condições iniciais para $i_L(t)$:\n",
    "\n",
    "$$\n",
    "\\begin{align}\n",
    "i_L(t_0^+) &=D_1 + i_L(\\infty)\\\\\n",
    "\\frac{di_L(t_0^+)}{dt} &=-\\alpha D_1 + D_2 = \\frac{1}{L} v_C(t_0^+)\n",
    "\\end{align}\n",
    "$$\n",
    "\n",
    "Solução do sistema em $D_1$ e $D_2$:\n",
    "\n",
    "$$\n",
    "\\begin{align}\n",
    "D_{1} &=i_L(t_0^+)-i_L(\\infty) \\\\\n",
    "D_{2} &= \\frac{1}{L} v_C(t_0^+)+\\alpha\\left[i_L(t_0^+)-i_L(\\infty)\\right]\n",
    "\\end{align}\n",
    "$$"
   ]
  },
  {
   "cell_type": "markdown",
   "metadata": {},
   "source": [
    "### Problema 1\n",
    "\n",
    "Para o circuito a seguir, as chaves $ch1$ e $ch2$ estiveram abertas por um longo intervalo de tempo. \n",
    "\n",
    "<img src=\"./figures/J12C3.png\" width=\"700\">\n",
    "\n",
    "\n",
    "a. Considerando que apenas $ch1$ fecha em $t_0=0$s, determine a tensão sobre o capacitor $v_C(t)$ para $t\\geq 0^+$.\\\n",
    "b. Qual o máximo valor (absoluto) atingido pela tensão aplicada aos terminais do capacitor para $t\\geq 0^+$? Em que instante ele ocorre?\\\n",
    "c. Considerando que apenas $ch2$ fecha em $t_0=0$s, determine a tensão sobre o capacitor $v_C(t)$ para $t\\geq 0^+$.\n",
    "\n",
    "Link para a simulação do circuito: https://tinyurl.com/yf8pj57t"
   ]
  },
  {
   "cell_type": "code",
   "execution_count": 2,
   "metadata": {},
   "outputs": [],
   "source": [
    "import numpy as np\n",
    "import sympy as sp\n",
    "from matplotlib import style\n",
    "\n",
    "# função para arredondamento de floats em expressões simbólicas\n",
    "def round_expr(expr, num_digits):\n",
    "    return expr.xreplace({n : round(n, num_digits) for n in expr.atoms(sp.Number)})"
   ]
  },
  {
   "cell_type": "markdown",
   "metadata": {},
   "source": [
    "Resolução item (a):"
   ]
  },
  {
   "cell_type": "code",
   "execution_count": 3,
   "metadata": {},
   "outputs": [
    {
     "name": "stdout",
     "output_type": "stream",
     "text": [
      "α = 609.76 rad/s\n",
      "ω0 = 577.35 rad/s\n"
     ]
    }
   ],
   "source": [
    "# Parâmetros do circuito:\n",
    "R = 1.64\n",
    "L = 6e-3\n",
    "C = 0.5e-3\n",
    "\n",
    "# calculando α e ω0\n",
    "α  = 1/(2*R*C)\n",
    "ω0 = 1/np.sqrt(L*C)\n",
    "\n",
    "print('α = %.2f rad/s'%α)\n",
    "print('ω0 = %.2f rad/s'%ω0)"
   ]
  },
  {
   "cell_type": "code",
   "execution_count": 4,
   "metadata": {},
   "outputs": [],
   "source": [
    "# informações obtidas pela análise do circuito\n",
    "iL_inf = -4 # valor final da corrente no indutor\n",
    "iL_t0 = 2   # valor inicial da corrente no indutor\n",
    "vc_t0 = 0   # valor inicial da tensão no capcitor\n",
    "\n",
    "t0 = 0 # instante do chaveamento"
   ]
  },
  {
   "cell_type": "code",
   "execution_count": 5,
   "metadata": {},
   "outputs": [
    {
     "name": "stdout",
     "output_type": "stream",
     "text": [
      "iL(t) =  A1*exp(-413.62*t) + A2*exp(-805.89*t) - 4.0  A\n"
     ]
    }
   ],
   "source": [
    "# raízes da equação característica\n",
    "s1 = -α + np.sqrt(α**2-ω0**2)\n",
    "s2 = -α - np.sqrt(α**2-ω0**2)\n",
    "\n",
    "# define variáveis da solução geral\n",
    "t, A1, A2 = sp.symbols('t,A1,A2')\n",
    "\n",
    "# expressão geral da resposta superamortecida\n",
    "iL = A1*sp.exp(s1*(t-t0)) + A2*sp.exp(s2*(t-t0)) + iL_inf\n",
    "\n",
    "print('iL(t) = ', round_expr(iL,2), ' A')"
   ]
  },
  {
   "cell_type": "code",
   "execution_count": 6,
   "metadata": {},
   "outputs": [
    {
     "name": "stdout",
     "output_type": "stream",
     "text": [
      "Solução do sistema:\n",
      "\n",
      " A1 = 12.33 A,\n",
      " A2 = -6.33 A\n"
     ]
    }
   ],
   "source": [
    "# define os sistema de equações com as condições iniciais\n",
    "eq1 = sp.Eq(   A1 +    A2 + iL_inf, iL_t0)             \n",
    "eq2 = sp.Eq(s1*A1 + s2*A2,        vc_t0/L)  \n",
    "\n",
    "# resolve o sistema\n",
    "soluc = sp.solve((eq1, eq2), dict=True)\n",
    "A1 = np.array([sol[A1] for sol in soluc])\n",
    "A2 = np.array([sol[A2] for sol in soluc])\n",
    "\n",
    "A1 = A1[0]\n",
    "A2 = A2[0]\n",
    "\n",
    "print('Solução do sistema:\\n\\n A1 = %.2f A,\\n A2 = %.2f A' %(round(A1,2), round(A2,2)))"
   ]
  },
  {
   "cell_type": "code",
   "execution_count": 7,
   "metadata": {},
   "outputs": [
    {
     "name": "stdout",
     "output_type": "stream",
     "text": [
      "iL(t) =  -4.0 - 6.33*exp(-805.89*t) + 12.33*exp(-413.62*t)  A\n"
     ]
    }
   ],
   "source": [
    "# expressão geral da resposta subamortecida\n",
    "iL = A1*sp.exp(s1*(t-t0)) + A2*sp.exp(s2*(t-t0)) + iL_inf\n",
    "\n",
    "print('iL(t) = ', round_expr(iL,2), ' A')"
   ]
  },
  {
   "cell_type": "code",
   "execution_count": 8,
   "metadata": {},
   "outputs": [
    {
     "name": "stdout",
     "output_type": "stream",
     "text": [
      "vC(t) =  30.59*exp(-805.89*t) - 30.59*exp(-413.62*t)  V\n"
     ]
    }
   ],
   "source": [
    "# tensão aplicada sobre o capacitor (= tensão sobre o indutor)\n",
    "vC = L*sp.diff(iL, t)\n",
    "\n",
    "print('vC(t) = ', round_expr(vC, 2), ' V')"
   ]
  },
  {
   "cell_type": "markdown",
   "metadata": {},
   "source": [
    "Resolução item (b):"
   ]
  },
  {
   "cell_type": "code",
   "execution_count": 9,
   "metadata": {},
   "outputs": [
    {
     "name": "stderr",
     "output_type": "stream",
     "text": [
      "C:\\ProgramData\\Anaconda3\\lib\\site-packages\\sympy\\plotting\\plot.py:916: MatplotlibDeprecationWarning: \n",
      "The set_smart_bounds function was deprecated in Matplotlib 3.2 and will be removed two minor releases later.\n",
      "  self.ax.spines['left'].set_smart_bounds(True)\n",
      "C:\\ProgramData\\Anaconda3\\lib\\site-packages\\sympy\\plotting\\plot.py:917: MatplotlibDeprecationWarning: \n",
      "The set_smart_bounds function was deprecated in Matplotlib 3.2 and will be removed two minor releases later.\n",
      "  self.ax.spines['bottom'].set_smart_bounds(False)\n"
     ]
    },
    {
     "data": {
      "text/plain": [
       "<Figure size 640x480 with 1 Axes>"
      ]
     },
     "metadata": {},
     "output_type": "display_data"
    }
   ],
   "source": [
    "style.use('seaborn-darkgrid')\n",
    "p = sp.plot(iL, vC, (t,0,0.025), ylim = (-8,4), show=False, legend=True)\n",
    "p[0].line_color = 'red'\n",
    "p[1].line_color = 'blue'\n",
    "p[0].label = 'iL(t)'\n",
    "p[1].label = 'vC(t)'\n",
    "p.show()"
   ]
  },
  {
   "cell_type": "code",
   "execution_count": 10,
   "metadata": {},
   "outputs": [
    {
     "name": "stdout",
     "output_type": "stream",
     "text": [
      "ts = 1.70e-03 s\n",
      "vC(ts) = -7.37 V\n"
     ]
    }
   ],
   "source": [
    "# define a equação dvC/dt = 0\n",
    "eq1 = sp.Eq(sp.diff(vC, t),0)   \n",
    "\n",
    "# resolve a equação em t\n",
    "ts = sp.solveset(eq1, t).args[0]\n",
    "\n",
    "# calcula o valor de vC(t) para t = ts\n",
    "vC_ts = vC.evalf(subs={t:ts})\n",
    "\n",
    "print('ts = %.2e s'%ts)\n",
    "print('vC(ts) = %.2f V'%vC_ts)"
   ]
  },
  {
   "cell_type": "markdown",
   "metadata": {},
   "source": [
    "Resolução item (c):"
   ]
  },
  {
   "cell_type": "code",
   "execution_count": 11,
   "metadata": {},
   "outputs": [
    {
     "name": "stdout",
     "output_type": "stream",
     "text": [
      "α = 166.67 rad/s\n",
      "ω0 = 577.35 rad/s\n"
     ]
    }
   ],
   "source": [
    "# Parâmetros do circuito:\n",
    "R = 6\n",
    "L = 6e-3\n",
    "C = 0.5e-3\n",
    "\n",
    "# calculando α e ω0\n",
    "α  = 1/(2*R*C)\n",
    "ω0 = 1/np.sqrt(L*C)\n",
    "\n",
    "print('α = %.2f rad/s'%α)\n",
    "print('ω0 = %.2f rad/s'%ω0)"
   ]
  },
  {
   "cell_type": "code",
   "execution_count": 12,
   "metadata": {},
   "outputs": [],
   "source": [
    "# informações obtidas pela análise do circuito\n",
    "iL_inf = 0  # valor final da corrente no indutor\n",
    "iL_t0 = 2   # valor inicial da corrente no indutor\n",
    "vc_t0 = 0   # valor inicial da tensão no capcitor\n",
    "\n",
    "t0 = 0 # instante do chaveamento"
   ]
  },
  {
   "cell_type": "code",
   "execution_count": 13,
   "metadata": {},
   "outputs": [
    {
     "name": "stdout",
     "output_type": "stream",
     "text": [
      "iL(t) =  (B1*cos(552.77*t) + B2*sin(552.77*t))*exp(-166.67*t)  A\n"
     ]
    }
   ],
   "source": [
    "# define a frequência de oscilação amortecida\n",
    "ωd =np.sqrt(ω0**2-α**2)\n",
    "\n",
    "# define variáveis da solução geral\n",
    "t, B1, B2 = sp.symbols('t,B1,B2')\n",
    "\n",
    "# expressão geral da resposta subamortecida\n",
    "iL = sp.exp(-α*(t-t0))*(B1*sp.cos(ωd*(t-t0)) + B2*sp.sin(ωd*(t-t0))) + iL_inf\n",
    "\n",
    "print('iL(t) = ', round_expr(iL,2), ' A')"
   ]
  },
  {
   "cell_type": "code",
   "execution_count": 14,
   "metadata": {},
   "outputs": [
    {
     "name": "stdout",
     "output_type": "stream",
     "text": [
      "Solução do sistema:\n",
      "\n",
      " B1 = 2.00 A,\n",
      " B2 = 0.60 A\n"
     ]
    }
   ],
   "source": [
    "# define os sistema de equações com as condições iniciais\n",
    "eq1 = sp.Eq(   B1 + iL_inf, iL_t0)             \n",
    "eq2 = sp.Eq(-α*B1 + ωd*B2,  vc_t0/L)  \n",
    "\n",
    "# resolve o sistema\n",
    "soluc = sp.solve((eq1, eq2), dict=True)\n",
    "B1 = np.array([sol[B1] for sol in soluc])\n",
    "B2 = np.array([sol[B2] for sol in soluc])\n",
    "\n",
    "B1 = B1[0]\n",
    "B2 = B2[0]\n",
    "\n",
    "print('Solução do sistema:\\n\\n B1 = %.2f A,\\n B2 = %.2f A' %(round(B1,2), round(B2,2)))"
   ]
  },
  {
   "cell_type": "code",
   "execution_count": 15,
   "metadata": {},
   "outputs": [
    {
     "name": "stdout",
     "output_type": "stream",
     "text": [
      "iL(t) =  (0.6*sin(552.77*t) + 2.0*cos(552.77*t))*exp(-166.67*t)  A\n"
     ]
    }
   ],
   "source": [
    "# expressão geral da resposta subamortecida\n",
    "iL = sp.exp(-α*(t-t0))*(B1*sp.cos(ωd*(t-t0))+B2*sp.sin(ωd*(t-t0))) + iL_inf\n",
    "\n",
    "print('iL(t) = ', round_expr(iL,2), ' A')"
   ]
  },
  {
   "cell_type": "code",
   "execution_count": 16,
   "metadata": {},
   "outputs": [
    {
     "name": "stdout",
     "output_type": "stream",
     "text": [
      "vC(t) =  -7.24*exp(-166.67*t)*sin(552.77*t)  V\n"
     ]
    }
   ],
   "source": [
    "# tensão aplicada sobre o capacitor (= tensão sobre o indutor)\n",
    "vC = L*sp.diff(iL, t)\n",
    "vC = sp.simplify(vC)\n",
    "\n",
    "print('vC(t) = ', round_expr(vC, 2), ' V')"
   ]
  },
  {
   "cell_type": "code",
   "execution_count": 17,
   "metadata": {},
   "outputs": [
    {
     "data": {
      "image/png": "[encoded data removed]",
      "text/plain": [
       "<Figure size 432x288 with 1 Axes>"
      ]
     },
     "metadata": {
      "needs_background": "light"
     },
     "output_type": "display_data"
    }
   ],
   "source": [
    "#style.use('seaborn-darkgrid')\n",
    "p = sp.plot(iL, vC, (t,0,0.050), ylim = (-6,4), show=False, legend=True)\n",
    "p[0].line_color = 'red'\n",
    "p[1].line_color = 'blue'\n",
    "p[0].label = 'iL(t)'\n",
    "p[1].label = 'vC(t)'\n",
    "p.show()"
   ]
  },
  {
   "cell_type": "markdown",
   "metadata": {},
   "source": [
    "## Circuito RLC em série"
   ]
  },
  {
   "cell_type": "markdown",
   "metadata": {},
   "source": [
    "<img src=\"./figures/J12C1.png\" width=\"800\">\n",
    "\n",
    "### Aplicação das Leis de Kirchhoff \n",
    "\n",
    "$$\\begin{align}\n",
    "   v_R + v_L + v_C &= v_s\\\\\n",
    "   R i + L\\frac{d i}{dt}+v_C &= v_s\\nonumber\\\\\n",
    "   R\\left[C\\frac{dv_C}{dt}\\right] + L\\frac{d}{dt}\\left[C\\frac{dv_C}{dt} \\right] + v_C &= v_s\\nonumber\\\\\n",
    "    \\frac{d^{2} v_{\\mathrm{C}}}{d t^{2}}+\\frac{R}{L} \\frac{d v_{\\mathrm{C}}}{d t}+\\frac{1}{L C}   v_{\\mathrm{C}} &=\\frac{v_{\\mathrm{s}}}{LC}\n",
    "   \\end{align} \n",
    "$$\n",
    "\n",
    "com $ \\alpha = \\frac{R}{2L}$ e $\\omega_0 = \\frac{1}{\\sqrt{LC}}$, temos\n",
    "\n",
    "$$ \\begin{equation}\\label{EDO2} \\frac{d^{2} v_{\\mathrm{C}}}{d t^{2}}+2\\alpha \\frac{d v_{\\mathrm{C}}}{d t}+\\omega_0^2 v_{\\mathrm{C}}=v_{\\mathrm{s}}\\omega_0^2 \\end{equation} $$\n",
    "\n",
    "A equação \\ref{EDO2} é uma EDO de segunda ordem, linear e de coeficientes constantes.\n",
    "\n",
    "Equação característica:\n",
    "\n",
    "$$\\begin{equation} s^2+2\\alpha s + \\omega_0^2=0 \\end{equation}$$\n",
    "\n",
    "Raízes da equação característica:\n",
    "\n",
    "$$\n",
    "\\begin{align}\n",
    "s_1 &=-\\alpha +\\sqrt{\\alpha^2-\\omega_0^2}\\\\\n",
    "s_2 &=-\\alpha -\\sqrt{\\alpha^2-\\omega_0^2}\n",
    "\\end{align}\n",
    "$$"
   ]
  },
  {
   "cell_type": "markdown",
   "metadata": {},
   "source": [
    "### Resposta total \n",
    "\n",
    "A resposta transiente de circuitos RLC em série, seja ela natural ($v_C(\\infty)=0$) ou ao degrau ($v_C(\\infty)=v_s$), pode ser classificada nas três casos seguintes. Em todos os casos, assume-se que o transiente teve início no instante $t_0$ (instante do chaveamento).\n",
    "\n",
    "#### Caso superamortecido ($\\alpha>\\omega_0\\Rightarrow \\text{raízes reais e distintas}$):\n",
    "\n",
    "Solução geral da EDO:\n",
    "\n",
    "$$\\begin{equation} v_{\\mathrm{C}}(t) =A_{1} e^{s_{1} (t-t_0)}+A_{2} e^{s_{2} (t-t_0)}+v_{\\mathrm{C}}(\\infty) \\end{equation}$$\n",
    "\n",
    "Condições iniciais para $v_{\\mathrm{C}}(t)$:\n",
    "\n",
    "$$\n",
    "\\begin{align}\n",
    "v_{\\mathrm{C}}(t_0^+) &=A_1 + A_2 + v_{\\mathrm{C}}(\\infty)\\\\\n",
    "\\frac{dv_{\\mathrm{C}}(t_0^+)}{dt} &=s_1A_1 + s_2A_2 = \\frac{1}{C} i_{\\mathrm{L}}(t_0^+)\n",
    "\\end{align}\n",
    "$$\n",
    "\n",
    "Solução do sistema em $A_1$ e $A_2$:\n",
    "\n",
    "$$\n",
    "\\begin{align}\n",
    "A_{1} &=\\frac{\\frac{1}{C} i_{\\mathrm{L}}(t_0^+)-s_{2}\\left[v_{\\mathrm{C}}(t_0^+)-v_{\\mathrm{C}}(\\infty)\\right]}{s_{1}-s_{2}} \\\\\n",
    "A_{2} &=\\frac{-\\frac{1}{C} i_{\\mathrm{L}}(t_0^+)+s_{1}\\left[v_{\\mathrm{C}}(t_0^+)-v_{\\mathrm{C}}(\\infty)\\right]}{s_{1}-s_{2}}\n",
    "\\end{align}\n",
    "$$"
   ]
  },
  {
   "cell_type": "markdown",
   "metadata": {},
   "source": [
    "#### Caso subamortecido ($\\alpha<\\omega_0\\Rightarrow \\text{raízes complexas e conjugadas}$):\n",
    "\n",
    "Fazendo $\\omega_d = \\sqrt{\\omega_0^2-\\alpha^2}$ temos $s_1 = -\\alpha +j\\omega_d$ e $s_2 = -\\alpha -j\\omega_d$.\n",
    "\n",
    "Solução geral da EDO:\n",
    "\n",
    "$$\\begin{equation} v_{\\mathrm{C}}(t) = e^{-\\alpha(t-t_0)}\\left\\lbrace B_{1}\\cos[\\omega_d (t-t_0)] + B_{2}\\sin[\\omega_d (t-t_0)]  \\right\\rbrace + v_{\\mathrm{C}}(\\infty) \\end{equation}$$\n",
    "\n",
    "Condições iniciais para $v_{\\mathrm{C}}(t)$:\n",
    "\n",
    "$$\n",
    "\\begin{align}\n",
    "v_{\\mathrm{C}}(t_0^+) &=B_1 + v_{\\mathrm{C}}(\\infty)\\\\\n",
    "\\frac{dv_{\\mathrm{C}}(t_0^+)}{dt} &= -\\alpha B_1 +\\omega_d B_2 = \\frac{1}{C} i_{\\mathrm{L}}(t_0^+)\n",
    "\\end{align}\n",
    "$$\n",
    "\n",
    "Solução do sistema em $B_1$ e $B_2$:\n",
    "\n",
    "$$\n",
    "\\begin{align}\n",
    "B_{1} &=v_{\\mathrm{C}}(t_0^+)-v_{\\mathrm{C}}(\\infty) \\\\\n",
    "B_{2} &=\\frac{\\frac{1}{C} i_{\\mathrm{L}}(t_0^+)+\\alpha\\left[v_{\\mathrm{C}}(t_0^+)-v_{\\mathrm{C}}(\\infty)\\right]}{\\omega_d}\n",
    "\\end{align}\n",
    "$$"
   ]
  },
  {
   "cell_type": "markdown",
   "metadata": {},
   "source": [
    "#### Caso criticamente amortecido ($\\alpha=\\omega_0\\Rightarrow \\text{raízes reais e idênticas } s_1=s_2=-\\alpha$):\n",
    "\n",
    "Solução geral da EDO:\n",
    "\n",
    "$$ \\begin{equation} v_{\\mathrm{C}}(t) =D_{1} e^{-\\alpha(t-t_0)}+D_{2}(t-t_0) e^{-\\alpha(t-t_0)}+v_{\\mathrm{C}}(\\infty) \\end{equation}$$\n",
    "\n",
    "Condições iniciais para $v_{\\mathrm{C}}(t)$:\n",
    "\n",
    "$$\n",
    "\\begin{align}\n",
    "v_{\\mathrm{C}}(t_0^+) &=D_1 + v_{\\mathrm{C}}(\\infty)\\\\\n",
    "\\frac{dv_{\\mathrm{C}}(t_0^+)}{dt} &=-\\alpha D_1 + D_2 = \\frac{1}{C} i_{\\mathrm{L}}(t_0^+)\n",
    "\\end{align}\n",
    "$$\n",
    "\n",
    "Solução do sistema em $D_1$ e $D_2$:\n",
    "\n",
    "$$\n",
    "\\begin{align}\n",
    "D_{1} &=v_{\\mathrm{C}}(t_0^+)-v_{\\mathrm{C}}(\\infty) \\\\\n",
    "D_{2} &= \\frac{1}{C} i_{\\mathrm{L}}(t_0^+)+\\alpha\\left[v_{\\mathrm{C}}(t_0^+)-v_{\\mathrm{C}}(\\infty)\\right]\n",
    "\\end{align}\n",
    "$$"
   ]
  },
  {
   "cell_type": "markdown",
   "metadata": {},
   "source": [
    "### Problema 2\n",
    "\n",
    "No circuito da figura a seguir, a chave $ch1$ estive aberta por um longo intervalo de tempo antes de fechar, no instante $t_0=0$s.\n",
    "\n",
    "<img src=\"./figures/J12C4.png\" width=\"500\">\n",
    "\n",
    "a. Para qual valor de $R_x$ o circuito exibe uma resposta criticamente amortecida para $t\\geq 0^+$?\\\n",
    "b. Considerando que $R_x$ vale exatamente o valor calculado em (a), determine a tensão sobre o capacitor $v_C(t)$ para $t\\geq 0^+$.\\\n",
    "c. Considerando que $R_x$ vale um décimo do valor calculado em (a), determine a tensão sobre o capacitor $v_C(t)$ para $t\\geq 0^+$.\n",
    "\n",
    "Link para a simulação deste circuito: https://tinyurl.com/yjgkkzhu"
   ]
  },
  {
   "cell_type": "markdown",
   "metadata": {},
   "source": [
    "Resolução item (a):"
   ]
  },
  {
   "cell_type": "code",
   "execution_count": null,
   "metadata": {},
   "outputs": [],
   "source": [
    "# Parâmetros do circuito:\n",
    "R =\n",
    "L = \n",
    "C = \n",
    "\n",
    "# calculando α e ω0\n",
    "α  = \n",
    "ω0 = 1/np.sqrt(L*C)\n",
    "\n",
    "print('α = %.2f rad/s'%α)\n",
    "print('ω0 = %.2f rad/s'%ω0)"
   ]
  },
  {
   "cell_type": "code",
   "execution_count": 4,
   "metadata": {},
   "outputs": [],
   "source": [
    "# informações obtidas pela análise do circuito\n",
    "vC_inf =   # valor final da tensão sobre o capacitor\n",
    "iL_t0 =    # valor inicial da corrente no indutor\n",
    "vC_t0 =    # valor inicial da tensão sobre o capacitor\n",
    "\n",
    "t0 = 0 # instante do chaveamento"
   ]
  },
  {
   "cell_type": "code",
   "execution_count": null,
   "metadata": {},
   "outputs": [],
   "source": [
    "# raízes da equação característica\n",
    "s1 = -α\n",
    "s2 = -α\n",
    "\n",
    "# define variáveis da solução geral\n",
    "t, D1, D2 = sp.symbols('t, D1, D2')\n",
    "\n",
    "# expressão geral da resposta \n",
    "vC = D1*sp.exp(s1*(t-t0)) + D2*(t-t0)*sp.exp(s2*(t-t0)) + vC_inf\n",
    "\n",
    "print('vC(t) = ', round_expr(vC,2), ' V')"
   ]
  },
  {
   "cell_type": "code",
   "execution_count": null,
   "metadata": {},
   "outputs": [],
   "source": [
    "# define os sistema de equações com as condições iniciais\n",
    "eq1 = sp.Eq()             \n",
    "eq2 = sp.Eq()  \n",
    "\n",
    "# resolve o sistema\n",
    "soluc = sp.solve((eq1, eq2), dict=True)\n",
    "D1 = np.array([sol[D1] for sol in soluc])\n",
    "D2 = np.array([sol[D2] for sol in soluc])\n",
    "\n",
    "D1 = D1[0]\n",
    "D2 = D2[0]\n",
    "\n",
    "print('Solução do sistema:\\n\\n D1 = %.2f V,\\n D2 = %.2f V/s' %(round(A1,2), round(A2,2)))"
   ]
  },
  {
   "cell_type": "code",
   "execution_count": null,
   "metadata": {},
   "outputs": [],
   "source": [
    "# expressão geral da resposta \n",
    "vC = D1*sp.exp(s1*(t-t0)) + D2*(t-t0)*sp.exp(s2*(t-t0)) + vC_inf\n",
    "\n",
    "print('vC(t) = ', round_expr(vC,2), ' V')"
   ]
  },
  {
   "cell_type": "code",
   "execution_count": null,
   "metadata": {},
   "outputs": [],
   "source": [
    "# corrente passando pelo indutor\n",
    "iL = C*sp.diff(vC, t)\n",
    "\n",
    "print('iL(t) = ', round_expr(iL, 2), ' A')"
   ]
  },
  {
   "cell_type": "code",
   "execution_count": null,
   "metadata": {},
   "outputs": [],
   "source": [
    "#style.use('seaborn-darkgrid')\n",
    "p = sp.plot(iL, vC, (t,0,0.050), ylim = (-6,4), show=False, legend=True)\n",
    "p[0].line_color = 'red'\n",
    "p[1].line_color = 'blue'\n",
    "p[0].label = 'iL(t)'\n",
    "p[1].label = 'vC(t)'\n",
    "p.show()"
   ]
  }
 ],
 "metadata": {
  "jupytext": {
   "formats": "ipynb,auto:light"
  },
  "kernelspec": {
   "display_name": "Python 3",
   "language": "python",
   "name": "python3"
  },
  "language_info": {
   "codemirror_mode": {
    "name": "ipython",
    "version": 3
   },
   "file_extension": ".py",
   "mimetype": "text/x-python",
   "name": "python",
   "nbconvert_exporter": "python",
   "pygments_lexer": "ipython3",
   "version": "3.7.4"
  },
  "toc": {
   "base_numbering": 1,
   "nav_menu": {},
   "number_sections": true,
   "sideBar": true,
   "skip_h1_title": true,
   "title_cell": "Table of Contents",
   "title_sidebar": "Contents",
   "toc_cell": true,
   "toc_position": {
    "height": "calc(100% - 180px)",
    "left": "10px",
    "top": "150px",
    "width": "200.475px"
   },
   "toc_section_display": true,
   "toc_window_display": true
  }
 },
 "nbformat": 4,
 "nbformat_minor": 2
}
