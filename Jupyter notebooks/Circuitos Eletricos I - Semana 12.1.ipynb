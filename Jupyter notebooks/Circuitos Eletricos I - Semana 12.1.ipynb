{
 "cells": [
  {
   "cell_type": "code",
   "execution_count": 1,
   "metadata": {},
   "outputs": [
    {
     "data": {
      "text/html": [
       "\n",
       "<style>\n",
       ".output_png {\n",
       "    display: table-cell;\n",
       "    text-align: center;\n",
       "    vertical-align: middle;\n",
       "}\n",
       "</style>\n"
      ],
      "text/plain": [
       "<IPython.core.display.HTML object>"
      ]
     },
     "execution_count": 1,
     "metadata": {},
     "output_type": "execute_result"
    }
   ],
   "source": [
    "from IPython.core.display import HTML\n",
    "HTML(\"\"\"\n",
    "<style>\n",
    ".output_png {\n",
    "    display: table-cell;\n",
    "    text-align: center;\n",
    "    vertical-align: middle;\n",
    "}\n",
    "</style>\n",
    "\"\"\")"
   ]
  },
  {
   "cell_type": "markdown",
   "metadata": {},
   "source": [
    "# *Circuitos Elétricos I - Semana 12.1*"
   ]
  },
  {
   "cell_type": "code",
   "execution_count": 2,
   "metadata": {},
   "outputs": [],
   "source": [
    "import matplotlib.pyplot as plt\n",
    "import numpy as np\n",
    "import sympy as sp\n",
    "from utils import round_expr, symdisp, symplot\n",
    "\n",
    "from sympy.polys.partfrac import apart\n",
    "\n",
    "# temp workaround\n",
    "import warnings\n",
    "from matplotlib import MatplotlibDeprecationWarning\n",
    "warnings.filterwarnings('ignore', category=MatplotlibDeprecationWarning)\n",
    "\n",
    "plt.rcParams['figure.figsize'] = 6, 4\n",
    "plt.rcParams['legend.fontsize'] = 13\n",
    "plt.rcParams['lines.linewidth'] = 2\n",
    "plt.rcParams['axes.grid'] = False"
   ]
  },
  {
   "cell_type": "code",
   "execution_count": 3,
   "metadata": {},
   "outputs": [],
   "source": [
    "# transformada de Laplace\n",
    "def L(f,t,s):\n",
    "    return sp.laplace_transform(f, t, s, noconds=True)\n",
    "\n",
    "# transformada inversa de Laplace\n",
    "def invL(F,s,t):\n",
    "    return sp.re(sp.inverse_laplace_transform(F, s, t, noconds=True))\n",
    "\n",
    "# funções para auxílio na expansão em frações parciais\n",
    "def adjustCoeff(expr):    \n",
    "    coeff = expr.as_numer_denom()\n",
    "    c0 = sp.poly(coeff[1].cancel()).coeffs()[0]\n",
    "    \n",
    "    return (coeff[0].cancel()/c0)/(coeff[1].cancel()/c0)\n",
    "\n",
    "def partFrac(expr, Ndigits):\n",
    "    expr = expr.cancel()\n",
    "    expr = apart(adjustCoeff(expr), s, full=True).doit()\n",
    "    \n",
    "    return sp.N(expr, Ndigits)\n",
    "\n",
    "sp.init_printing()"
   ]
  },
  {
   "cell_type": "markdown",
   "metadata": {},
   "source": [
    "#### Definindo algumas variáveis simbólicas de interesse"
   ]
  },
  {
   "cell_type": "code",
   "execution_count": 4,
   "metadata": {},
   "outputs": [],
   "source": [
    "s     = sp.symbols('s')\n",
    "a     = sp.symbols('a', real=True, positive=True)\n",
    "omega, t = sp.symbols('omega, t', real=True)\n",
    "infty = sp.oo"
   ]
  },
  {
   "cell_type": "markdown",
   "metadata": {},
   "source": [
    "### Problema 1\n",
    "\n",
    "O circuito da figura a seguir está em regime estacionário no momento em que chave é aberta. Sabe-se que $v(t)=\\mathrm{12\\;V}$\n",
    "\n",
    "<img src=\"./figures/J15C1.png\" width=\"600\">\n",
    "\n",
    "a. Determine $I_0(s)$ e $I_1(s)$.\\\n",
    "b. Verifique a consistência das respostas do item a. com os teoremas do valor inicial e do valor final.\\\n",
    "c. Determine a função de transferência $H_0(s)$ entre $V(s)$ e $I_0(s)$.\\\n",
    "d. Determine a função de transferência $H_1(s)$ entre $V(s)$ e $I_1(s)$.\\\n",
    "e. Determine a função de transferência $H_c(s)$ entre $V(s)$ e $V_c(s)$.\\\n",
    "f. Determine a $v_c(t)$ para o caso em que a tensão aplicada $v(t)$ em $\\mathrm{V}$ corresponde ao gráfico a seguir:\n",
    "\n",
    "<img src=\"./figures/J15Fig1.png\" width=\"400\">"
   ]
  },
  {
   "cell_type": "markdown",
   "metadata": {},
   "source": [
    "a. Determinando $I_0(s)$ e $I_1(s)$:"
   ]
  },
  {
   "cell_type": "code",
   "execution_count": null,
   "metadata": {},
   "outputs": [],
   "source": [
    "I0, I1, s = sp.symbols('I0, I1, s')\n",
    "\n",
    "# define os sistema de equações\n",
    "eq1 = sp.Eq((-2*s**2)*I0 + (2*s**2 + 10*s + 250)*I1, 2.4*s + 12)             \n",
    "eq2 = sp.Eq((4*s+50)*I0 -2*s*I1, -2.4)  \n",
    "\n",
    "# resolve o sistema\n",
    "soluc = sp.solve([eq1, eq2],[I0, I1], dict=True)\n",
    "soluc\n",
    "\n",
    "I0 = [sol[I0] for sol in soluc]\n",
    "I1 = [sol[I1] for sol in soluc]\n",
    "\n",
    "I0 = I0[0]\n",
    "I1 = I1[0]\n",
    "\n",
    "print('Correntes no domínio de Laplace: \\n')\n",
    "symdisp('I_0(s) =', I0, 'As')\n",
    "symdisp('I_1(s) =', I1, 'As')"
   ]
  },
  {
   "cell_type": "markdown",
   "metadata": {},
   "source": [
    "b. Checando a consistência das soluções\n",
    "\n",
    "**Teorema do valor inicial (TVI)**\n",
    "\n",
    "$$\n",
    "f(0^+) = \\lim_{t \\to 0^+}f(t) = \\lim_{s \\to \\infty}sF(s)\n",
    "$$\n"
   ]
  },
  {
   "cell_type": "code",
   "execution_count": null,
   "metadata": {},
   "outputs": [],
   "source": [
    "i0_0_tvi = sp.limit(s*I0, s, infty)\n",
    "i1_0_tvi = sp.limit(s*I1, s, infty)\n",
    "\n",
    "\n",
    "symdisp('i_0(0^+) = ', i0_0_tvi, ' A' )\n",
    "symdisp('i_1(0^+) = ', i1_0_tvi, ' A' )"
   ]
  },
  {
   "cell_type": "markdown",
   "metadata": {},
   "source": [
    "**Teorema do valor final (TVF)**\n",
    "\n",
    "$$\n",
    "f(\\infty) = \\lim_{t \\to \\infty}f(t) = \\lim_{s \\to 0}sF(s)\n",
    "$$\n",
    "\n"
   ]
  },
  {
   "cell_type": "code",
   "execution_count": null,
   "metadata": {},
   "outputs": [],
   "source": [
    "i0_inf_tvf = sp.limit(s*I0, s, 0)\n",
    "i1_inf_tvf = sp.limit(s*I1, s, 0)\n",
    "\n",
    "\n",
    "symdisp('i_0(\\infty) = ', i0_inf_tvf, ' A' )\n",
    "symdisp('i_1(\\infty) = ', i1_inf_tvf, ' A' )"
   ]
  },
  {
   "cell_type": "code",
   "execution_count": null,
   "metadata": {},
   "outputs": [],
   "source": [
    "C = 4e-3  # F\n",
    "\n",
    "# Calculando Vc\n",
    "Vc = (1/(s*C)*I1)\n",
    "\n",
    "Vc = Vc.simplify()\n",
    "\n",
    "symdisp('V_c(s) =', adjustCoeff(Vc).simplify(), 'Vs')"
   ]
  },
  {
   "cell_type": "code",
   "execution_count": null,
   "metadata": {},
   "outputs": [],
   "source": [
    "np.roots([1, 35, 375, 3125, 0])"
   ]
  },
  {
   "cell_type": "code",
   "execution_count": null,
   "metadata": {},
   "outputs": [],
   "source": [
    "vc = invL(partFrac(Vc, 4), s, t)\n",
    "\n",
    "symdisp('v_c(t) = ', vc, ' V')"
   ]
  },
  {
   "cell_type": "code",
   "execution_count": null,
   "metadata": {},
   "outputs": [],
   "source": [
    "# plota funções no domínio do tempo\n",
    "intervalo = np.arange(-1, 4, 0.01)\n",
    "symplot(t, vc, intervalo, 'vc(t)')"
   ]
  },
  {
   "cell_type": "markdown",
   "metadata": {},
   "source": [
    "c-e) Determinando $H_0(s)$, $H_0(s)$ e $H_c(s)$."
   ]
  },
  {
   "cell_type": "code",
   "execution_count": null,
   "metadata": {},
   "outputs": [],
   "source": [
    "V = 12/s\n",
    "\n",
    "H0 = I0/V\n",
    "\n",
    "symdisp('H_0(s) =', H0,)"
   ]
  },
  {
   "cell_type": "code",
   "execution_count": null,
   "metadata": {},
   "outputs": [],
   "source": [
    "H1 = I1/V\n",
    "H1 = adjustCoeff(H1)\n",
    "\n",
    "symdisp('H_1(s) =', H1,)"
   ]
  },
  {
   "cell_type": "code",
   "execution_count": null,
   "metadata": {},
   "outputs": [],
   "source": [
    "Hc = Vc/V\n",
    "Hc = adjustCoeff(Hc)\n",
    "\n",
    "symdisp('H_c(s) =', Hc,)"
   ]
  },
  {
   "cell_type": "markdown",
   "metadata": {},
   "source": [
    "f. $v_c(t)=?$"
   ]
  },
  {
   "cell_type": "code",
   "execution_count": null,
   "metadata": {},
   "outputs": [],
   "source": [
    "v = 2*(sp.Heaviside(t)-sp.Heaviside(t-1)) - 1*(sp.Heaviside(t-1)-sp.Heaviside(t-2))\n",
    "\n",
    "symdisp('v(t) =', v, ' V')\n",
    "\n",
    "# plota funções no domínio do tempo\n",
    "intervalo = np.arange(-1, 3, 0.01)\n",
    "symplot(t, v1, intervalo, 'v(t)')"
   ]
  },
  {
   "cell_type": "code",
   "execution_count": null,
   "metadata": {},
   "outputs": [],
   "source": [
    "# determina Vc(s) via função de transferência\n",
    "Vc = Hc*V1\n",
    "\n",
    "symdisp('V_c(s) =', Vc.simplify(), ' Vs')"
   ]
  },
  {
   "cell_type": "code",
   "execution_count": null,
   "metadata": {},
   "outputs": [],
   "source": [
    "# função auxiliar Va(s)\n",
    "Va = (25*s**2 + 875*s + 3125)/(s**4 + 35*s**3 + 375*s**2 + 3125*s)\n",
    "Va = partFrac(Va, 10)\n",
    "\n",
    "# encontra va(t)\n",
    "va = invL(Va, s, t)\n",
    "va = va.expand()\n",
    "\n",
    "symdisp('V_a(s) =', Va , ' Vs')\n",
    "symdisp('v_a(t) =', va, ' V')"
   ]
  },
  {
   "cell_type": "code",
   "execution_count": null,
   "metadata": {},
   "outputs": [],
   "source": [
    "vc = 2*va - 3*va.subs({t:sp.UnevaluatedExpr(t-1)}) + va.subs({t:sp.UnevaluatedExpr(t-2)})\n",
    "\n",
    "symdisp('v_c(t) =', vc, ' V')"
   ]
  },
  {
   "cell_type": "code",
   "execution_count": null,
   "metadata": {},
   "outputs": [],
   "source": [
    "# plota funções no domínio do tempo\n",
    "intervalo = np.arange(-1, 3, 0.01)\n",
    "symplot(t, [v, vc], intervalo, ['v(t)','vc(t)'])"
   ]
  }
 ],
 "metadata": {
  "jupytext": {
   "encoding": "# -*- coding: utf-8 -*-",
   "formats": "ipynb,py:light"
  },
  "kernelspec": {
   "display_name": "Python 3",
   "language": "python",
   "name": "python3"
  },
  "language_info": {
   "codemirror_mode": {
    "name": "ipython",
    "version": 3
   },
   "file_extension": ".py",
   "mimetype": "text/x-python",
   "name": "python",
   "nbconvert_exporter": "python",
   "pygments_lexer": "ipython3",
   "version": "3.7.4"
  },
  "toc": {
   "base_numbering": 1,
   "nav_menu": {},
   "number_sections": true,
   "sideBar": true,
   "skip_h1_title": true,
   "title_cell": "Table of Contents",
   "title_sidebar": "Contents",
   "toc_cell": true,
   "toc_position": {
    "height": "calc(100% - 180px)",
    "left": "10px",
    "top": "150px",
    "width": "200.475px"
   },
   "toc_section_display": true,
   "toc_window_display": true
  },
  "varInspector": {
   "cols": {
    "lenName": 16,
    "lenType": 16,
    "lenVar": 40
   },
   "kernels_config": {
    "python": {
     "delete_cmd_postfix": "",
     "delete_cmd_prefix": "del ",
     "library": "var_list.py",
     "varRefreshCmd": "print(var_dic_list())"
    },
    "r": {
     "delete_cmd_postfix": ") ",
     "delete_cmd_prefix": "rm(",
     "library": "var_list.r",
     "varRefreshCmd": "cat(var_dic_list()) "
    }
   },
   "types_to_exclude": [
    "module",
    "function",
    "builtin_function_or_method",
    "instance",
    "_Feature"
   ],
   "window_display": false
  }
 },
 "nbformat": 4,
 "nbformat_minor": 2
}
