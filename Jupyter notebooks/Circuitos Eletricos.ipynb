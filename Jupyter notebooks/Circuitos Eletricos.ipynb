{
 "cells": [
  {
   "cell_type": "markdown",
   "metadata": {},
   "source": [
    "# *Circuitos Elétricos I*"
   ]
  },
  {
   "cell_type": "markdown",
   "metadata": {},
   "source": [
    "## Aula 1 \n",
    "\n",
    "### Problema 1\n",
    "\n",
    "A tensão e a corrente nos terminais de um elemento ideal de dois terminais são nulas para $t < 0$. Para $t ≥ 0$, são dadas por: $v(t) = 400e^{−100t}$ V, $i(t) = 5e^{−100t}$ A. Considera-se o sentido da corrente como sendo o mesmo da queda da tensão entre os terminais.\n",
    "\n",
    "a) Determine a potência absorvida pelo elemento em $t = 10$ ms.\n",
    "\n",
    "b) Determine a energia total ($w_{total}=\\int_0^\\infty p(t)dt$) fornecida ao elemento."
   ]
  },
  {
   "cell_type": "code",
   "execution_count": 1,
   "metadata": {},
   "outputs": [
    {
     "name": "stdout",
     "output_type": "stream",
     "text": [
      "Respostas:\n",
      "a. Potência em t = 10 ms:  270.67 W\n",
      "b. Energia total =  10.0 J\n"
     ]
    }
   ],
   "source": [
    "import numpy as np\n",
    "import matplotlib.pyplot as plt\n",
    "from scipy import integrate\n",
    "\n",
    "print(\"Respostas:\")\n",
    "\n",
    "# a.\n",
    "t = 10e-3;\n",
    "\n",
    "v = 400*np.exp(-100*t)  # tensão\n",
    "i =   5*np.exp(-100*t)  # corrente\n",
    "\n",
    "p = v*i  # potência\n",
    "print(\"a. Potência em t = 10 ms: \", round(p,2), \"W\")  # valor arredondado em duas casas decimais\n",
    "\n",
    "\n",
    "# b.\n",
    "t = np.linspace(0, 0.1, num = 1000)   # tempo\n",
    "\n",
    "v = 400*np.exp(-100*t)  # tensão\n",
    "i =   5*np.exp(-100*t)  # corrente\n",
    "\n",
    "p = v*i  # potência\n",
    "\n",
    "plt.plot(t, p)\n",
    "plt.xlim(0, 0.1)\n",
    "plt.grid()\n",
    "plt.xlabel('tempo (s)')\n",
    "plt.ylabel('potência (W)')\n",
    "\n",
    "energiaTotal = integrate.trapz(p, t) # cálculo da potência total entregue ao elemento\n",
    "print(\"b. Energia total = \", round(energiaTotal,2), \"J\")  # valor da integral arredondado em duas casas decimais"
   ]
  },
  {
   "cell_type": "markdown",
   "metadata": {},
   "source": [
    "### Problema 2\n",
    "\n",
    "A tensão e a corrente nos terminais de um elemento ideal de dois terminais são nulas para $t < 0$. Para $t ≥ 0$, são dadas por: $v(t) = 400e^{−100t}\\sin(200t)$ V, $i(t) = 5e^{−100t}\\sin(200t)$ A. Considera-se o sentido da corrente como sendo o mesmo da queda da tensão entre os terminais.\n",
    "\n",
    "a) Determine a potência absorvida pelo elemento em $t = 10$ ms.\n",
    "\n",
    "b) Determine a energia total ($w_{total}=\\int_0^\\infty p(t)dt$) fornecida ao elemento."
   ]
  },
  {
   "cell_type": "code",
   "execution_count": 2,
   "metadata": {},
   "outputs": [
    {
     "name": "stdout",
     "output_type": "stream",
     "text": [
      "Respostas:\n",
      "a. Potência em t = 10 ms:  223.8 W\n",
      "b. Energia total =  4.0 J\n"
     ]
    },
    {
     "data": {
      "image/png": "[encoded data removed]",
      "text/plain": [
       "<Figure size 432x288 with 1 Axes>"
      ]
     },
     "metadata": {
      "needs_background": "light"
     },
     "output_type": "display_data"
    }
   ],
   "source": [
    "import numpy as np\n",
    "import matplotlib.pyplot as plt\n",
    "from scipy import integrate\n",
    "\n",
    "\n",
    "print(\"Respostas:\")\n",
    "\n",
    "# a.\n",
    "t = 10e-3;\n",
    "\n",
    "v = 400*np.exp(-100*t)*np.sin(200*t)  # tensão\n",
    "i =   5*np.exp(-100*t)*np.sin(200*t)  # corrente\n",
    "\n",
    "p = v*i  # potência\n",
    "print(\"a. Potência em t = 10 ms: \", round(p,2), \"W\")  # valor arredondado em duas casas decimais\n",
    "\n",
    "\n",
    "# b.\n",
    "t = np.linspace(0, 0.1, num = 1000)   # tempo\n",
    "\n",
    "v = 400*np.exp(-100*t)*np.sin(200*t)  # tensão\n",
    "i =   5*np.exp(-100*t)*np.sin(200*t)  # corrente\n",
    "\n",
    "p = v*i  # potência\n",
    "\n",
    "plt.plot(t, p)\n",
    "plt.xlim(0, 0.1)\n",
    "plt.grid()\n",
    "plt.xlabel('tempo (s)')\n",
    "plt.ylabel('potência (W)')\n",
    "\n",
    "energiaTotal = integrate.trapz(p, t) # cálculo da potência total entregue ao elemento\n",
    "print(\"b. Energia total = \", round(energiaTotal,2), \"J\")  # valor da integral arredondado em duas casas decimais"
   ]
  },
  {
   "cell_type": "markdown",
   "metadata": {},
   "source": [
    "## Aula 2"
   ]
  },
  {
   "cell_type": "markdown",
   "metadata": {},
   "source": [
    "Exemplo do livro texto:\n",
    "\n",
    "a. Use as leis de Kirchhoff e lei de Ohm para determinar a corrente $i_0$ no circuito abaixo.\n",
    "\n",
    "b. Teste a solução para $i_0$ verificando se a potência total gerada é igual à potência total dissipada.\n",
    "\n"
   ]
  },
  {
   "cell_type": "code",
   "execution_count": 3,
   "metadata": {},
   "outputs": [
    {
     "name": "stdout",
     "output_type": "stream",
     "text": [
      "Respostas:\n",
      "a. Solução do sistema: i0 = -3.0 A, i1 = 3.0 A\n",
      "b. Potências: p120V =  360.0 W, p6A =  -900.0 W, pR1 =  90.0 W, pR2 =  450.0 W\n"
     ]
    }
   ],
   "source": [
    "import numpy as np\n",
    "\n",
    "print(\"Respostas:\")\n",
    "#a.\n",
    "\n",
    "# Fontes\n",
    "i2 = 6    #A\n",
    "V1 = 120  #V\n",
    "\n",
    "# Resistores\n",
    "R1 = 10   #Ohms\n",
    "R2 = 50   #Ohms\n",
    "\n",
    "# Equações de resolução do circuito: LKT: (I) 10*i0 + 50*i1 = 120, LKC: (II) i0 - i1 = -6 \n",
    "\n",
    "# Define o problema em termos de um sistema A*x = b\n",
    "A = np.array([[R1, R2], [1, -1]])\n",
    "b = np.array([120, -i2])    \n",
    "\n",
    "x = np.linalg.solve(A, b) # resolve o sistema de equações lineares\n",
    "\n",
    "i0 = x[0]\n",
    "i1 = x[1]\n",
    "\n",
    "print(\"a. Solução do sistema: i0 =\", round(x[0],2), \"A, i1 =\", round(x[1],2), \"A\")  # Solução do sistema\n",
    "\n",
    "#b. \n",
    "\n",
    "p120V = -V1*i0\n",
    "p6A   = -(R2*i1)*i2\n",
    "pR1   = R1*i0**2\n",
    "pR2   = R2*i1**2\n",
    "\n",
    "print( \"b. Potências: p120V = \", p120V, \"W, p6A = \", p6A, \"W, pR1 = \", pR1, \"W, pR2 = \", pR2, \"W\")"
   ]
  },
  {
   "cell_type": "code",
   "execution_count": null,
   "metadata": {},
   "outputs": [],
   "source": []
  }
 ],
 "metadata": {
  "kernelspec": {
   "display_name": "Python 3",
   "language": "python",
   "name": "python3"
  },
  "language_info": {
   "codemirror_mode": {
    "name": "ipython",
    "version": 3
   },
   "file_extension": ".py",
   "mimetype": "text/x-python",
   "name": "python",
   "nbconvert_exporter": "python",
   "pygments_lexer": "ipython3",
   "version": "3.7.4"
  }
 },
 "nbformat": 4,
 "nbformat_minor": 2
}
