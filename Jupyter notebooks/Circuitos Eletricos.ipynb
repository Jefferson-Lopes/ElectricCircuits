{
 "cells": [
  {
   "cell_type": "markdown",
   "metadata": {},
   "source": [
    "# *Circuitos Elétricos I*"
   ]
  },
  {
   "cell_type": "markdown",
   "metadata": {},
   "source": [
    "## Aula 1 \n",
    "\n",
    "### Problema 1\n",
    "\n",
    "A tensão e a corrente nos terminais de um elemento ideal de dois terminais são nulas para $t < 0$. Para $t ≥ 0$, são dadas por: $v(t) = 400e^{−100t}$ V, $i(t) = 5e^{−100t}$ A. Considera-se o sentido da corrente como sendo o mesmo da queda da tensão entre os terminais.\n",
    "\n",
    "a) Determine a potência absorvida pelo elemento em $t = 10$ ms.\n",
    "\n",
    "b) Determine a energia total ($w_{total}=\\int_0^\\infty p(t)dt$) fornecida ao elemento."
   ]
  },
  {
   "cell_type": "code",
   "execution_count": 5,
   "metadata": {},
   "outputs": [
    {
     "name": "stdout",
     "output_type": "stream",
     "text": [
      "Respostas:\n",
      "a. Potência em t = 10 ms:  270.67 W\n",
      "b. Energia total =  10.0 J\n"
     ]
    },
    {
     "data": {
      "image/png": "[encoded data removed]",
      "text/plain": [
       "<Figure size 432x288 with 1 Axes>"
      ]
     },
     "metadata": {
      "needs_background": "light"
     },
     "output_type": "display_data"
    }
   ],
   "source": [
    "import numpy as np\n",
    "import matplotlib.pyplot as plt\n",
    "from scipy import integrate\n",
    "\n",
    "print(\"Respostas:\")\n",
    "\n",
    "# a.\n",
    "t = 10e-3;\n",
    "\n",
    "v = 400*np.exp(-100*t)  # tensão\n",
    "i =   5*np.exp(-100*t)  # corrente\n",
    "\n",
    "p = v*i  # potência\n",
    "print(\"a. Potência em t = 10 ms: \", round(p,2), \"W\")  # valor arredondado em duas casas decimais\n",
    "\n",
    "\n",
    "# b.\n",
    "t = np.linspace(0, 0.1, num = 1000)   # tempo\n",
    "\n",
    "v = 400*np.exp(-100*t)  # tensão\n",
    "i =   5*np.exp(-100*t)  # corrente\n",
    "\n",
    "p = v*i  # potência\n",
    "\n",
    "plt.plot(t, p)\n",
    "plt.xlim(0, 0.1)\n",
    "plt.grid()\n",
    "plt.xlabel('tempo (s)')\n",
    "plt.ylabel('potência (W)')\n",
    "\n",
    "energiaTotal = integrate.trapz(p, t) # cálculo da potência total entregue ao elemento\n",
    "print(\"b. Energia total = \", round(energiaTotal,2), \"J\")  # valor da integral arredondado em duas casas decimais"
   ]
  },
  {
   "cell_type": "markdown",
   "metadata": {},
   "source": [
    "### Problema 2\n",
    "\n",
    "A tensão e a corrente nos terminais de um elemento ideal de dois terminais são nulas para $t < 0$. Para $t ≥ 0$, são dadas por: $v(t) = 400e^{−100t}\\sin(200t)$ V, $i(t) = 5e^{−100t}\\sin(200t)$ A. Considera-se o sentido da corrente como sendo o mesmo da queda da tensão entre os terminais.\n",
    "\n",
    "a) Determine a potência absorvida pelo elemento em $t = 10$ ms.\n",
    "\n",
    "b) Determine a energia total ($w_{total}=\\int_0^\\infty p(t)dt$) fornecida ao elemento."
   ]
  },
  {
   "cell_type": "code",
   "execution_count": 6,
   "metadata": {},
   "outputs": [
    {
     "name": "stdout",
     "output_type": "stream",
     "text": [
      "Respostas:\n",
      "a. Potência em t = 10 ms:  223.8 W\n",
      "b. Energia total =  4.0 J\n"
     ]
    },
    {
     "data": {
      "image/png": "[encoded data removed]",
      "text/plain": [
       "<Figure size 432x288 with 1 Axes>"
      ]
     },
     "metadata": {
      "needs_background": "light"
     },
     "output_type": "display_data"
    }
   ],
   "source": [
    "import numpy as np\n",
    "import matplotlib.pyplot as plt\n",
    "from scipy import integrate\n",
    "\n",
    "\n",
    "print(\"Respostas:\")\n",
    "\n",
    "# a.\n",
    "t = 10e-3;\n",
    "\n",
    "v = 400*np.exp(-100*t)*np.sin(200*t)  # tensão\n",
    "i =   5*np.exp(-100*t)*np.sin(200*t)  # corrente\n",
    "\n",
    "p = v*i  # potência\n",
    "print(\"a. Potência em t = 10 ms: \", round(p,2), \"W\")  # valor arredondado em duas casas decimais\n",
    "\n",
    "\n",
    "# b.\n",
    "t = np.linspace(0, 0.1, num = 1000)   # tempo\n",
    "\n",
    "v = 400*np.exp(-100*t)*np.sin(200*t)  # tensão\n",
    "i =   5*np.exp(-100*t)*np.sin(200*t)  # corrente\n",
    "\n",
    "p = v*i  # potência\n",
    "\n",
    "plt.plot(t, p)\n",
    "plt.xlim(0, 0.1)\n",
    "plt.grid()\n",
    "plt.xlabel('tempo (s)')\n",
    "plt.ylabel('potência (W)')\n",
    "\n",
    "energiaTotal = integrate.trapz(p, t) # cálculo da potência total entregue ao elemento\n",
    "print(\"b. Energia total = \", round(energiaTotal,2), \"J\")  # valor da integral arredondado em duas casas decimais"
   ]
  },
  {
   "cell_type": "code",
   "execution_count": null,
   "metadata": {},
   "outputs": [],
   "source": []
  }
 ],
 "metadata": {
  "kernelspec": {
   "display_name": "Python 3",
   "language": "python",
   "name": "python3"
  },
  "language_info": {
   "codemirror_mode": {
    "name": "ipython",
    "version": 3
   },
   "file_extension": ".py",
   "mimetype": "text/x-python",
   "name": "python",
   "nbconvert_exporter": "python",
   "pygments_lexer": "ipython3",
   "version": "3.7.4"
  }
 },
 "nbformat": 4,
 "nbformat_minor": 2
}
