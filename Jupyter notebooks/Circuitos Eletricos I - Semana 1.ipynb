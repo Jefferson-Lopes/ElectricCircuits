{
 "cells": [
  {
   "cell_type": "markdown",
   "metadata": {},
   "source": [
    "# *Circuitos Elétricos I*"
   ]
  },
  {
   "cell_type": "markdown",
   "metadata": {},
   "source": [
    "## Semana 1 - Convenções para aplicação das Leis de Kirchhoff na análise de circuitos resistivos\n",
    "\n",
    "### Caso 1"
   ]
  },
  {
   "cell_type": "code",
   "execution_count": null,
   "metadata": {
    "scrolled": true
   },
   "outputs": [],
   "source": [
    "from IPython.display import Image\n",
    "Image(\"J1C1.png\", width=500)"
   ]
  },
  {
   "cell_type": "markdown",
   "metadata": {},
   "source": [
    "#### Lei de Kirchhoff das tensões (LKT) \n",
    "\n",
    "Em qualquer malha frechada do circuito $\\sum_k v_k = 0$\n",
    "\n",
    "`Convenção arbitrária: ao percorrer a malha, escolha um sinal (+ ou -) para indicar aumentos de tensão e o sinal oposto para indicar quedas de tensão no somatório da LKT.`\n",
    "\n",
    "$$ \n",
    "\\begin{align}\n",
    "-10 + v_1 + v_2 &= 0\\\\\n",
    "-v_2 + v_3 + v_4 &= 0\n",
    "\\end{align}\n",
    "$$"
   ]
  },
  {
   "cell_type": "markdown",
   "metadata": {},
   "source": [
    "#### Lei de Kirchhoff das correntes (LKC)\n",
    "\n",
    "Em qualquer nó do circuito $\\sum_k i_k = 0$\n",
    "\n",
    "`Convenção arbitrária: para o nó em questão, escolha um sinal (+ ou -) para indicar correntes chegando ao nó e o sinal oposto para indicar correntes deixando o nó no somatório da LKT.`\n",
    "\n",
    "ou, para evitar erros com troca de sinais, simplesmente faça\n",
    "\n",
    "`Somatório das correntes chegando ao nó igual ao somatório das correntes deixando o nó.`\n",
    "\n",
    "$$ \n",
    "\\begin{align}\n",
    "i_1 &= i_2 + i_3\\\\\n",
    "i_3 &= -0.5~A\n",
    "\\end{align}\n",
    "$$"
   ]
  },
  {
   "cell_type": "markdown",
   "metadata": {},
   "source": [
    "#### Lei de Ohm (+convenção passiva):\n",
    "\n",
    "$$ \n",
    "\\begin{align}\n",
    "v_1 &= 10i_1\\\\\n",
    "v_2 &= 50i_2\\\\\n",
    "v_3 &= 20i_3\n",
    "\\end{align}\n",
    "$$"
   ]
  },
  {
   "cell_type": "markdown",
   "metadata": {},
   "source": [
    "Logo:\n",
    "\n",
    "$$ \n",
    "\\begin{align}\n",
    "-10 + 10i_1 + 50i_2 &= 0\\\\\n",
    "-50i_2 -10 + v_4 &= 0\\\\\n",
    "i_1 - i_2 &= -0.5\n",
    "\\end{align}\n",
    "$$\n",
    "\n",
    "Rearranjando as equações:\n",
    "\n",
    "$$ \n",
    "\\begin{align}\n",
    " 10i_1 + 50i_2 &= 10\\\\\n",
    "-50i_2 + v_4 &= 10\\\\\n",
    "i_1 - i_2 &= -0.5\n",
    "\\end{align}\n",
    "$$"
   ]
  },
  {
   "cell_type": "markdown",
   "metadata": {},
   "source": [
    "### Solução das equações"
   ]
  },
  {
   "cell_type": "code",
   "execution_count": null,
   "metadata": {},
   "outputs": [],
   "source": [
    "import sympy as sp\n",
    "import numpy as np"
   ]
  },
  {
   "cell_type": "code",
   "execution_count": null,
   "metadata": {},
   "outputs": [],
   "source": [
    "# define as N variáveis desconhecidas\n",
    "i1, i2, v4 = sp.symbols('i1, i2, v4')\n",
    "\n",
    "# define os sistema de N equações\n",
    "eq1 = sp.Eq( 10*i1 + 50*i2, 10)             \n",
    "eq2 = sp.Eq(    i1 -    i2, -0.5)  \n",
    "eq3 = sp.Eq(-50*i2 +    v4, 10)\n",
    "\n",
    "# resolve o sistema\n",
    "soluc = sp.solve((eq1, eq2, eq3), dict=True)\n",
    "\n",
    "i1 = np.array([sol[i1] for sol in soluc])\n",
    "i2 = np.array([sol[i2] for sol in soluc]) \n",
    "v4 = np.array([sol[v4] for sol in soluc]) \n",
    "i3 = -0.5\n",
    "\n",
    "print('Solução do sistema:\\n\\n i1 = %.2f A,\\n i2 = %.2f A,\\n i3 = %.2f A,\\n v4 = %.2f V.' %(i1, i2, i3, v4))"
   ]
  },
  {
   "cell_type": "markdown",
   "metadata": {},
   "source": [
    "#### Cálculo das potências"
   ]
  },
  {
   "cell_type": "code",
   "execution_count": null,
   "metadata": {},
   "outputs": [],
   "source": [
    "# expressões para a Lei de Ohm (convenção passiva)\n",
    "v1 = 10*i1\n",
    "v2 = 50*i2\n",
    "v3 = 20*i3\n",
    "\n",
    "# expressões para as potências (convenção passiva)\n",
    "p10V = -10*i1\n",
    "p1   =  v1*i1\n",
    "p2   =  v2*i2\n",
    "p3   =  v3*i3\n",
    "p4   =  v4*i3\n",
    "\n",
    "print('Potências:\\n\\n p10V = %.2f W\\n p1 = %.2f W,\\n p2 = %.2f W,\\n p3 = %.2f W,\\n p4 = %.2f W\\n' %(p10V, p1, p2, p3, p4))"
   ]
  },
  {
   "cell_type": "code",
   "execution_count": null,
   "metadata": {},
   "outputs": [],
   "source": [
    "# calcula somatório das potências\n",
    "print('Somatório das potências : %.2f W\\n' %(p10V+p1+p2+p3+p4))"
   ]
  },
  {
   "cell_type": "markdown",
   "metadata": {},
   "source": [
    "### Caso 2"
   ]
  },
  {
   "cell_type": "code",
   "execution_count": null,
   "metadata": {},
   "outputs": [],
   "source": [
    "Image(\"J1C2.png\", width=500)"
   ]
  },
  {
   "cell_type": "code",
   "execution_count": null,
   "metadata": {},
   "outputs": [],
   "source": [
    "# define as N variáveis desconhecidas\n",
    "i1, i2, v4 = sp.symbols('i1, i2, v4')\n",
    "\n",
    "# define os sistema de N equações\n",
    "eq1 = sp.Eq( 10*i1 - 50*i2, 10)             \n",
    "eq2 = sp.Eq(    i1 +    i2, -0.5)  \n",
    "eq3 = sp.Eq( 50*i2 +    v4, 10)\n",
    "\n",
    "# resolve o sistema\n",
    "soluc = sp.solve((eq1, eq2, eq3), dict=True)\n",
    "\n",
    "i1 = np.array([sol[i1] for sol in soluc])\n",
    "i2 = np.array([sol[i2] for sol in soluc]) \n",
    "v4 = np.array([sol[v4] for sol in soluc]) \n",
    "i3 = 0.5\n",
    "\n",
    "print('Solução do sistema:\\n\\n i1 = %.2f A,\\n i2 = %.2f A,\\n i3 = %.2f A,\\n v4 = %.2f V.' %(i1, i2, i3, v4))"
   ]
  },
  {
   "cell_type": "code",
   "execution_count": null,
   "metadata": {},
   "outputs": [],
   "source": [
    "# expressões para a Lei de Ohm (convenção passiva)\n",
    "v1 = 10*i1\n",
    "v2 = -50*i2\n",
    "v3 = -20*i3\n",
    "\n",
    "# expressões para as potências (convenção passiva)\n",
    "p10V = -10*i1\n",
    "p1   =  v1*i1\n",
    "p2   =  -v2*i2\n",
    "p3   =  -v3*i3\n",
    "p4   =  -v4*i3\n",
    "\n",
    "print('Potências:\\n\\n p10V = %.2f W\\n p1 = %.2f W,\\n p2 = %.2f W,\\n p3 = %.2f W,\\n p4 = %.2f W\\n' %(p10V, p1, p2, p3, p4))"
   ]
  },
  {
   "cell_type": "markdown",
   "metadata": {},
   "source": [
    "### Caso 3"
   ]
  },
  {
   "cell_type": "code",
   "execution_count": null,
   "metadata": {},
   "outputs": [],
   "source": [
    "Image(\"J1C3.png\", width=500)"
   ]
  }
 ],
 "metadata": {
  "kernelspec": {
   "display_name": "Python 3",
   "language": "python",
   "name": "python3"
  },
  "language_info": {
   "codemirror_mode": {
    "name": "ipython",
    "version": 3
   },
   "file_extension": ".py",
   "mimetype": "text/x-python",
   "name": "python",
   "nbconvert_exporter": "python",
   "pygments_lexer": "ipython3",
   "version": "3.7.4"
  },
  "toc": {
   "base_numbering": 1,
   "nav_menu": {},
   "number_sections": true,
   "sideBar": true,
   "skip_h1_title": true,
   "title_cell": "Table of Contents",
   "title_sidebar": "Contents",
   "toc_cell": true,
   "toc_position": {},
   "toc_section_display": true,
   "toc_window_display": true
  }
 },
 "nbformat": 4,
 "nbformat_minor": 2
}
